{
 "cells": [
  {
   "cell_type": "markdown",
   "id": "75d3086d",
   "metadata": {},
   "source": [
    "## Q1. What exactly is [ ]?\n",
    "\n",
    "## Answer: \n",
    "\n",
    "#### This is the square bracket used in Python to define list literals and declare a list and its content in the program."
   ]
  },
  {
   "cell_type": "code",
   "execution_count": 163,
   "id": "b9e4d06f",
   "metadata": {},
   "outputs": [
    {
     "name": "stdout",
     "output_type": "stream",
     "text": [
      "[]\n",
      "<class 'list'>\n",
      "-------------\n",
      "[1, 2, 3, 4, 5]\n",
      "<class 'list'>\n"
     ]
    }
   ],
   "source": [
    "emp_num=[]\n",
    "print(emp_num)\n",
    "print(type(emp_num))\n",
    "print('-------------')\n",
    "\n",
    "num=[1,2,3,4,5]\n",
    "print(num)\n",
    "print(type(num))"
   ]
  },
  {
   "cell_type": "markdown",
   "id": "f503297a",
   "metadata": {},
   "source": [
    "## Q2. In a list of values stored in a variable called spam, how would you assign the value 'hello' as the third value? (Assume [2, 4, 6, 8, 10] are in spam.)\n",
    "\n",
    "## Answer: \n",
    "\n",
    "#### We can access items in the list using indexing. This is the simplest and easiest method to replace values in a list in Python. I'll use list indexing and assign the third value as 'hello'. An example is below:"
   ]
  },
  {
   "cell_type": "code",
   "execution_count": 164,
   "id": "1bf23009",
   "metadata": {},
   "outputs": [
    {
     "name": "stdout",
     "output_type": "stream",
     "text": [
      "[2, 4, 6, 8, 10]\n",
      "[2, 4, 'hello', 8, 10]\n"
     ]
    }
   ],
   "source": [
    "spam=[2,4,6,8,10]\n",
    "print(spam)\n",
    "\n",
    "# assigning third value as 'hellow'\n",
    "spam[2]='hello'\n",
    "print(spam)"
   ]
  },
  {
   "cell_type": "markdown",
   "id": "215f2d67",
   "metadata": {},
   "source": [
    "## Q3. spam= ['a', 'b', 'c','d'] - What is the value of spam[int(int('3' * 2) / 11)]? \n",
    "\n",
    "## Answer: \n",
    "\n",
    "#### Output is 'd'"
   ]
  },
  {
   "cell_type": "code",
   "execution_count": 165,
   "id": "1cc26007",
   "metadata": {},
   "outputs": [
    {
     "data": {
      "text/plain": [
       "'d'"
      ]
     },
     "execution_count": 165,
     "metadata": {},
     "output_type": "execute_result"
    }
   ],
   "source": [
    "spam=['a','b','c','d']\n",
    "spam[int(int('3'*2)/11)]"
   ]
  },
  {
   "cell_type": "markdown",
   "id": "78f8facb",
   "metadata": {},
   "source": [
    "## Q4. spam= ['a', 'b', 'c','d'] - What is the value of spam[-1]? \n",
    "\n",
    "## Answer: \n",
    "\n",
    "#### Output is 'd'"
   ]
  },
  {
   "cell_type": "code",
   "execution_count": 166,
   "id": "a8e65470",
   "metadata": {},
   "outputs": [
    {
     "data": {
      "text/plain": [
       "'d'"
      ]
     },
     "execution_count": 166,
     "metadata": {},
     "output_type": "execute_result"
    }
   ],
   "source": [
    "spam=['a','b','c','d']\n",
    "spam[-1]"
   ]
  },
  {
   "cell_type": "markdown",
   "id": "53b10913",
   "metadata": {},
   "source": [
    "## Q5. spam= ['a', 'b', 'c','d'] - What is the value of spam[:2]? \n",
    "\n",
    "## Answer: \n",
    "\n",
    "#### Output is ['a', 'b']"
   ]
  },
  {
   "cell_type": "code",
   "execution_count": 167,
   "id": "e482780a",
   "metadata": {},
   "outputs": [
    {
     "data": {
      "text/plain": [
       "['a', 'b']"
      ]
     },
     "execution_count": 167,
     "metadata": {},
     "output_type": "execute_result"
    }
   ],
   "source": [
    "spam=['a','b','c','d']\n",
    "spam[:2]"
   ]
  },
  {
   "cell_type": "markdown",
   "id": "325d656d",
   "metadata": {},
   "source": [
    "## Q6. bacon=[3.14, 'cat', 11, 'cat',True] - What is the value of bacon.index('cat')? \n",
    "\n",
    "## Answer: \n",
    "\n",
    "#### Output is 1 as it always pick the first matching value index"
   ]
  },
  {
   "cell_type": "code",
   "execution_count": 168,
   "id": "18ceb6ae",
   "metadata": {},
   "outputs": [
    {
     "data": {
      "text/plain": [
       "1"
      ]
     },
     "execution_count": 168,
     "metadata": {},
     "output_type": "execute_result"
    }
   ],
   "source": [
    "bacon=[3.14,'cat',11,'cat',True]\n",
    "bacon.index('cat')"
   ]
  },
  {
   "cell_type": "markdown",
   "id": "a87c5953",
   "metadata": {},
   "source": [
    "## Q7. bacon=[3.14, 'cat', 11, 'cat',True] - How does bacon.append(99) change the look of the list value in bacon?\n",
    "\n",
    "## Answer: \n",
    "\n",
    "#### append function will add the value 99 at the end and increase the length of the bacon list by 1, and the list will look like the example below."
   ]
  },
  {
   "cell_type": "code",
   "execution_count": 169,
   "id": "373c75e1",
   "metadata": {},
   "outputs": [
    {
     "name": "stdout",
     "output_type": "stream",
     "text": [
      "bacon: [3.14, 'cat', 11, 'cat', True]  ||  length:  5\n",
      "bacon: [3.14, 'cat', 11, 'cat', True, 99]  ||  length:  6\n"
     ]
    }
   ],
   "source": [
    "# Example - \n",
    "bacon=[3.14,'cat',11,'cat',True]\n",
    "print('bacon:',bacon,\" || \" ,'length: ',len(bacon))\n",
    "bacon.append(99)\n",
    "print('bacon:',bacon,\" || \" ,'length: ',len(bacon))"
   ]
  },
  {
   "cell_type": "markdown",
   "id": "09da495c",
   "metadata": {},
   "source": [
    "## Q8. bacon=[3.14, 'cat', 11, 'cat',True] - How does bacon.remove('cat') change the look of the list in bacon?\n",
    "\n",
    "## Answer: \n",
    "\n",
    "#### The remove function will remove the first matching value 'cat' from the list and decrease the length of the list by 1, and the list will look like the example below."
   ]
  },
  {
   "cell_type": "code",
   "execution_count": 170,
   "id": "4e07bf9b",
   "metadata": {},
   "outputs": [
    {
     "name": "stdout",
     "output_type": "stream",
     "text": [
      "bacon: [3.14, 'cat', 11, 'cat', True]  ||  length:  5\n",
      "bacon: [3.14, 11, 'cat', True]  ||  length:  4\n"
     ]
    }
   ],
   "source": [
    "# Example - \n",
    "bacon=[3.14,'cat',11,'cat',True]\n",
    "print('bacon:',bacon,\" || \" ,'length: ',len(bacon))\n",
    "bacon.remove('cat')\n",
    "print('bacon:',bacon,\" || \" ,'length: ',len(bacon))"
   ]
  },
  {
   "cell_type": "markdown",
   "id": "2d131a39",
   "metadata": {},
   "source": [
    "## Q9. What are the list concatenation and list replication operators?\n",
    "\n",
    "## Answer: \n",
    "\n",
    "#### In python program, operator for list concatenation is +, and for list replication *."
   ]
  },
  {
   "cell_type": "code",
   "execution_count": 171,
   "id": "4e6f0821",
   "metadata": {},
   "outputs": [
    {
     "name": "stdout",
     "output_type": "stream",
     "text": [
      "[1, 2, 3, 4, 5, 6]\n",
      "[1, 2, 3, 4, 5, 6, 1, 2, 3, 4, 5, 6, 1, 2, 3, 4, 5, 6]\n"
     ]
    }
   ],
   "source": [
    "# example for list concatenation\n",
    "a=[1,2,3]\n",
    "b=[4,5,6]\n",
    "c = a+b\n",
    "print(c)\n",
    "\n",
    "# example for list replication,\n",
    "d= c*3\n",
    "print(d)"
   ]
  },
  {
   "cell_type": "markdown",
   "id": "29e50ad8",
   "metadata": {},
   "source": [
    "## Q10. What is difference between the list methods append() and insert()?\n",
    "\n",
    "## Answer:\n",
    "\n",
    "#### Difference betwee append() and insert() function are - \n",
    "\n",
    "#### 1. The element passed in the append method as an argument is appended to the end of the list, whereas the element passed as the argument in the insert method can be inserted at any desired position by passing the index along with it as a parameter.\n",
    "#### 2. Both methods append without any change as a single element, but append add to end, whereas insert to the desired position in a list.\n",
    "#### 3. Both methods increases length of the list by 1 \n",
    "#### 4. append() has a constant time complexity of O(1), whereas insert() has a linear complexity of O(n)."
   ]
  },
  {
   "cell_type": "code",
   "execution_count": 172,
   "id": "05d0ccbb",
   "metadata": {},
   "outputs": [
    {
     "name": "stdout",
     "output_type": "stream",
     "text": [
      "------append------\n",
      "[1, 2, 3, 4]\n",
      "[1, 2, 3, 4, 5]\n",
      "[1, 2, 3, 4, 5, 6]\n",
      "------insert------\n",
      "[1, 2, 3, 4]\n",
      "[1, 2, 3, 55, 4]\n",
      "[1, 44, 2, 3, 55, 4]\n"
     ]
    }
   ],
   "source": [
    "# example append\n",
    "print(\"------append------\")\n",
    "a=[1,2,3,4]\n",
    "print(a)\n",
    "a.append(5)\n",
    "print(a)\n",
    "a.append(6)\n",
    "print(a)\n",
    "\n",
    "# example insert\n",
    "print(\"------insert------\")\n",
    "a=[1,2,3,4]\n",
    "print(a)\n",
    "a.insert(3,55)\n",
    "print(a)\n",
    "a.insert(1,44)\n",
    "print(a)"
   ]
  },
  {
   "cell_type": "markdown",
   "id": "3cd72195",
   "metadata": {},
   "source": [
    "## Q11. What are the two methods for removing items from a list?\n",
    "\n",
    "## Answer: \n",
    "\n",
    "#### methods pop() and remove() can be used for removing items from a list."
   ]
  },
  {
   "cell_type": "code",
   "execution_count": 173,
   "id": "0c005f64",
   "metadata": {},
   "outputs": [
    {
     "name": "stdout",
     "output_type": "stream",
     "text": [
      "[1, 2, 3, 4, 5, 6, 7, 8]\n",
      "[1, 2, 3, 4, 5, 6]\n",
      "[1, 3, 4, 6]\n"
     ]
    }
   ],
   "source": [
    "# Example \n",
    "a=[1,2,3,4,5,6,7,8]\n",
    "print(a)\n",
    "a.pop()\n",
    "a.pop()\n",
    "print(a)\n",
    "a.remove(5)\n",
    "a.remove(2)\n",
    "print(a)"
   ]
  },
  {
   "cell_type": "markdown",
   "id": "ce48d4e8",
   "metadata": {},
   "source": [
    "## Q12. Describe how list values and string values are identical.\n",
    "\n",
    "## Answer: \n",
    "\n",
    "#### The similarity between Lists and Strings in Python is that both are sequences. The differences between them are that firstly, Lists are mutable but Strings are immutable. Secondly, elements of a list can be of different types whereas a String only contains characters that are all of String type."
   ]
  },
  {
   "cell_type": "markdown",
   "id": "edc95f77",
   "metadata": {},
   "source": [
    "## Q13. What's the difference between tuples and lists?\n",
    "\n",
    "## Answer: \n",
    "\n",
    "#### Difference between tuples and list:\n",
    "#### Tuples:  \n",
    "Tuples are immutable. Tuples are defined and declared using parentheses ( ). The implication of iterations is comparatively faster than list. Tuple consumes less memory as compared to the list. Tuple does not have many built-in methods.\n",
    "\n",
    "#### List:  \n",
    "Lists are mutable. Lists are defined and declared using square bracket [ ]. The implication of iterations is comparatively time-consuming. List consumes more memory as compared to the tuples. Lists have several built-in methods."
   ]
  },
  {
   "cell_type": "code",
   "execution_count": null,
   "id": "9e19ebcf",
   "metadata": {},
   "outputs": [],
   "source": []
  },
  {
   "cell_type": "markdown",
   "id": "ad02400d",
   "metadata": {},
   "source": [
    "## Q14. How do you type a tuple value that only contains the integer 42?\n",
    "\n",
    "## Answer:  \n",
    "\n",
    "#### To create a tuple in Python with a single value, need to include a trailing comma after the value to indicate that it's a tuple. Here is how i can type a tuple with the integer 42.\n",
    "\n",
    "#### my_tuple = (42,)"
   ]
  },
  {
   "cell_type": "code",
   "execution_count": 174,
   "id": "d5223e8c",
   "metadata": {},
   "outputs": [
    {
     "name": "stdout",
     "output_type": "stream",
     "text": [
      "(42,)\n"
     ]
    }
   ],
   "source": [
    "my_tuple = (42,)\n",
    "print(my_tuple)"
   ]
  },
  {
   "cell_type": "markdown",
   "id": "3744ff0e",
   "metadata": {},
   "source": [
    "## Q15. How do you get a list value's tuple form? How do you get a tuple value's list form?\n",
    "\n",
    "## Answer: \n",
    "\n",
    "#### I'll convert from tuple to list using the in-build list() function, and similarly, from list to tuple by the tuple() function. There are other ways also through comprehension or loop. "
   ]
  },
  {
   "cell_type": "code",
   "execution_count": 175,
   "id": "0e87b46a",
   "metadata": {},
   "outputs": [
    {
     "name": "stdout",
     "output_type": "stream",
     "text": [
      "<class 'tuple'> (1, 2, 3, 4, 5, 6)\n",
      "<class 'list'> [1, 2, 3, 4, 5, 6]\n"
     ]
    }
   ],
   "source": [
    "# from tuple to list\n",
    "my_tuple = (1,2,3,4,5,6)\n",
    "print(type(my_tuple), my_tuple)\n",
    "\n",
    "my_list=list(my_tuple)\n",
    "print(type(my_list),my_list)"
   ]
  },
  {
   "cell_type": "code",
   "execution_count": 176,
   "id": "886440dd",
   "metadata": {},
   "outputs": [
    {
     "name": "stdout",
     "output_type": "stream",
     "text": [
      "<class 'list'> [1, 2, 3, 4, 5]\n",
      "<class 'tuple'> (1, 2, 3, 4, 5)\n"
     ]
    }
   ],
   "source": [
    "# from list to tuple\n",
    "my_list=[1,2,3,4,5]\n",
    "print(type(my_list),my_list)\n",
    "\n",
    "my_tuple = tuple(my_list)\n",
    "print(type(my_tuple), my_tuple)"
   ]
  },
  {
   "cell_type": "markdown",
   "id": "8af7a321",
   "metadata": {},
   "source": [
    "## Q16. Variables that \"contain\" list values are not necessarily lists themselves. Instead, what do they contain?\n",
    "\n",
    "## Answer: \n",
    "\n",
    "#### In Python, variables that \"contain\" list values actually contain references to lists. When you assign a list to a variable, the variable holds a reference to the memory location where the list is stored. This means that the variable doesn't directly store the list's values, it stores the location in memory where the list is stored."
   ]
  },
  {
   "cell_type": "code",
   "execution_count": 177,
   "id": "bda5a548",
   "metadata": {},
   "outputs": [
    {
     "name": "stdout",
     "output_type": "stream",
     "text": [
      "2035015865152 [1, 2, 3, 4, 5, 17]\n",
      "2035015865152 [1, 2, 3, 4, 5, 17]\n"
     ]
    }
   ],
   "source": [
    "L=[1,2,3,4,5]\n",
    "M=L\n",
    "M.append(17)\n",
    "print(id(L),L) # memory locaiton is same \n",
    "print(id(M),M) # memory locaiton is same"
   ]
  },
  {
   "cell_type": "code",
   "execution_count": 178,
   "id": "d3f14e32",
   "metadata": {},
   "outputs": [
    {
     "name": "stdout",
     "output_type": "stream",
     "text": [
      "2035017280960 [1, 2, 3, 4, 5]\n",
      "2034973330880 [1, 2, 3, 4, 5]\n"
     ]
    }
   ],
   "source": [
    "L=[1,2,3,4,5]\n",
    "M=[1,2,3,4,5]\n",
    "print(id(L),L)\n",
    "print(id(M),M)"
   ]
  },
  {
   "cell_type": "markdown",
   "id": "fe35b81f",
   "metadata": {},
   "source": [
    "## Q17. How do you distinguish between copy.copy() and copy.deepcopy()?\n",
    "\n",
    "## Answer: \n",
    "\n",
    "#### copy:  \n",
    "In Python, the copy module provides the copy() function, which is used to create a shallow copy of an object. A shallow copy means that the outer object is duplicated, but the inner objects (such as elements within a list) are still references to the same objects as the original.\n",
    "If you modify elements within copied_list, the changes will not affect the original list, but if the elements are mutable objects (e.g., lists within a list), changes to those objects will be reflected in both the original and copied lists.\n",
    "\n",
    "#### deepcopy:  \n",
    "In Python, the copy module provides a function called deepcopy() for creating deep copies of objects. A deep copy creates a new object and recursively inserts copies of the objects found in the original. This ensures that the new object is fully independent of the original, even if the original contains nested mutable objects like lists or dictionaries.\n",
    "\n",
    "#### example:"
   ]
  },
  {
   "cell_type": "code",
   "execution_count": 179,
   "id": "8b0fe256",
   "metadata": {},
   "outputs": [
    {
     "name": "stdout",
     "output_type": "stream",
     "text": [
      "original_list:  2035017148416 [1, 2, ['A', 'BB', 'C'], 4, 4]\n",
      "copied_list:  2035016621184 [1, 2, ['A', 'BB', 'C'], 4, 5]\n",
      "original_list:  2035017148416 [1, 2, ['A', 'BB', 'CCC'], 4, 4]\n",
      "copied_list:  2035016621184 [1, 2, ['A', 'BB', 'CCC'], 4, 5]\n"
     ]
    }
   ],
   "source": [
    "# Copy \n",
    "\n",
    "import copy\n",
    "original_list = [1, 2,[\"A\",\"B\",\"C\"],4]\n",
    "copied_list = copy.copy(original_list)\n",
    "\n",
    "original_list.append(4)\n",
    "copied_list.append(5)\n",
    "\n",
    "# Modify an element within the inner list\n",
    "copied_list[2][1]='BB'\n",
    "\n",
    "# Changes are reflected in the original list\n",
    "print(\"original_list: \",id(original_list),original_list)\n",
    "print(\"copied_list: \",id(copied_list),copied_list)\n",
    "\n",
    "original_list[2][2]='CCC'\n",
    "\n",
    "print(\"original_list: \",id(original_list),original_list)\n",
    "print(\"copied_list: \",id(copied_list),copied_list)"
   ]
  },
  {
   "cell_type": "code",
   "execution_count": 180,
   "id": "2d72fac3",
   "metadata": {},
   "outputs": [
    {
     "name": "stdout",
     "output_type": "stream",
     "text": [
      "original_list:  2035017240320 [1, 2, ['A', 'B', 'C'], 4, 4]\n",
      "copied_list:  2035016964544 [1, 2, ['A', 'BB', 'C'], 4, 5]\n",
      "original_list:  2035017240320 [1, 2, ['A', 'B', 'CCC'], 4, 4]\n",
      "copied_list:  2035016964544 [1, 2, ['A', 'BB', 'C'], 4, 5]\n"
     ]
    }
   ],
   "source": [
    "# deepcopy \n",
    "\n",
    "import copy\n",
    "original_list = [1, 2,[\"A\",\"B\",\"C\"],4]\n",
    "copied_list=copy.deepcopy(original_list)\n",
    "\n",
    "original_list.append(4)\n",
    "copied_list.append(5)\n",
    "\n",
    "# Modify an element within the inner list\n",
    "copied_list[2][1]='BB'\n",
    "\n",
    "# Changes are reflected in the original list\n",
    "print(\"original_list: \",id(original_list),original_list)\n",
    "print(\"copied_list: \",id(copied_list),copied_list)\n",
    "\n",
    "original_list[2][2]='CCC'\n",
    "\n",
    "print(\"original_list: \",id(original_list),original_list)\n",
    "print(\"copied_list: \",id(copied_list),copied_list)"
   ]
  },
  {
   "cell_type": "code",
   "execution_count": null,
   "id": "7e443f08",
   "metadata": {},
   "outputs": [],
   "source": []
  }
 ],
 "metadata": {
  "kernelspec": {
   "display_name": "Python 3 (ipykernel)",
   "language": "python",
   "name": "python3"
  },
  "language_info": {
   "codemirror_mode": {
    "name": "ipython",
    "version": 3
   },
   "file_extension": ".py",
   "mimetype": "text/x-python",
   "name": "python",
   "nbconvert_exporter": "python",
   "pygments_lexer": "ipython3",
   "version": "3.10.9"
  }
 },
 "nbformat": 4,
 "nbformat_minor": 5
}
