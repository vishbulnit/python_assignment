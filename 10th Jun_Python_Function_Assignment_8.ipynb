{
 "cells": [
  {
   "cell_type": "markdown",
   "id": "5b846258",
   "metadata": {},
   "source": [
    "## Q.1.  In Python, what is the difference between a built-in function and a user-defined function? Provide an example of each.\n",
    "\n",
    "## Answer:\n",
    "\n",
    "#### Python Built-In Function: \n",
    "Python built-in functions are pre-defined functions in Python that come with the Python installation. Pre-defined functions in different libraries are also built-in functions. We can directly use these functions in python program as per our requirement.\n",
    "\n",
    "#### Python User-Defined Function: \n",
    "A Python user-defined function is a function that the user defines to solve a particular problem statement. This is not pre-defined in a Python program; the user explicitly defines it as per requirement. \n",
    "\n",
    "\n",
    "### Example:"
   ]
  },
  {
   "cell_type": "code",
   "execution_count": 5,
   "id": "d7d79ee6",
   "metadata": {},
   "outputs": [
    {
     "name": "stdout",
     "output_type": "stream",
     "text": [
      "10\n",
      "10\n",
      "55\n"
     ]
    }
   ],
   "source": [
    "# max(), sum(), len(), print() -  these are python pre-defined function which can directly be used\n",
    "\n",
    "L1=[1,2,3,4,5,6,7,8,9,10]\n",
    "print(max(L1))\n",
    "print(len(L1))\n",
    "print(sum(L1))\n"
   ]
  },
  {
   "cell_type": "code",
   "execution_count": 6,
   "id": "d0ce677a",
   "metadata": {},
   "outputs": [],
   "source": [
    "# user defined function to check if given number is even or odd\n",
    "\n",
    "def check_odd_even(num):\n",
    "    if num % 2 == 0:\n",
    "        print(f\"Given number {num} is even number.\")\n",
    "    else:\n",
    "        print(f\"Given number {num} is odd number\")"
   ]
  },
  {
   "cell_type": "code",
   "execution_count": 11,
   "id": "d9baee5a",
   "metadata": {},
   "outputs": [
    {
     "name": "stdout",
     "output_type": "stream",
     "text": [
      "Given number 11 is odd number\n"
     ]
    }
   ],
   "source": [
    "check_odd_even(11)"
   ]
  },
  {
   "cell_type": "code",
   "execution_count": 12,
   "id": "82939fe8",
   "metadata": {},
   "outputs": [
    {
     "name": "stdout",
     "output_type": "stream",
     "text": [
      "Given number 110 is even number.\n"
     ]
    }
   ],
   "source": [
    "check_odd_even(110)"
   ]
  },
  {
   "cell_type": "markdown",
   "id": "cae13da4",
   "metadata": {},
   "source": [
    "## Q.2.  How can you pass arguments to a function in Python? Explain the difference between positional arguments and keyword arguments.\n",
    "\n",
    "## Answer:\n",
    "Arguments are specified after the function name, inside the parentheses. You can add as many arguments as you want, just separate them with a comma.\n",
    "\n",
    "#### Positional Argument: \n",
    "Inside parentheses, while passing arguments to function, if order matters, then it falls under the category of positional argument. If we change the position of the argument, then the output differs, or we may get an unexpected result or sometimes an error.\n",
    "\n",
    "#### Keyword Argument:\n",
    "Inside parentheses, while passing arguments to function, if order does not matter, then it falls under the category of keyword argument. We pass the argument using the name of the argument followed by an equal sign and the value of the argument. If we change the position of the argument, then output remains the same; output does not change.\n",
    "\n",
    "### Example: "
   ]
  },
  {
   "cell_type": "code",
   "execution_count": 29,
   "id": "8126f1b0",
   "metadata": {},
   "outputs": [],
   "source": [
    "## there are three arguments and its position matters\n",
    "\n",
    "def num_sum(operation,a,b):\n",
    "    if operation.lower()=='sum':\n",
    "        c= a+b\n",
    "        return c\n",
    "    elif operation.lower()=='sub':\n",
    "        c= a-b\n",
    "        return c\n",
    "    elif operation.lower()=='mul':\n",
    "        c= a*b\n",
    "        return c\n",
    "    elif operation.lower()=='div':\n",
    "        c= a/b\n",
    "        return c"
   ]
  },
  {
   "cell_type": "code",
   "execution_count": 30,
   "id": "fd6249b1",
   "metadata": {},
   "outputs": [
    {
     "data": {
      "text/plain": [
       "98"
      ]
     },
     "execution_count": 30,
     "metadata": {},
     "output_type": "execute_result"
    }
   ],
   "source": [
    "num_sum('sum',28,70) # arguments passed in order, running successful"
   ]
  },
  {
   "cell_type": "code",
   "execution_count": 31,
   "id": "bbd6ec8e",
   "metadata": {},
   "outputs": [
    {
     "ename": "AttributeError",
     "evalue": "'int' object has no attribute 'lower'",
     "output_type": "error",
     "traceback": [
      "\u001b[1;31m---------------------------------------------------------------------------\u001b[0m",
      "\u001b[1;31mAttributeError\u001b[0m                            Traceback (most recent call last)",
      "Cell \u001b[1;32mIn[31], line 1\u001b[0m\n\u001b[1;32m----> 1\u001b[0m \u001b[43mnum_sum\u001b[49m\u001b[43m(\u001b[49m\u001b[38;5;241;43m28\u001b[39;49m\u001b[43m,\u001b[49m\u001b[38;5;124;43m'\u001b[39;49m\u001b[38;5;124;43mdiv\u001b[39;49m\u001b[38;5;124;43m'\u001b[39;49m\u001b[43m,\u001b[49m\u001b[38;5;241;43m70\u001b[39;49m\u001b[43m)\u001b[49m\n",
      "Cell \u001b[1;32mIn[29], line 4\u001b[0m, in \u001b[0;36mnum_sum\u001b[1;34m(operation, a, b)\u001b[0m\n\u001b[0;32m      3\u001b[0m \u001b[38;5;28;01mdef\u001b[39;00m \u001b[38;5;21mnum_sum\u001b[39m(operation,a,b):\n\u001b[1;32m----> 4\u001b[0m     \u001b[38;5;28;01mif\u001b[39;00m \u001b[43moperation\u001b[49m\u001b[38;5;241;43m.\u001b[39;49m\u001b[43mlower\u001b[49m()\u001b[38;5;241m==\u001b[39m\u001b[38;5;124m'\u001b[39m\u001b[38;5;124msum\u001b[39m\u001b[38;5;124m'\u001b[39m:\n\u001b[0;32m      5\u001b[0m         c\u001b[38;5;241m=\u001b[39m a\u001b[38;5;241m+\u001b[39mb\n\u001b[0;32m      6\u001b[0m         \u001b[38;5;28;01mreturn\u001b[39;00m c\n",
      "\u001b[1;31mAttributeError\u001b[0m: 'int' object has no attribute 'lower'"
     ]
    }
   ],
   "source": [
    "num_sum(28,'div',70) # arguments not passed in order, getting error"
   ]
  },
  {
   "cell_type": "code",
   "execution_count": 33,
   "id": "89a4d2be",
   "metadata": {},
   "outputs": [],
   "source": [
    "## there are three arguments and its position does not matters\n",
    "\n",
    "def num_sum_new(operation='sum',a=0,b=0):\n",
    "    if str(operation.lower())=='sum':\n",
    "        c= a+b\n",
    "        return c\n",
    "    elif str(operation.lower())=='sub':\n",
    "        c= a-b\n",
    "        return c\n",
    "    elif str(operation.lower())=='mul':\n",
    "        c= a*b\n",
    "        return c\n",
    "    elif str(operation.lower())=='div':\n",
    "        c= a/b\n",
    "        return c\n",
    "    else:\n",
    "        print(\"enter right input\")"
   ]
  },
  {
   "cell_type": "code",
   "execution_count": 38,
   "id": "fd6e7485",
   "metadata": {},
   "outputs": [
    {
     "data": {
      "text/plain": [
       "50"
      ]
     },
     "execution_count": 38,
     "metadata": {},
     "output_type": "execute_result"
    }
   ],
   "source": [
    "num_sum_new(operation='sub',a=100,b=50) "
   ]
  },
  {
   "cell_type": "code",
   "execution_count": 37,
   "id": "886c11e9",
   "metadata": {},
   "outputs": [
    {
     "data": {
      "text/plain": [
       "50"
      ]
     },
     "execution_count": 37,
     "metadata": {},
     "output_type": "execute_result"
    }
   ],
   "source": [
    "num_sum_new(a=100,operation='sub',b=50)  # orgument order changed, but output is same"
   ]
  },
  {
   "cell_type": "code",
   "execution_count": 39,
   "id": "54d93aa0",
   "metadata": {},
   "outputs": [
    {
     "data": {
      "text/plain": [
       "50"
      ]
     },
     "execution_count": 39,
     "metadata": {},
     "output_type": "execute_result"
    }
   ],
   "source": [
    "num_sum_new(b=50,a=100,operation='sub')  # orgument order changed, but output is same"
   ]
  },
  {
   "cell_type": "markdown",
   "id": "d5362914",
   "metadata": {},
   "source": [
    "## Q.3.  What is the purpose of the return statement in a function? Can a function have multiple return statements? Explain with an example.\n",
    "\n",
    "## Answer:\n",
    "The purpose of a return statement in a function is to return the value as an output. The output may be of any type. If the return statement is not used, then the return value will be None.\n",
    "\n",
    "Yes, a function can have multiple return statements as Python has given us the liberty and program run successfully, but it always considers the first return statement.\n",
    "\n",
    "### Example:  "
   ]
  },
  {
   "cell_type": "code",
   "execution_count": 68,
   "id": "ffe9f022",
   "metadata": {},
   "outputs": [],
   "source": [
    "def addition(a,b):\n",
    "    return a+b\n",
    "    return a-b\n",
    "    return a*b\n",
    "    return a/b"
   ]
  },
  {
   "cell_type": "code",
   "execution_count": 70,
   "id": "f760debc",
   "metadata": {},
   "outputs": [
    {
     "data": {
      "text/plain": [
       "60"
      ]
     },
     "execution_count": 70,
     "metadata": {},
     "output_type": "execute_result"
    }
   ],
   "source": [
    "addition(50,10)"
   ]
  },
  {
   "cell_type": "code",
   "execution_count": 71,
   "id": "402b576c",
   "metadata": {},
   "outputs": [
    {
     "data": {
      "text/plain": [
       "70"
      ]
     },
     "execution_count": 71,
     "metadata": {},
     "output_type": "execute_result"
    }
   ],
   "source": [
    "addition(60,10)"
   ]
  },
  {
   "cell_type": "code",
   "execution_count": 72,
   "id": "fedf6cd1",
   "metadata": {},
   "outputs": [],
   "source": [
    "def addition_1(a,b):\n",
    "    return a*b\n",
    "    return a-b\n",
    "    return a+b\n",
    "    return a/b"
   ]
  },
  {
   "cell_type": "code",
   "execution_count": 74,
   "id": "1d5fc55f",
   "metadata": {},
   "outputs": [
    {
     "data": {
      "text/plain": [
       "500"
      ]
     },
     "execution_count": 74,
     "metadata": {},
     "output_type": "execute_result"
    }
   ],
   "source": [
    "addition_1(50,10)"
   ]
  },
  {
   "cell_type": "code",
   "execution_count": 75,
   "id": "e6483166",
   "metadata": {},
   "outputs": [
    {
     "data": {
      "text/plain": [
       "50"
      ]
     },
     "execution_count": 75,
     "metadata": {},
     "output_type": "execute_result"
    }
   ],
   "source": [
    "addition_1(5,10)"
   ]
  },
  {
   "cell_type": "markdown",
   "id": "ff5ff352",
   "metadata": {},
   "source": [
    "## Q.4.  What are lambda functions in Python? How are they different from regular functions? Provide an example where a lambda function can be useful.\n",
    "\n",
    "\n",
    "## Answer:\n",
    "Lambda functions are similar to user-defined functions but without a name. They're commonly referred to as anonymous functions.\n",
    "Lambda functions are efficient whenever you want to create a function that will only contain simple expressions – that is, expressions that are usually a single line of a statement.\n",
    "\n",
    "To create a lambda function, we don't require the keywords \"def\" and \"return\" and are also not required to give a function name, which is required for creating regular functions. We can write only a single-line expression in the lambda function, but in the rugular function, we can write blocks of statements as per usecase. This is how a lambda function is different from a regular function.\n",
    "\n",
    "You should use the lambda function to create simple expressions. For example, expressions that do not include complex structures such as if-else, for-loops, and so on.\n",
    "\n",
    "### Example:"
   ]
  },
  {
   "cell_type": "code",
   "execution_count": 77,
   "id": "440552a4",
   "metadata": {},
   "outputs": [],
   "source": [
    "import pandas as pd\n",
    "\n",
    "df = pd.DataFrame(\n",
    "    {\"name\": [\"IBRAHIM\", \"SEGUN\", \"YUSUF\", \"DARE\", \"BOLA\", \"SOKUNBI\"],\n",
    "     \"score\": [50, 32, 45, 45, 23, 45]\n",
    "    }\n",
    ")"
   ]
  },
  {
   "cell_type": "code",
   "execution_count": 78,
   "id": "63764b21",
   "metadata": {},
   "outputs": [
    {
     "data": {
      "text/html": [
       "<div>\n",
       "<style scoped>\n",
       "    .dataframe tbody tr th:only-of-type {\n",
       "        vertical-align: middle;\n",
       "    }\n",
       "\n",
       "    .dataframe tbody tr th {\n",
       "        vertical-align: top;\n",
       "    }\n",
       "\n",
       "    .dataframe thead th {\n",
       "        text-align: right;\n",
       "    }\n",
       "</style>\n",
       "<table border=\"1\" class=\"dataframe\">\n",
       "  <thead>\n",
       "    <tr style=\"text-align: right;\">\n",
       "      <th></th>\n",
       "      <th>name</th>\n",
       "      <th>score</th>\n",
       "    </tr>\n",
       "  </thead>\n",
       "  <tbody>\n",
       "    <tr>\n",
       "      <th>0</th>\n",
       "      <td>IBRAHIM</td>\n",
       "      <td>50</td>\n",
       "    </tr>\n",
       "    <tr>\n",
       "      <th>1</th>\n",
       "      <td>SEGUN</td>\n",
       "      <td>32</td>\n",
       "    </tr>\n",
       "    <tr>\n",
       "      <th>2</th>\n",
       "      <td>YUSUF</td>\n",
       "      <td>45</td>\n",
       "    </tr>\n",
       "    <tr>\n",
       "      <th>3</th>\n",
       "      <td>DARE</td>\n",
       "      <td>45</td>\n",
       "    </tr>\n",
       "    <tr>\n",
       "      <th>4</th>\n",
       "      <td>BOLA</td>\n",
       "      <td>23</td>\n",
       "    </tr>\n",
       "    <tr>\n",
       "      <th>5</th>\n",
       "      <td>SOKUNBI</td>\n",
       "      <td>45</td>\n",
       "    </tr>\n",
       "  </tbody>\n",
       "</table>\n",
       "</div>"
      ],
      "text/plain": [
       "      name  score\n",
       "0  IBRAHIM     50\n",
       "1    SEGUN     32\n",
       "2    YUSUF     45\n",
       "3     DARE     45\n",
       "4     BOLA     23\n",
       "5  SOKUNBI     45"
      ]
     },
     "execution_count": 78,
     "metadata": {},
     "output_type": "execute_result"
    }
   ],
   "source": [
    "df"
   ]
  },
  {
   "cell_type": "code",
   "execution_count": 79,
   "id": "267cff20",
   "metadata": {},
   "outputs": [],
   "source": [
    "df[\"lower_name\"] = df[\"name\"].apply(lambda x: x.lower())"
   ]
  },
  {
   "cell_type": "code",
   "execution_count": 80,
   "id": "a8a66662",
   "metadata": {},
   "outputs": [
    {
     "data": {
      "text/html": [
       "<div>\n",
       "<style scoped>\n",
       "    .dataframe tbody tr th:only-of-type {\n",
       "        vertical-align: middle;\n",
       "    }\n",
       "\n",
       "    .dataframe tbody tr th {\n",
       "        vertical-align: top;\n",
       "    }\n",
       "\n",
       "    .dataframe thead th {\n",
       "        text-align: right;\n",
       "    }\n",
       "</style>\n",
       "<table border=\"1\" class=\"dataframe\">\n",
       "  <thead>\n",
       "    <tr style=\"text-align: right;\">\n",
       "      <th></th>\n",
       "      <th>name</th>\n",
       "      <th>score</th>\n",
       "      <th>lower_name</th>\n",
       "    </tr>\n",
       "  </thead>\n",
       "  <tbody>\n",
       "    <tr>\n",
       "      <th>0</th>\n",
       "      <td>IBRAHIM</td>\n",
       "      <td>50</td>\n",
       "      <td>ibrahim</td>\n",
       "    </tr>\n",
       "    <tr>\n",
       "      <th>1</th>\n",
       "      <td>SEGUN</td>\n",
       "      <td>32</td>\n",
       "      <td>segun</td>\n",
       "    </tr>\n",
       "    <tr>\n",
       "      <th>2</th>\n",
       "      <td>YUSUF</td>\n",
       "      <td>45</td>\n",
       "      <td>yusuf</td>\n",
       "    </tr>\n",
       "    <tr>\n",
       "      <th>3</th>\n",
       "      <td>DARE</td>\n",
       "      <td>45</td>\n",
       "      <td>dare</td>\n",
       "    </tr>\n",
       "    <tr>\n",
       "      <th>4</th>\n",
       "      <td>BOLA</td>\n",
       "      <td>23</td>\n",
       "      <td>bola</td>\n",
       "    </tr>\n",
       "    <tr>\n",
       "      <th>5</th>\n",
       "      <td>SOKUNBI</td>\n",
       "      <td>45</td>\n",
       "      <td>sokunbi</td>\n",
       "    </tr>\n",
       "  </tbody>\n",
       "</table>\n",
       "</div>"
      ],
      "text/plain": [
       "      name  score lower_name\n",
       "0  IBRAHIM     50    ibrahim\n",
       "1    SEGUN     32      segun\n",
       "2    YUSUF     45      yusuf\n",
       "3     DARE     45       dare\n",
       "4     BOLA     23       bola\n",
       "5  SOKUNBI     45    sokunbi"
      ]
     },
     "execution_count": 80,
     "metadata": {},
     "output_type": "execute_result"
    }
   ],
   "source": [
    "df"
   ]
  },
  {
   "cell_type": "code",
   "execution_count": 81,
   "id": "44371a84",
   "metadata": {},
   "outputs": [],
   "source": [
    "df[\"title_name\"] = df[\"name\"].apply(lambda x: x.title())"
   ]
  },
  {
   "cell_type": "code",
   "execution_count": 82,
   "id": "fff46143",
   "metadata": {},
   "outputs": [
    {
     "data": {
      "text/html": [
       "<div>\n",
       "<style scoped>\n",
       "    .dataframe tbody tr th:only-of-type {\n",
       "        vertical-align: middle;\n",
       "    }\n",
       "\n",
       "    .dataframe tbody tr th {\n",
       "        vertical-align: top;\n",
       "    }\n",
       "\n",
       "    .dataframe thead th {\n",
       "        text-align: right;\n",
       "    }\n",
       "</style>\n",
       "<table border=\"1\" class=\"dataframe\">\n",
       "  <thead>\n",
       "    <tr style=\"text-align: right;\">\n",
       "      <th></th>\n",
       "      <th>name</th>\n",
       "      <th>score</th>\n",
       "      <th>lower_name</th>\n",
       "      <th>title_name</th>\n",
       "    </tr>\n",
       "  </thead>\n",
       "  <tbody>\n",
       "    <tr>\n",
       "      <th>0</th>\n",
       "      <td>IBRAHIM</td>\n",
       "      <td>50</td>\n",
       "      <td>ibrahim</td>\n",
       "      <td>Ibrahim</td>\n",
       "    </tr>\n",
       "    <tr>\n",
       "      <th>1</th>\n",
       "      <td>SEGUN</td>\n",
       "      <td>32</td>\n",
       "      <td>segun</td>\n",
       "      <td>Segun</td>\n",
       "    </tr>\n",
       "    <tr>\n",
       "      <th>2</th>\n",
       "      <td>YUSUF</td>\n",
       "      <td>45</td>\n",
       "      <td>yusuf</td>\n",
       "      <td>Yusuf</td>\n",
       "    </tr>\n",
       "    <tr>\n",
       "      <th>3</th>\n",
       "      <td>DARE</td>\n",
       "      <td>45</td>\n",
       "      <td>dare</td>\n",
       "      <td>Dare</td>\n",
       "    </tr>\n",
       "    <tr>\n",
       "      <th>4</th>\n",
       "      <td>BOLA</td>\n",
       "      <td>23</td>\n",
       "      <td>bola</td>\n",
       "      <td>Bola</td>\n",
       "    </tr>\n",
       "    <tr>\n",
       "      <th>5</th>\n",
       "      <td>SOKUNBI</td>\n",
       "      <td>45</td>\n",
       "      <td>sokunbi</td>\n",
       "      <td>Sokunbi</td>\n",
       "    </tr>\n",
       "  </tbody>\n",
       "</table>\n",
       "</div>"
      ],
      "text/plain": [
       "      name  score lower_name title_name\n",
       "0  IBRAHIM     50    ibrahim    Ibrahim\n",
       "1    SEGUN     32      segun      Segun\n",
       "2    YUSUF     45      yusuf      Yusuf\n",
       "3     DARE     45       dare       Dare\n",
       "4     BOLA     23       bola       Bola\n",
       "5  SOKUNBI     45    sokunbi    Sokunbi"
      ]
     },
     "execution_count": 82,
     "metadata": {},
     "output_type": "execute_result"
    }
   ],
   "source": [
    "df"
   ]
  },
  {
   "cell_type": "code",
   "execution_count": 83,
   "id": "e9afabcf",
   "metadata": {},
   "outputs": [],
   "source": [
    "df[\"Grade\"] = df[\"score\"].apply(lambda x: 'C' if x < 33 else 'B')"
   ]
  },
  {
   "cell_type": "code",
   "execution_count": 84,
   "id": "1540345b",
   "metadata": {},
   "outputs": [
    {
     "data": {
      "text/html": [
       "<div>\n",
       "<style scoped>\n",
       "    .dataframe tbody tr th:only-of-type {\n",
       "        vertical-align: middle;\n",
       "    }\n",
       "\n",
       "    .dataframe tbody tr th {\n",
       "        vertical-align: top;\n",
       "    }\n",
       "\n",
       "    .dataframe thead th {\n",
       "        text-align: right;\n",
       "    }\n",
       "</style>\n",
       "<table border=\"1\" class=\"dataframe\">\n",
       "  <thead>\n",
       "    <tr style=\"text-align: right;\">\n",
       "      <th></th>\n",
       "      <th>name</th>\n",
       "      <th>score</th>\n",
       "      <th>lower_name</th>\n",
       "      <th>title_name</th>\n",
       "      <th>Grade</th>\n",
       "    </tr>\n",
       "  </thead>\n",
       "  <tbody>\n",
       "    <tr>\n",
       "      <th>0</th>\n",
       "      <td>IBRAHIM</td>\n",
       "      <td>50</td>\n",
       "      <td>ibrahim</td>\n",
       "      <td>Ibrahim</td>\n",
       "      <td>B</td>\n",
       "    </tr>\n",
       "    <tr>\n",
       "      <th>1</th>\n",
       "      <td>SEGUN</td>\n",
       "      <td>32</td>\n",
       "      <td>segun</td>\n",
       "      <td>Segun</td>\n",
       "      <td>C</td>\n",
       "    </tr>\n",
       "    <tr>\n",
       "      <th>2</th>\n",
       "      <td>YUSUF</td>\n",
       "      <td>45</td>\n",
       "      <td>yusuf</td>\n",
       "      <td>Yusuf</td>\n",
       "      <td>B</td>\n",
       "    </tr>\n",
       "    <tr>\n",
       "      <th>3</th>\n",
       "      <td>DARE</td>\n",
       "      <td>45</td>\n",
       "      <td>dare</td>\n",
       "      <td>Dare</td>\n",
       "      <td>B</td>\n",
       "    </tr>\n",
       "    <tr>\n",
       "      <th>4</th>\n",
       "      <td>BOLA</td>\n",
       "      <td>23</td>\n",
       "      <td>bola</td>\n",
       "      <td>Bola</td>\n",
       "      <td>C</td>\n",
       "    </tr>\n",
       "    <tr>\n",
       "      <th>5</th>\n",
       "      <td>SOKUNBI</td>\n",
       "      <td>45</td>\n",
       "      <td>sokunbi</td>\n",
       "      <td>Sokunbi</td>\n",
       "      <td>B</td>\n",
       "    </tr>\n",
       "  </tbody>\n",
       "</table>\n",
       "</div>"
      ],
      "text/plain": [
       "      name  score lower_name title_name Grade\n",
       "0  IBRAHIM     50    ibrahim    Ibrahim     B\n",
       "1    SEGUN     32      segun      Segun     C\n",
       "2    YUSUF     45      yusuf      Yusuf     B\n",
       "3     DARE     45       dare       Dare     B\n",
       "4     BOLA     23       bola       Bola     C\n",
       "5  SOKUNBI     45    sokunbi    Sokunbi     B"
      ]
     },
     "execution_count": 84,
     "metadata": {},
     "output_type": "execute_result"
    }
   ],
   "source": [
    "df"
   ]
  },
  {
   "cell_type": "markdown",
   "id": "47bd3598",
   "metadata": {},
   "source": [
    "## Q.5.  How does the concept of \"scope\" apply to functions in Python? Explain the difference between local scope and global scope.\n",
    "\n",
    "\n",
    "## Answer:"
   ]
  },
  {
   "cell_type": "markdown",
   "id": "148ad04e",
   "metadata": {},
   "source": [
    "## Q.6.  How can you use the \"return\" statement in a Python function to return multiple values?\n",
    "\n",
    "\n",
    "## Answer:\n",
    "\n",
    "It is possible to return multiple values in Python from a function. As per the use case, we can write a Python program, and as a return, we can get an object, list, tuple, dictionary, single value etc. There are many ways of getting multiple values as a return.\n",
    "\n",
    "### Example:"
   ]
  },
  {
   "cell_type": "code",
   "execution_count": null,
   "id": "697cf326",
   "metadata": {},
   "outputs": [],
   "source": [
    "class math_operation:\n",
    "    def __init__(self,a,b):\n",
    "        self.a=a\n",
    "        self.b=b\n",
    "    \n",
    "    def display_number(self):\n",
    "        print(f\"First Value- {a}, Second Value- {b}\")\n",
    "        \n",
    "def "
   ]
  },
  {
   "cell_type": "markdown",
   "id": "03afb9e2",
   "metadata": {},
   "source": [
    "## Q.7.  What is the difference between the \"pass by value\" and \"pass by reference\" concepts when it comes to function arguments in Python?\n",
    "\n",
    "\n",
    "## Answer:"
   ]
  },
  {
   "cell_type": "markdown",
   "id": "95c20862",
   "metadata": {},
   "source": [
    "## Q.8.  Create a function that can intake integer or decimal value and do following operations:\n",
    "a. Logarithmic function (log x)\n",
    "<br> b. Exponential function (exp(x))\n",
    "<br> c. Power function with base 2 (2*)\n",
    "<br> d. Square root\n",
    "\n",
    "\n",
    "## Answer:"
   ]
  },
  {
   "cell_type": "markdown",
   "id": "07f8eaa4",
   "metadata": {},
   "source": [
    "## Q.9.  Create a function that takes a full name as an argument and returns first name and last name.\n",
    "\n",
    "## Answer:"
   ]
  },
  {
   "cell_type": "code",
   "execution_count": null,
   "id": "39660274",
   "metadata": {},
   "outputs": [],
   "source": []
  }
 ],
 "metadata": {
  "kernelspec": {
   "display_name": "Python 3 (ipykernel)",
   "language": "python",
   "name": "python3"
  },
  "language_info": {
   "codemirror_mode": {
    "name": "ipython",
    "version": 3
   },
   "file_extension": ".py",
   "mimetype": "text/x-python",
   "name": "python",
   "nbconvert_exporter": "python",
   "pygments_lexer": "ipython3",
   "version": "3.10.9"
  }
 },
 "nbformat": 4,
 "nbformat_minor": 5
}
