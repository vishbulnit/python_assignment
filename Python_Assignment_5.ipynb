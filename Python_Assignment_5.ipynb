{
 "cells": [
  {
   "cell_type": "markdown",
   "id": "75d3086d",
   "metadata": {},
   "source": [
    "## Q1. What does an empty dictionary's code look like?\n",
    "\n",
    "## Answer: \n",
    "\n",
    "####  Find the empty dictionary's code example below. There are several way of code. "
   ]
  },
  {
   "cell_type": "code",
   "execution_count": 119,
   "id": "b9e4d06f",
   "metadata": {},
   "outputs": [
    {
     "name": "stdout",
     "output_type": "stream",
     "text": [
      "{}\n",
      "<class 'dict'>\n",
      "0\n"
     ]
    }
   ],
   "source": [
    "dict_1 = {}\n",
    "print(dict_1)\n",
    "print(type(dict_1))\n",
    "print(len(dict_1))"
   ]
  },
  {
   "cell_type": "code",
   "execution_count": 120,
   "id": "3fb3ee92",
   "metadata": {},
   "outputs": [
    {
     "name": "stdout",
     "output_type": "stream",
     "text": [
      "{}\n",
      "<class 'dict'>\n",
      "0\n"
     ]
    }
   ],
   "source": [
    "dict_2 = dict()\n",
    "print(dict_2)\n",
    "print(type(dict_2))\n",
    "print(len(dict_2))"
   ]
  },
  {
   "cell_type": "code",
   "execution_count": 121,
   "id": "72ebe1a8",
   "metadata": {},
   "outputs": [
    {
     "name": "stdout",
     "output_type": "stream",
     "text": [
      "{}\n",
      "<class 'dict'>\n",
      "0\n"
     ]
    }
   ],
   "source": [
    "dict_3 = {key:value for key,value in []}\n",
    "print(dict_3)\n",
    "print(type(dict_3))\n",
    "print(len(dict_3))"
   ]
  },
  {
   "cell_type": "markdown",
   "id": "f503297a",
   "metadata": {},
   "source": [
    "## Q2. What is the value of a dictionary value with the key 'foo' and the value 42?\n",
    "\n",
    "## Answer: \n",
    "\n",
    "#### The value of a dictionary with the key 'foo' and the value 42 would be 42. In Python, you can create a dictionary using curly braces {} and assign values to keys using the colon : syntax. Here's an example:"
   ]
  },
  {
   "cell_type": "code",
   "execution_count": 122,
   "id": "1bf23009",
   "metadata": {},
   "outputs": [
    {
     "name": "stdout",
     "output_type": "stream",
     "text": [
      "42\n"
     ]
    }
   ],
   "source": [
    "my_dict = {'foo': 42}\n",
    "print(my_dict['foo'])  # This will print 42"
   ]
  },
  {
   "cell_type": "markdown",
   "id": "215f2d67",
   "metadata": {},
   "source": [
    "## Q3. What is the most significant distinction between a dictionary and a list? \n",
    "\n",
    "## Answer: \n",
    "\n",
    "### List:\n",
    "List is ordered collection of elements. Each element in a list has an index, starting from 0. \n",
    "\n",
    "Elements of the list are accessed by their index.\n",
    "\n",
    "List is Mmutable, meaning you can change, add, or remove elements after the list is created.\n",
    "\n",
    "List is created using square brackets [ ].\n",
    "### Dictionary:\n",
    "Dictionary is unordered collection of key-value pairs. The order in which items are added is not preserved.\n",
    "\n",
    "Dictionary's elements are accessed by their keys.\n",
    "\n",
    "Dictionary is mutable, you can modify, add, or remove key-value pairs after the dictionary is created.\n",
    "\n",
    "Dictionary is created using curly braces { }.\n",
    "\n",
    "#### Example"
   ]
  },
  {
   "cell_type": "code",
   "execution_count": 123,
   "id": "1cc26007",
   "metadata": {},
   "outputs": [
    {
     "name": "stdout",
     "output_type": "stream",
     "text": [
      "['Apple', 'Banana', 'Mango', 'Orange', 'Papaya']\n",
      "Orange\n",
      "['Banana', 'Mango']\n",
      "------------------------------------------------\n",
      "{'Apple': 1000, 'Banana': 2000, 'Mango': 3000, 'Orange': 4000, 'Papaya': 5000}\n",
      "2000\n"
     ]
    }
   ],
   "source": [
    "# List\n",
    "L = ['Apple','Banana','Mango','Orange','Papaya']\n",
    "print(L)\n",
    "print(L[3]) # fetching result using index\n",
    "print(L[1:3]) # fetching result using index\n",
    "print(\"------------------------------------------------\")\n",
    "# Dictionary\n",
    "D= {'Apple':1000,'Banana':2000,'Mango':3000,'Orange':4000,'Papaya':5000}\n",
    "print(D)\n",
    "print(D['Banana']) # fetching result using key"
   ]
  },
  {
   "cell_type": "markdown",
   "id": "78f8facb",
   "metadata": {},
   "source": [
    "## Q4. What happens if you try to access spam['foo'] if spam is {'bar': 100}? \n",
    "\n",
    "## Answer: \n",
    "\n",
    "#### Since dictionary does not exist key 'foo' and hence fetching that key will give \"KeyError: 'foo'\"."
   ]
  },
  {
   "cell_type": "code",
   "execution_count": 124,
   "id": "a8e65470",
   "metadata": {},
   "outputs": [
    {
     "ename": "KeyError",
     "evalue": "'foo'",
     "output_type": "error",
     "traceback": [
      "\u001b[1;31m---------------------------------------------------------------------------\u001b[0m",
      "\u001b[1;31mKeyError\u001b[0m                                  Traceback (most recent call last)",
      "Cell \u001b[1;32mIn[124], line 2\u001b[0m\n\u001b[0;32m      1\u001b[0m spam \u001b[38;5;241m=\u001b[39m {\u001b[38;5;124m'\u001b[39m\u001b[38;5;124mbar\u001b[39m\u001b[38;5;124m'\u001b[39m: \u001b[38;5;241m100\u001b[39m}\n\u001b[1;32m----> 2\u001b[0m \u001b[38;5;28mprint\u001b[39m(\u001b[43mspam\u001b[49m\u001b[43m[\u001b[49m\u001b[38;5;124;43m'\u001b[39;49m\u001b[38;5;124;43mfoo\u001b[39;49m\u001b[38;5;124;43m'\u001b[39;49m\u001b[43m]\u001b[49m)\n",
      "\u001b[1;31mKeyError\u001b[0m: 'foo'"
     ]
    }
   ],
   "source": [
    "spam = {'bar': 100}\n",
    "print(spam['foo'])"
   ]
  },
  {
   "cell_type": "markdown",
   "id": "53b10913",
   "metadata": {},
   "source": [
    "## Q5. If a dictionary is stored in spam, what is the difference between the expressions 'cat' in spam and 'cat' in spam.keys()? \n",
    "\n",
    "## Answer: \n",
    "\n",
    "####  The expressions 'cat' in spam and 'cat' in spam.keys() check for the presence of the key 'cat' in the dictionary spam, but they are not entirely equivalent due to the default behavior of the in operator for dictionaries. If it is present then return True else False.\n",
    "\n",
    "#### Example - "
   ]
  },
  {
   "cell_type": "code",
   "execution_count": 125,
   "id": "e482780a",
   "metadata": {},
   "outputs": [
    {
     "name": "stdout",
     "output_type": "stream",
     "text": [
      "True\n"
     ]
    }
   ],
   "source": [
    "# 'cat' in spam\n",
    "spam = {'cat': 42, 'dog': 123, 'elephant':362}\n",
    "print('cat' in spam)  # True"
   ]
  },
  {
   "cell_type": "code",
   "execution_count": 126,
   "id": "3eef2562",
   "metadata": {},
   "outputs": [
    {
     "name": "stdout",
     "output_type": "stream",
     "text": [
      "True\n"
     ]
    }
   ],
   "source": [
    "# 'cat' in keys\n",
    "spam = {'cat': 42, 'dog': 123,'elephant':362}\n",
    "print('cat' in spam.keys())  # True"
   ]
  },
  {
   "cell_type": "markdown",
   "id": "325d656d",
   "metadata": {},
   "source": [
    "## Q6. If a dictionary is stored in spam, what is the difference between the expressions 'cat' in spam and 'cat' in spam.values()? \n",
    "\n",
    "## Answer: \n",
    "\n",
    "####  The expressions 'cat' in spam check for the presence of the key 'cat' in the dictionary spam. Result: True if key 'cat' is found; otherwise, result: False.\n",
    "\n",
    "####  The expressions 'cat' in spam.values() check for the presence of the value 'cat' in the dictionary spam. Result: True if value 'cat' is found; otherwise, result: False.\n",
    "\n",
    "#### Example - "
   ]
  },
  {
   "cell_type": "code",
   "execution_count": 127,
   "id": "18ceb6ae",
   "metadata": {},
   "outputs": [
    {
     "name": "stdout",
     "output_type": "stream",
     "text": [
      "True\n"
     ]
    }
   ],
   "source": [
    "# 'cat' in spam\n",
    "spam = {'cat': 42, 'dog': 123, 'elephant':362}\n",
    "print('cat' in spam)  # True"
   ]
  },
  {
   "cell_type": "code",
   "execution_count": 128,
   "id": "d3bfea75",
   "metadata": {},
   "outputs": [
    {
     "name": "stdout",
     "output_type": "stream",
     "text": [
      "False\n"
     ]
    }
   ],
   "source": [
    "# 'cat' in values()\n",
    "spam = {'cat': 42, 'dog': 123,'elephant':362}\n",
    "print('cat' in spam.values())  # False"
   ]
  },
  {
   "cell_type": "code",
   "execution_count": 129,
   "id": "d410fed9",
   "metadata": {},
   "outputs": [
    {
     "name": "stdout",
     "output_type": "stream",
     "text": [
      "True\n"
     ]
    }
   ],
   "source": [
    "# 'cat' in values()\n",
    "spam = {'rabit': 42, 'dog': 123,'elephant':362,'cat':'cat'}\n",
    "print('cat' in spam.values())  # True"
   ]
  },
  {
   "cell_type": "markdown",
   "id": "a87c5953",
   "metadata": {},
   "source": [
    "## Q7. What is a shortcut for the following code?\n",
    "#### if 'color' not in spam:\n",
    "#### spam['color'] = 'black'\n",
    "\n",
    "\n",
    "## Answer: "
   ]
  },
  {
   "cell_type": "code",
   "execution_count": 130,
   "id": "3b4c0cfb",
   "metadata": {},
   "outputs": [
    {
     "name": "stdout",
     "output_type": "stream",
     "text": [
      "{'cat': 42, 'dog': 123, 'elephant': 362}\n",
      "{'cat': 42, 'dog': 123, 'elephant': 362, 'color': 'black'}\n"
     ]
    }
   ],
   "source": [
    "spam = {'cat': 42, 'dog': 123, 'elephant':362}\n",
    "print(spam)\n",
    "\n",
    "spam.setdefault('color', 'black') ## this is the shortcut code\n",
    "print(spam)"
   ]
  },
  {
   "cell_type": "markdown",
   "id": "09da495c",
   "metadata": {},
   "source": [
    "## Q8. How do you \"pretty print\" dictionary values using which module and function?\n",
    "\n",
    "## Answer: \n",
    "\n",
    "#### Using the underlined functions \"pprint\"/\"PrettyPrinter\" from module 'pprint', I'll \"pretty print\" the dictionary values. \n",
    "\n",
    "#### Example- "
   ]
  },
  {
   "cell_type": "code",
   "execution_count": 131,
   "id": "6889ddc5",
   "metadata": {},
   "outputs": [
    {
     "name": "stdout",
     "output_type": "stream",
     "text": [
      "{'name': 'Ashok', 'age': 45, 'address': 'mumbai', 'hight': 5, 'face_cut': 'round', 'color': 'wheatish '}\n"
     ]
    }
   ],
   "source": [
    "# normal print statement's output\n",
    "data = {'name': 'Ashok', 'age': 45, 'address': 'mumbai','hight': 5, 'face_cut': 'round', 'color': 'wheatish '}\n",
    "print(data)"
   ]
  },
  {
   "cell_type": "code",
   "execution_count": 132,
   "id": "4e07bf9b",
   "metadata": {},
   "outputs": [
    {
     "name": "stdout",
     "output_type": "stream",
     "text": [
      "{'address': 'mumbai',\n",
      " 'age': 45,\n",
      " 'color': 'wheatish ',\n",
      " 'face_cut': 'round',\n",
      " 'hight': 5,\n",
      " 'name': 'Ashok'}\n"
     ]
    }
   ],
   "source": [
    "# pprint statement's output\n",
    "import pprint\n",
    "data = {'name': 'Ashok', 'age': 45, 'address': 'mumbai','hight': 5, 'face_cut': 'round', 'color': 'wheatish '}\n",
    "pprint.pprint(data)"
   ]
  },
  {
   "cell_type": "code",
   "execution_count": 133,
   "id": "421b4e55",
   "metadata": {},
   "outputs": [
    {
     "name": "stdout",
     "output_type": "stream",
     "text": [
      "{   'address': 'mumbai',\n",
      "    'age': 45,\n",
      "    'color': 'wheatish ',\n",
      "    'face_cut': 'round',\n",
      "    'hight': 5,\n",
      "    'name': 'Ashok'}\n"
     ]
    }
   ],
   "source": [
    "# pprint statement's output with more customization\n",
    "data = {'name': 'Ashok', 'age': 45, 'address': 'mumbai','hight': 5, 'face_cut': 'round', 'color': 'wheatish '}\n",
    "pprint.PrettyPrinter(width=50, indent=4, sort_dicts=True).pprint(data)"
   ]
  },
  {
   "cell_type": "code",
   "execution_count": null,
   "id": "c67a3583",
   "metadata": {},
   "outputs": [],
   "source": []
  }
 ],
 "metadata": {
  "kernelspec": {
   "display_name": "Python 3 (ipykernel)",
   "language": "python",
   "name": "python3"
  },
  "language_info": {
   "codemirror_mode": {
    "name": "ipython",
    "version": 3
   },
   "file_extension": ".py",
   "mimetype": "text/x-python",
   "name": "python",
   "nbconvert_exporter": "python",
   "pygments_lexer": "ipython3",
   "version": "3.10.9"
  }
 },
 "nbformat": 4,
 "nbformat_minor": 5
}
