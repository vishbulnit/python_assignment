{
 "cells": [
  {
   "cell_type": "markdown",
   "id": "5dcfc713-3add-407a-9e63-a4e23f3729c3",
   "metadata": {},
   "source": [
    "# Python Assignment"
   ]
  },
  {
   "cell_type": "markdown",
   "id": "2c827c88-aaf0-41f0-9634-04aa00b3047e",
   "metadata": {},
   "source": [
    "#### Q.1 - In the below elements which of them are values or an expression? eg:- values can be integer or string and expressions will be      mathematical operators.\n",
    "* , 'hello' , -87.8 , - , / , + , 6 "
   ]
  },
  {
   "cell_type": "markdown",
   "id": "969491aa-7b2e-47d4-891f-0fb19d3a06c1",
   "metadata": {},
   "source": [
    "#### Ans - \n",
    "'hello' is string value. \n",
    "-87.8 is float value. \n",
    "6 is integer value. \n",
    "\n",
    "These are mathematical operatore: addition ( + ), subtraction ( - ), division ( / ), and multiplication ( * )"
   ]
  },
  {
   "cell_type": "code",
   "execution_count": null,
   "id": "99fd1071-92ad-4089-80a4-74b1239caf39",
   "metadata": {},
   "outputs": [],
   "source": []
  },
  {
   "cell_type": "markdown",
   "id": "90b64b2d-b269-49f4-98ac-07f1e24816b5",
   "metadata": {},
   "source": [
    "#### Q.2 - What is the difference between string and variable?\n",
    "#### Ans-\n",
    "1) Variable is container which stores different type of value that can be used in program as per use case. A variable can store different type of value such as integer, float, string etc. For Example - \n",
    "\n",
    "    a = 10 \n",
    "\n",
    "    b = 10.11\n",
    "\n",
    "    c = 'Good Morning'\n",
    "\n",
    "2) String is a data type in Python that represents a sequence of characters. It is an immutable data type that means once declared can not be changed.\n"
   ]
  },
  {
   "cell_type": "code",
   "execution_count": null,
   "id": "a05e577e-2b3c-4753-a214-e013e79a8845",
   "metadata": {},
   "outputs": [],
   "source": []
  },
  {
   "cell_type": "markdown",
   "id": "e2ded1bb-bf95-4d71-b227-c3ed1ff93e92",
   "metadata": {},
   "source": [
    "#### Q.3 Describe three different data types.\n",
    "#### Ans – \n",
    "\n",
    "Followings are three data types in python - \n",
    "\n",
    "(1) Integer- Integers are data type with zero, positive or negative whole numbers without a fractional part and having unlimited precision. Integers can be binary, octal, and hexadecimal values. All integer literals or variables are objects of the int class. For example 10, 0 , 1000, -1200, -10 etc.\n",
    "\n",
    "(2)\tFloat- The float data type in Python represents the floating point number. Float is used to represent real numbers and is written with a decimal point dividing the integer and fractional parts. All floats literals or variables are objects of the float class. For example 97.98, 32.3+e18, -32.54e100 etc.\n",
    "\n",
    "(3)\tString- A string is a data type in Python that represents a sequence of characters. It is an immutable data type, meaning that once you have created a string, you cannot change it. Strings are used widely in many different applications, such as storing and manipulating text data, representing names, addresses, and other types of data that can be represented as text. All string literals or variables are objects of the str class."
   ]
  },
  {
   "cell_type": "code",
   "execution_count": null,
   "id": "4edc248c-f0da-4174-bd9b-498a0c9e1575",
   "metadata": {},
   "outputs": [],
   "source": []
  },
  {
   "cell_type": "markdown",
   "id": "697a790a-b8f5-4dc2-9046-b3638e72e4e6",
   "metadata": {},
   "source": [
    "#### 4. What is an expression made up of? What do all expressions do?\n",
    "Ans- An expression is a combination of operands and operator which produce some other value and evaluated as per the precedence of its operators.\n",
    "\n",
    "x = a + b\n",
    "\n",
    "where \"a\" and \"b\" is operand and \"+\" is operator\n",
    "addition of \"a\" and \"b\" is generating a other value which is stored in variable \"x\"\n"
   ]
  },
  {
   "cell_type": "code",
   "execution_count": null,
   "id": "67e1dc4b-c703-43a9-afea-0d8c3074089c",
   "metadata": {},
   "outputs": [],
   "source": []
  },
  {
   "cell_type": "markdown",
   "id": "742ee5b1-086e-43bf-b4c3-d8e46df14ee3",
   "metadata": {},
   "source": [
    "####  5. This assignment statements, like spam = 10. What is the difference between an expression and a statement?\n",
    "Ans- \n",
    "1) Each and every line in python program is a statement. Statement may includes a line with variable declaration, variable assignment, any     expression, any control flow statement, loops, functions etc. and any other line which is a part of executable programe is statement.\n",
    "\n",
    "2) spam = 10 --> This is not expression, we are just storing a integer value to a variable \"spam\""
   ]
  },
  {
   "cell_type": "markdown",
   "id": "b2819889-76d5-4dbc-82c6-5b5f98d1638c",
   "metadata": {},
   "source": []
  },
  {
   "cell_type": "markdown",
   "id": "59c0974f-2aa1-4ee2-8b8a-1238ddeb2086",
   "metadata": {},
   "source": [
    "#### 6. After running the following code, what does the variable bacon contain?\n",
    "#### bacon = 22\n",
    "#### bacon + 1\n",
    "\n",
    "#### Ans-\n",
    "When python program execute line by line, variable \"bacon\" will store value 22 first and then from the next statement it will store value 23"
   ]
  },
  {
   "cell_type": "code",
   "execution_count": 18,
   "id": "ca07020c-17c2-4648-b3ee-4b4aa6009107",
   "metadata": {},
   "outputs": [
    {
     "name": "stdout",
     "output_type": "stream",
     "text": [
      "22\n",
      "23\n"
     ]
    }
   ],
   "source": [
    "bacon = 22\n",
    "print(bacon)\n",
    "print(bacon + 1)"
   ]
  },
  {
   "cell_type": "code",
   "execution_count": null,
   "id": "aafe8160-3594-4607-95f6-1c6338724568",
   "metadata": {},
   "outputs": [],
   "source": []
  },
  {
   "cell_type": "markdown",
   "id": "b331b6e2-df71-4fea-95d0-debd7c22db0f",
   "metadata": {},
   "source": [
    "#### 7. What should the values of the following two terms be?\n",
    "#### 'spam' + 'spamspam'\n",
    "#### 'spam' * 3"
   ]
  },
  {
   "cell_type": "markdown",
   "id": "bc189924-654c-4179-910e-18f6e2e42588",
   "metadata": {},
   "source": [
    "#### Ans- Output of both the term will be same, code and output is mentioned below.\n",
    "1)- 'spam' + 'spamspam' = 'spamspamspam'\n",
    "\n",
    "2)- 'spam' * 3 = 'spamspamspam'"
   ]
  },
  {
   "cell_type": "code",
   "execution_count": 19,
   "id": "1b10daae-9626-427e-9d37-2ddafb46d55d",
   "metadata": {},
   "outputs": [
    {
     "name": "stdout",
     "output_type": "stream",
     "text": [
      "spamspamspam\n",
      "spamspamspam\n"
     ]
    }
   ],
   "source": [
    "print('spam' + 'spamspam')\n",
    "print('spam' * 3)"
   ]
  },
  {
   "cell_type": "code",
   "execution_count": null,
   "id": "1a3054dd-ed63-485c-814d-12b6a60d62c2",
   "metadata": {},
   "outputs": [],
   "source": []
  },
  {
   "cell_type": "markdown",
   "id": "68c0e49f-a26e-4059-95b4-44837cac488c",
   "metadata": {},
   "source": [
    "#### 8. Why is eggs a valid variable name while 100 is invalid?"
   ]
  },
  {
   "cell_type": "markdown",
   "id": "e62602f9-84fb-4238-90bd-99afc0bf31a7",
   "metadata": {},
   "source": [
    "#### Ans- \n",
    " There is rule defined for variable name in python programming. Variable name can not start with value and hence 100 is invalid.\n",
    " Variable name can start with character or any string value and so \"eggs\" is valid name."
   ]
  },
  {
   "cell_type": "code",
   "execution_count": 26,
   "id": "fc569290-a93c-497c-9cd3-54bbeef2a697",
   "metadata": {},
   "outputs": [
    {
     "name": "stdout",
     "output_type": "stream",
     "text": [
      "10\n",
      "Apple\n"
     ]
    }
   ],
   "source": [
    "eggs = 10\n",
    "print(eggs)\n",
    "a_100 = 'Apple'\n",
    "print(a_100)"
   ]
  },
  {
   "cell_type": "code",
   "execution_count": 28,
   "id": "8d0cc5d2-56ab-4dc5-859d-b0ac91f939a2",
   "metadata": {},
   "outputs": [
    {
     "ename": "SyntaxError",
     "evalue": "cannot assign to literal here. Maybe you meant '==' instead of '='? (260210530.py, line 1)",
     "output_type": "error",
     "traceback": [
      "\u001b[0;36m  Cell \u001b[0;32mIn [28], line 1\u001b[0;36m\u001b[0m\n\u001b[0;31m    100 = 'Apple'\u001b[0m\n\u001b[0m    ^\u001b[0m\n\u001b[0;31mSyntaxError\u001b[0m\u001b[0;31m:\u001b[0m cannot assign to literal here. Maybe you meant '==' instead of '='?\n"
     ]
    }
   ],
   "source": [
    "100 = 'Apple'\n",
    "print(100)"
   ]
  },
  {
   "cell_type": "code",
   "execution_count": null,
   "id": "d86b524a-01f8-4438-941b-6984094f9cd8",
   "metadata": {},
   "outputs": [],
   "source": []
  },
  {
   "cell_type": "markdown",
   "id": "87d0e976-7a90-4169-a30d-076dacbf8564",
   "metadata": {},
   "source": [
    "#### 9. What three functions can be used to get the integer, floating-point number, or string version of a value?\n",
    "Ans- There are functions int(), float(), and str() is used to return integer, float, and string value respectively and can also be used to convert the number in given base."
   ]
  },
  {
   "cell_type": "code",
   "execution_count": 54,
   "id": "378bd15e-1b6d-41cb-9efd-72f926c0cb62",
   "metadata": {},
   "outputs": [
    {
     "name": "stdout",
     "output_type": "stream",
     "text": [
      "-------int() function---------\n",
      "1000  --  <class 'int'>\n",
      "9  --  <class 'int'>\n",
      "500  --  <class 'int'>\n",
      "-------float() function---------\n",
      "1000.0  --  <class 'float'>\n",
      "9.999  --  <class 'float'>\n",
      "-500.0  --  <class 'float'>\n",
      "-------str() function---------\n",
      "1000  --  <class 'str'>\n",
      "9.999  --  <class 'str'>\n",
      "-500  --  <class 'str'>\n"
     ]
    }
   ],
   "source": [
    "print(\"-------int() function---------\")\n",
    "print(int('1000'), \" -- \" ,type(int('1000'))) \n",
    "print(int(9.999), \" -- \" ,type(int(9.999)))\n",
    "print(int(500), \" -- \" ,type(int(500)))\n",
    "print(\"-------float() function---------\")\n",
    "print(float('1000'), \" -- \" ,type(float('1000'))) \n",
    "print(float(9.999), \" -- \" ,type(float(9.999)))\n",
    "print(float(-500), \" -- \" ,type(float(-500)))\n",
    "print(\"-------str() function---------\")\n",
    "print(str('1000'), \" -- \" ,type(str('1000'))) \n",
    "print(str(9.999), \" -- \" ,type(str(9.999)))\n",
    "print(str(-500), \" -- \" ,type(str(-500)))"
   ]
  },
  {
   "cell_type": "code",
   "execution_count": null,
   "id": "feb2d557-06b9-4897-9e17-b6419b1e8f91",
   "metadata": {},
   "outputs": [],
   "source": []
  },
  {
   "cell_type": "markdown",
   "id": "faef05b5-47fa-4124-85b6-2ca0bafad059",
   "metadata": {},
   "source": [
    "#### Q.10  Why does this expression cause an error? How can you fix it?\n",
    "####       'I have eaten ' + 99 + ' burritos.'"
   ]
  },
  {
   "cell_type": "markdown",
   "id": "0e5aa2b3-13ac-467c-a1d5-2fcc91450571",
   "metadata": {},
   "source": [
    "#### Ans- \n",
    " This will throw TypeError because datatype is different. Integer and String value can not be concatenated together.\n",
    " Here value 'I have eaten' and 'burritos' is string and 99 is integer. We have to convert 99 into string to fix the error.\n",
    " CorrectExpression = 'I have eaten ' + str(99) + ' burritos.'\n"
   ]
  },
  {
   "cell_type": "code",
   "execution_count": 30,
   "id": "e2744704-b833-4efd-ad71-c252b93c06cf",
   "metadata": {},
   "outputs": [
    {
     "name": "stdout",
     "output_type": "stream",
     "text": [
      "I have eaten 99 burritos.\n"
     ]
    }
   ],
   "source": [
    "CorrectExpression = 'I have eaten ' + str(99) + ' burritos.'\n",
    "print(CorrectExpression)"
   ]
  }
 ],
 "metadata": {
  "kernelspec": {
   "display_name": "Python 3 (ipykernel)",
   "language": "python",
   "name": "python3"
  },
  "language_info": {
   "codemirror_mode": {
    "name": "ipython",
    "version": 3
   },
   "file_extension": ".py",
   "mimetype": "text/x-python",
   "name": "python",
   "nbconvert_exporter": "python",
   "pygments_lexer": "ipython3",
   "version": "3.10.6"
  }
 },
 "nbformat": 4,
 "nbformat_minor": 5
}
