{
 "cells": [
  {
   "cell_type": "markdown",
   "id": "63b9f4b2",
   "metadata": {},
   "source": [
    "### Q1.What is the primary goal of Object-Oriented Programming (OOP)?\n",
    "### Answer: \n",
    "The primay goals of Object Oriented Programming are making the code Robustness, Adaptability, and Reusability.\n",
    "\n",
    "#### ---------------------------------------------------------------------------------------------------------------------------------------------------------------------------"
   ]
  },
  {
   "cell_type": "markdown",
   "id": "abdcf98a",
   "metadata": {},
   "source": [
    "### Q2. What is an object in Python?\n",
    "### Answer:\n",
    "A phisical existence of a class is nothing but an object.\n",
    "<br> An instance of a class is nothing but an object.\n",
    "<br> we can create any number of instance or object for a class.\n",
    "\n",
    "#### ---------------------------------------------------------------------------------------------------------------------------------------------------------------------------"
   ]
  },
  {
   "cell_type": "markdown",
   "id": "25c6b0b9",
   "metadata": {},
   "source": [
    "### Q3. What is a class in Python?\n",
    "### Answer:\n",
    "Class acts as a blueprint/template/plan/model/desgin.\n",
    "<br>Class represents properties (attributes) and actions (behaviour) where properties are variables and actions are methods.\n",
    "\n",
    "#### ---------------------------------------------------------------------------------------------------------------------------------------------------------------------------"
   ]
  },
  {
   "cell_type": "markdown",
   "id": "4950a179",
   "metadata": {},
   "source": [
    "### Q4. What are attributes and methods in a class?\n",
    "### Answer:\n",
    "Attribute is variables defined within the class. Attributes can be access using the class name or by the instance of the class. \n",
    "<br> Any funcion defined within a class is method. Methods can be access using the class name or by the instance of the class. \n",
    " \n",
    "#### ---------------------------------------------------------------------------------------------------------------------------------------------------------------------------"
   ]
  },
  {
   "cell_type": "markdown",
   "id": "2138a749",
   "metadata": {},
   "source": [
    "### Q5. What is the difference between class variables and instance variables in Python?\n",
    "### Answer: \n",
    "### class variable:\n",
    "a. These are class level variable and also known as static variable.\n",
    "<br> b. A single copy will be created at class level and shared by all objects of that class.\n",
    "<br> c. If we perform any changes to class/static variable, then those changes will be reflected to all the objects, because a single copy of static variable will be maintained at class level.\n",
    "\n",
    "### instance variable:\n",
    "a. These are object level variable.\n",
    "<br> b. For every object a seperate copy is created.\n",
    "<br> c. If we perform any changes to one object using object reference, changes won't be reflected to other object, because for every object a seperate copy is created."
   ]
  },
  {
   "cell_type": "markdown",
   "id": "335b3bd7",
   "metadata": {},
   "source": [
    "### Q6. What is the purpose of the self parameter in Python class methods?\n",
    "### Answer: \n",
    "a. Self reference variable always pointing to current object.\n",
    "<br> b. The first argument to the constructor or instance method is always self.\n",
    "<br> c. The main purpose of self variable within the class is to declare instance variables and to access the value of instance variables.\n",
    "<br> d. At the time of calling constructor or instance method, we are not required to pass any value to self variable.\n",
    "<br> e. Self is not a keyword, instead of self we can use any name."
   ]
  },
  {
   "cell_type": "markdown",
   "id": "f582aa8a",
   "metadata": {},
   "source": [
    "## Q7.  For a library management system, you have to design the \"Book\" class with OOP principles in mind. The “Book” class will have following attributes:\n",
    "a. title: Represents the title of the book.\n",
    "<br> b. author: Represents the author(s) of the book.\n",
    "<br> c. isbn: Represents the ISBN (International Standard Book Number) of the book.\n",
    "<br> d. publication_year: Represents the year of publication of the book.\n",
    "<br> e. available_copies: Represents the number of copies available for checkout.\n",
    "#### The class will also include the following methods:\n",
    "<br> a. check_out(self): Decrements the available copies by one if there are copies available for checkout.\n",
    "<br> b. return_book(self): Increments the available copies by one when a book is returned.\n",
    "<br> c. display_book_info(self): Displays the information about the book, including its attributes and the number of available copies.\n",
    "## Answer:"
   ]
  },
  {
   "cell_type": "code",
   "execution_count": 117,
   "id": "7edd3b28",
   "metadata": {},
   "outputs": [],
   "source": [
    "# creating book class with required attributes and methods\n",
    "class book:\n",
    "    # defining constructure with book collection\n",
    "    def __init__(self):\n",
    "        self._book_collection = {\n",
    "        'Book Title':{'title':'Title','author':'        Author','isbn': '        ISBN ','publication_year':'                Pub_Yr','available_copies':'Copy_Avail'}, \n",
    "        'Data Smart' : {'title': 'Data Smart','author':'Foreman, John','isbn':'442-3-4546-5024-9','publication_year':1974,'available_copies':234} ,\n",
    "        'Orientalism' : {'title': 'Orientalism','author':'Said, Edward','isbn':'343-6-4893-7406-2','publication_year':1969,'available_copies':240} ,\n",
    "        'Trial, The' : {'title': 'Trial, The','author':'Kafka, Frank','isbn':'413-0-3615-8162-7','publication_year':1971,'available_copies':238} ,\n",
    "        'Mein Kampf' : {'title': 'Mein Kampf','author':'Hitler, Adolf','isbn':'238-2-4443-8366-3','publication_year':1993,'available_copies':198} ,\n",
    "        'Urlasurla' : {'title': 'Urlasurla','author':'Deshpande P L','isbn':'491-2-2647-7652-2','publication_year':1956,'available_copies':176} \n",
    "        }\n",
    "    \n",
    "    # creating check_out method which decrease the available copies by 1 \n",
    "    def check_out(self):  \n",
    "        try:       \n",
    "            book_to_checkout=input(\"Enter correct title that you want to checkout: \")\n",
    "            avail_copi=self._book_collection.get(book_to_checkout).get(\"available_copies\")     \n",
    "            avail_copi-=1    \n",
    "            self._book_collection.get(book_to_checkout).update({\"available_copies\":avail_copi})\n",
    "            print(\"You have successfully checked out book==>\",book_to_checkout)\n",
    "            print(\"----------------------------------------------------------\")\n",
    "        except:\n",
    "            print(\"Enter correct title.\")\n",
    "            print(\"----------------------------------------------------------\")\n",
    "     \n",
    "    # creating return_book method which increase the available copies by 1\n",
    "    def return_book(self):        \n",
    "        try:            \n",
    "            book_to_return=input(\"Enter correct title that you want to return: \")\n",
    "            return_copi=self._book_collection.get(book_to_return).get(\"available_copies\")     \n",
    "            return_copi+=1    \n",
    "            self._book_collection.get(book_to_return).update({\"available_copies\":return_copi})\n",
    "            print(\"You have successfully returned book==>\",book_to_return)    \n",
    "            print(\"----------------------------------------------------------\")\n",
    "        except:\n",
    "            print(\"Enter correct title.\")\n",
    "            print(\"----------------------------------------------------------\")\n",
    "    \n",
    "    # creating display method which will display all the book information\n",
    "    def display_book_info(self):\n",
    "        for i in self._book_collection.keys():\n",
    "            title=self._book_collection.get(i).get(\"title\")\n",
    "            author=self._book_collection.get(i).get(\"author\")\n",
    "            isbn=self._book_collection.get(i).get(\"isbn\")\n",
    "            publication_year=self._book_collection.get(i).get(\"publication_year\")\n",
    "            available_copies=self._book_collection.get(i).get(\"available_copies\")    \n",
    "            print(f\"{title}\\t\\t{author}\\t\\t{isbn}\\t\\t{publication_year}\\t\\t{available_copies}\")\n",
    "            "
   ]
  },
  {
   "cell_type": "code",
   "execution_count": 118,
   "id": "fc1984dc",
   "metadata": {},
   "outputs": [],
   "source": [
    "bk=book()  ## creating object of the class"
   ]
  },
  {
   "cell_type": "code",
   "execution_count": 120,
   "id": "cd734b9e",
   "metadata": {},
   "outputs": [
    {
     "name": "stdout",
     "output_type": "stream",
     "text": [
      "Title\t\t        Author\t\t        ISBN \t\t                Pub_Yr\t\tCopy_Avail\n",
      "Data Smart\t\tForeman, John\t\t442-3-4546-5024-9\t\t1974\t\t234\n",
      "Orientalism\t\tSaid, Edward\t\t343-6-4893-7406-2\t\t1969\t\t240\n",
      "Trial, The\t\tKafka, Frank\t\t413-0-3615-8162-7\t\t1971\t\t238\n",
      "Mein Kampf\t\tHitler, Adolf\t\t238-2-4443-8366-3\t\t1993\t\t198\n",
      "Urlasurla\t\tDeshpande P L\t\t491-2-2647-7652-2\t\t1956\t\t176\n"
     ]
    }
   ],
   "source": [
    "bk.display_book_info() ## calling method to display all the book collection"
   ]
  },
  {
   "cell_type": "code",
   "execution_count": 121,
   "id": "19508b7d",
   "metadata": {},
   "outputs": [
    {
     "name": "stdout",
     "output_type": "stream",
     "text": [
      "Enter correct title that you want to checkout: Data Smart\n",
      "You have successfully checked out book==> Data Smart\n",
      "----------------------------------------------------------\n",
      "Enter correct title that you want to checkout: Orientalism\n",
      "You have successfully checked out book==> Orientalism\n",
      "----------------------------------------------------------\n",
      "Enter correct title that you want to checkout: Trial, The\n",
      "You have successfully checked out book==> Trial, The\n",
      "----------------------------------------------------------\n",
      "Enter correct title that you want to checkout: Mein Kampf\n",
      "You have successfully checked out book==> Mein Kampf\n",
      "----------------------------------------------------------\n",
      "Enter correct title that you want to checkout: Urlasurla\n",
      "You have successfully checked out book==> Urlasurla\n",
      "----------------------------------------------------------\n"
     ]
    }
   ],
   "source": [
    "bk.check_out() ## checking out book- Data Smart\n",
    "bk.check_out() ## checking out book- Orientalism \n",
    "bk.check_out() ## checking out book- Trial, The\n",
    "bk.check_out() ## checking out book- Mein Kampf\n",
    "bk.check_out() ## checking out book- Urlasurla "
   ]
  },
  {
   "cell_type": "code",
   "execution_count": 122,
   "id": "7e359cbc",
   "metadata": {},
   "outputs": [
    {
     "name": "stdout",
     "output_type": "stream",
     "text": [
      "Enter correct title that you want to checkout: Orientalism\n",
      "You have successfully checked out book==> Orientalism\n",
      "----------------------------------------------------------\n",
      "Enter correct title that you want to checkout: Urlasurla\n",
      "You have successfully checked out book==> Urlasurla\n",
      "----------------------------------------------------------\n"
     ]
    }
   ],
   "source": [
    "bk.check_out() ## checking out title - Orientalism\n",
    "bk.check_out() ## checking out title - Urlasurla"
   ]
  },
  {
   "cell_type": "code",
   "execution_count": 123,
   "id": "ee384c3c",
   "metadata": {},
   "outputs": [
    {
     "name": "stdout",
     "output_type": "stream",
     "text": [
      "Title\t\t        Author\t\t        ISBN \t\t                Pub_Yr\t\tCopy_Avail\n",
      "Data Smart\t\tForeman, John\t\t442-3-4546-5024-9\t\t1974\t\t233\n",
      "Orientalism\t\tSaid, Edward\t\t343-6-4893-7406-2\t\t1969\t\t238\n",
      "Trial, The\t\tKafka, Frank\t\t413-0-3615-8162-7\t\t1971\t\t237\n",
      "Mein Kampf\t\tHitler, Adolf\t\t238-2-4443-8366-3\t\t1993\t\t197\n",
      "Urlasurla\t\tDeshpande P L\t\t491-2-2647-7652-2\t\t1956\t\t174\n"
     ]
    }
   ],
   "source": [
    "bk.display_book_info()"
   ]
  },
  {
   "cell_type": "code",
   "execution_count": 124,
   "id": "2ba04ad3",
   "metadata": {},
   "outputs": [
    {
     "name": "stdout",
     "output_type": "stream",
     "text": [
      "Enter correct title that you want to return: Orientalism\n",
      "You have successfully returned book==> Orientalism\n",
      "----------------------------------------------------------\n",
      "Enter correct title that you want to return: Orientalism\n",
      "You have successfully returned book==> Orientalism\n",
      "----------------------------------------------------------\n"
     ]
    }
   ],
   "source": [
    "bk.return_book() ## returing title - Orientalism\n",
    "bk.return_book() ## returing title - Orientalism"
   ]
  },
  {
   "cell_type": "code",
   "execution_count": 125,
   "id": "b21adddd",
   "metadata": {},
   "outputs": [
    {
     "name": "stdout",
     "output_type": "stream",
     "text": [
      "Title\t\t        Author\t\t        ISBN \t\t                Pub_Yr\t\tCopy_Avail\n",
      "Data Smart\t\tForeman, John\t\t442-3-4546-5024-9\t\t1974\t\t233\n",
      "Orientalism\t\tSaid, Edward\t\t343-6-4893-7406-2\t\t1969\t\t240\n",
      "Trial, The\t\tKafka, Frank\t\t413-0-3615-8162-7\t\t1971\t\t237\n",
      "Mein Kampf\t\tHitler, Adolf\t\t238-2-4443-8366-3\t\t1993\t\t197\n",
      "Urlasurla\t\tDeshpande P L\t\t491-2-2647-7652-2\t\t1956\t\t174\n"
     ]
    }
   ],
   "source": [
    "bk.display_book_info()"
   ]
  },
  {
   "cell_type": "markdown",
   "id": "28607644",
   "metadata": {},
   "source": [
    "#### --------------------------------------------------------------------------------------------------------------------------------------------------------------------------------\n",
    "## Q8.  For a ticket booking system, you have to design the \"Ticket\" class with OOP principles in mind. The “Ticket” class should have the following attributes:\n",
    "a. ticket_id: Represents the unique identifier for the ticket.\n",
    "<br> b. event_name: Represents the name of the event.\n",
    "<br> c. event_date: Represents the date of the event.\n",
    "<br> d. venue: Represents the venue of the event.\n",
    "<br> e. seat_number: Represents the seat number associated with the ticket.\n",
    "<br> f. price: Represents the price of the ticket.\n",
    "<br> g. is_reserved: Represents the reservation status of the ticket.\n",
    "#### The class also includes the following methods:\n",
    "a. reserve_ticket(self): Marks the ticket as reserved if it is not already reserved.\n",
    "<br> b. cancel_reservation(self): Cancels the reservation of the ticket if it is already reserved.\n",
    "<br> c. display_ticket_info(self): Displays the information about the ticket, including its attributes and reservation status.\n",
    "## Answer:"
   ]
  },
  {
   "cell_type": "code",
   "execution_count": 126,
   "id": "34ab2589",
   "metadata": {},
   "outputs": [],
   "source": [
    "# creating ticket class with required attributes and methonds\n",
    "class Ticket:\n",
    "    \n",
    "    # defining constructure with required variables \n",
    "    def __init__(self):\n",
    "        self.ticket_id=None\n",
    "        self.event_name=None\n",
    "        self.event_date=None\n",
    "        self.venue=None\n",
    "        self.seat_number=None\n",
    "        self.price=None\n",
    "        self.is_reserved=None   \n",
    "        \n",
    "        self.column_name={'ticket_id':'ticket_id','event_name':'event_name','event_date':'event_date','venue':'venue',\n",
    "                    'seat_number':'seat_number','price':'price','is_reserved':'is_reserved'}\n",
    "        \n",
    "        self.ticket_collection=({'ticket_id':self.column_name})\n",
    "        self.ticket_info={}\n",
    "    \n",
    "    # creating method to add ticket to perform certain below operation           \n",
    "    def add_ticket(self,ticket_id,event_name,event_date,venue,seat_number,price,is_reserved):        \n",
    "        self.ticket_id=ticket_id\n",
    "        self.event_name=event_name\n",
    "        self.event_date=event_date\n",
    "        self.venue=venue\n",
    "        self.seat_number=seat_number\n",
    "        self.price=price\n",
    "        self.is_reserved=is_reserved              \n",
    "        \n",
    "        self.ticket_info={'ticket_id':self.ticket_id,'event_name':self.event_name,'event_date':self.event_date,'venue':self.venue,\n",
    "                     'seat_number':self.seat_number,'price':self.price,'is_reserved':self.is_reserved}\n",
    "        self.ticket_collection.update({self.ticket_id:self.ticket_info})\n",
    "        \n",
    "    # creating method to display ticket details    \n",
    "    def display_ticket_info(self):\n",
    "        for i in self.ticket_collection.keys():\n",
    "            ticket_id=self.ticket_collection.get(i).get(\"ticket_id\")\n",
    "            event_name=self.ticket_collection.get(i).get(\"event_name\")\n",
    "            event_date=self.ticket_collection.get(i).get(\"event_date\")\n",
    "            venue=self.ticket_collection.get(i).get(\"venue\")\n",
    "            seat_number=self.ticket_collection.get(i).get(\"seat_number\") \n",
    "            price=self.ticket_collection.get(i).get(\"price\")\n",
    "            is_reserved=self.ticket_collection.get(i).get(\"is_reserved\")     \n",
    "            print(f\"{ticket_id}\\t\\t{event_name}\\t\\t{event_date}\\t\\t{venue}\\t{seat_number}\\t{price}\\t{is_reserved}\") \n",
    "    \n",
    "    # creating method to update reservation as Reserved if status is cancel \n",
    "    def reserve_ticket(self):\n",
    "        for i in self.ticket_collection.keys():\n",
    "            if self.ticket_collection.get(i).get(\"is_reserved\")!='Reserved':\n",
    "                self.ticket_collection.get(i).update({\"is_reserved\":'Reserved'})\n",
    "    \n",
    "    # creating method to update reservation as cancel if status is reserved                \n",
    "    def cancel_reservation(self):\n",
    "        for i in self.ticket_collection.keys():\n",
    "            if self.ticket_collection.get(i).get(\"is_reserved\")=='Reserved':\n",
    "                self.ticket_collection.get(i).update({\"is_reserved\":'Cancel'})                \n",
    "                "
   ]
  },
  {
   "cell_type": "code",
   "execution_count": 127,
   "id": "f0cdd601",
   "metadata": {},
   "outputs": [],
   "source": [
    "t=Ticket()  # creating object of the class"
   ]
  },
  {
   "cell_type": "code",
   "execution_count": 128,
   "id": "0a605c2d",
   "metadata": {},
   "outputs": [],
   "source": [
    "t.add_ticket(75085373,'MUM-ST','30/1/24','1-AC',76,5000,\"Reserved\")\n",
    "t.add_ticket(56253457,'ST-MUM','4/1/24','2-AC',10,3500,\"Cancel\")\n",
    "t.add_ticket(26613607,'MUM-BSB','7/1/24','3-AC',7,2200,\"Reserved\")\n",
    "t.add_ticket(24584665,'BSB-ST','21/1/24','SL',55,800,\"Cancel\")\n",
    "t.add_ticket(14566648,'BSB-MUM','17/1/24','SL',34,900,\"Reserved\")\n",
    "t.add_ticket(66485206,'MUM-DDU','20/1/24','1-AC',40,1700,\"Reserved\")\n",
    "t.add_ticket(65357560,'DDU-MUM','10/1/24','SL',39,1000,\"Cancel\")"
   ]
  },
  {
   "cell_type": "code",
   "execution_count": 129,
   "id": "01b6173f",
   "metadata": {},
   "outputs": [
    {
     "name": "stdout",
     "output_type": "stream",
     "text": [
      "ticket_id\t\tevent_name\t\tevent_date\t\tvenue\tseat_number\tprice\tis_reserved\n",
      "75085373\t\tMUM-ST\t\t30/1/24\t\t1-AC\t76\t5000\tReserved\n",
      "56253457\t\tST-MUM\t\t4/1/24\t\t2-AC\t10\t3500\tCancel\n",
      "26613607\t\tMUM-BSB\t\t7/1/24\t\t3-AC\t7\t2200\tReserved\n",
      "24584665\t\tBSB-ST\t\t21/1/24\t\tSL\t55\t800\tCancel\n",
      "14566648\t\tBSB-MUM\t\t17/1/24\t\tSL\t34\t900\tReserved\n",
      "66485206\t\tMUM-DDU\t\t20/1/24\t\t1-AC\t40\t1700\tReserved\n",
      "65357560\t\tDDU-MUM\t\t10/1/24\t\tSL\t39\t1000\tCancel\n"
     ]
    }
   ],
   "source": [
    "t.display_ticket_info() # displaying all ticket information"
   ]
  },
  {
   "cell_type": "code",
   "execution_count": 130,
   "id": "ec20861d",
   "metadata": {},
   "outputs": [],
   "source": [
    "t.reserve_ticket() # updating non-reserve tickets status to Reserved"
   ]
  },
  {
   "cell_type": "code",
   "execution_count": 131,
   "id": "61c5e809",
   "metadata": {},
   "outputs": [
    {
     "name": "stdout",
     "output_type": "stream",
     "text": [
      "ticket_id\t\tevent_name\t\tevent_date\t\tvenue\tseat_number\tprice\tReserved\n",
      "75085373\t\tMUM-ST\t\t30/1/24\t\t1-AC\t76\t5000\tReserved\n",
      "56253457\t\tST-MUM\t\t4/1/24\t\t2-AC\t10\t3500\tReserved\n",
      "26613607\t\tMUM-BSB\t\t7/1/24\t\t3-AC\t7\t2200\tReserved\n",
      "24584665\t\tBSB-ST\t\t21/1/24\t\tSL\t55\t800\tReserved\n",
      "14566648\t\tBSB-MUM\t\t17/1/24\t\tSL\t34\t900\tReserved\n",
      "66485206\t\tMUM-DDU\t\t20/1/24\t\t1-AC\t40\t1700\tReserved\n",
      "65357560\t\tDDU-MUM\t\t10/1/24\t\tSL\t39\t1000\tReserved\n"
     ]
    }
   ],
   "source": [
    "t.display_ticket_info() # displaying all ticket information"
   ]
  },
  {
   "cell_type": "code",
   "execution_count": 132,
   "id": "1120cb5b",
   "metadata": {},
   "outputs": [],
   "source": [
    "t.cancel_reservation() # updating reserved tickets to cancel"
   ]
  },
  {
   "cell_type": "code",
   "execution_count": 133,
   "id": "2f3ce024",
   "metadata": {},
   "outputs": [
    {
     "name": "stdout",
     "output_type": "stream",
     "text": [
      "ticket_id\t\tevent_name\t\tevent_date\t\tvenue\tseat_number\tprice\tCancel\n",
      "75085373\t\tMUM-ST\t\t30/1/24\t\t1-AC\t76\t5000\tCancel\n",
      "56253457\t\tST-MUM\t\t4/1/24\t\t2-AC\t10\t3500\tCancel\n",
      "26613607\t\tMUM-BSB\t\t7/1/24\t\t3-AC\t7\t2200\tCancel\n",
      "24584665\t\tBSB-ST\t\t21/1/24\t\tSL\t55\t800\tCancel\n",
      "14566648\t\tBSB-MUM\t\t17/1/24\t\tSL\t34\t900\tCancel\n",
      "66485206\t\tMUM-DDU\t\t20/1/24\t\t1-AC\t40\t1700\tCancel\n",
      "65357560\t\tDDU-MUM\t\t10/1/24\t\tSL\t39\t1000\tCancel\n"
     ]
    }
   ],
   "source": [
    "t.display_ticket_info() # displaying all ticket information"
   ]
  },
  {
   "cell_type": "markdown",
   "id": "9d7120ee",
   "metadata": {},
   "source": [
    "#### --------------------------------------------------------------------------------------------------------------------------------------------------------------------------------\n",
    "## Q9. You are creating a shopping cart for an e-commerce website. Using OOP to model the \"ShoppingCart\" functionality the class should contain following attributes and methods:\n",
    "a. items: Represents the list of items in the shopping cart.The class also includes the following methods:\n",
    "<br> b. add_item(self, item): Adds an item to the shopping cart by appending it to the list of items.\n",
    "<br> c. remove_item(self, item): Removes an item from the shopping cart if it exists in the list.\n",
    "<br> d. view_cart(self): Displays the items currently present in the shopping cart.\n",
    "<br> e. clear_cart(self): Clears all items from the shopping cart by reassigning an empty list to the items attribute.\n",
    "## Answer:"
   ]
  },
  {
   "cell_type": "code",
   "execution_count": 149,
   "id": "95aa552a",
   "metadata": {},
   "outputs": [],
   "source": [
    "# creating shopping_cart class\n",
    "class shopping_cart:\n",
    "    # defining constructur with requred variable\n",
    "    def __init__(self):\n",
    "        self.item_list=[]\n",
    "    \n",
    "    # creating method to add item to shopping cart\n",
    "    def add_item(self,item):\n",
    "        self.item_list.append(item)\n",
    "\n",
    "    # creating method to remove specific item from shopping cart  \n",
    "    def remove_item(self,item):\n",
    "        self.item_list.remove(item)\n",
    "    \n",
    "    # creating method to display all item from shopping cart\n",
    "    def view_cart(self):\n",
    "        for item in self.item_list:\n",
    "            print(item)\n",
    "            \n",
    "    # creating method to remove all items from the shoppping cart        \n",
    "    def clear_cart(self):\n",
    "        self.item_list.clear()"
   ]
  },
  {
   "cell_type": "code",
   "execution_count": 150,
   "id": "e94453ad",
   "metadata": {},
   "outputs": [],
   "source": [
    "cart=shopping_cart() # creating object of the class"
   ]
  },
  {
   "cell_type": "code",
   "execution_count": 151,
   "id": "7722e61f",
   "metadata": {},
   "outputs": [],
   "source": [
    "# adding items to cart\n",
    "cart.add_item('bag')\n",
    "cart.add_item('mobile')\n",
    "cart.add_item('t-shirt')\n",
    "cart.add_item('mobile cover')\n",
    "cart.add_item('hp-laptop')"
   ]
  },
  {
   "cell_type": "code",
   "execution_count": 152,
   "id": "ce40bf91",
   "metadata": {},
   "outputs": [
    {
     "name": "stdout",
     "output_type": "stream",
     "text": [
      "bag\n",
      "mobile\n",
      "t-shirt\n",
      "mobile cover\n",
      "hp-laptop\n"
     ]
    }
   ],
   "source": [
    "cart.view_cart() # displaying the cart information"
   ]
  },
  {
   "cell_type": "code",
   "execution_count": 153,
   "id": "d4578d54",
   "metadata": {},
   "outputs": [
    {
     "name": "stdout",
     "output_type": "stream",
     "text": [
      "mobile\n",
      "t-shirt\n",
      "hp-laptop\n"
     ]
    }
   ],
   "source": [
    "# removing item from cart and displaying information\n",
    "cart.remove_item('bag')\n",
    "cart.remove_item('mobile cover')\n",
    "cart.view_cart()"
   ]
  },
  {
   "cell_type": "code",
   "execution_count": 154,
   "id": "1c564746",
   "metadata": {},
   "outputs": [],
   "source": [
    "# removing all item from cart and displaying information\n",
    "cart.clear_cart()\n",
    "cart.view_cart()"
   ]
  },
  {
   "cell_type": "code",
   "execution_count": 155,
   "id": "059fad35",
   "metadata": {},
   "outputs": [
    {
     "name": "stdout",
     "output_type": "stream",
     "text": [
      "head-phone\n",
      "mobile charger\n"
     ]
    }
   ],
   "source": [
    "# adding item to cart and displaying information\n",
    "cart.add_item('head-phone')\n",
    "cart.add_item('mobile charger')\n",
    "cart.view_cart()"
   ]
  },
  {
   "cell_type": "markdown",
   "id": "3073701e",
   "metadata": {},
   "source": [
    "#### ------------------------------------------------------------------------------------------------------------------------------------------------------------------------\n",
    "## Q10. Imagine a school management system. You have to design the \"Student\" class using OOP concepts.The “Student” class has the following attributes:\n",
    "a. name: Represents the name of the student. <br> b. age: Represents the age of the student. <br> c. grade: Represents the grade or class of the student. <br> d. student_id: Represents the unique identifier for the student. <br> e. attendance: Represents the attendance record of the student. <br> \n",
    "#### The class should also include the following methods: \n",
    "a. update_attendance(self, date, status): Updates the attendance record of the student for a given date with the provided status (e.g., present or absent). <br> b. get_attendance(self): Returns the attendance record of the student. <br> c. get_average_attendance(self): Calculates and returns the average attendance percentage of the student based on their attendance record.\n",
    "## Answer:"
   ]
  },
  {
   "cell_type": "code",
   "execution_count": 103,
   "id": "35ca9fd8",
   "metadata": {},
   "outputs": [],
   "source": [
    "# creating student class\n",
    "class Student:\n",
    "    # declaring required variable in the constructure\n",
    "    def __init__(self):\n",
    "        self.name=None\n",
    "        self.age=None\n",
    "        self.grade=None\n",
    "        self.id=None        \n",
    "        self.info={}\n",
    "        self.student_record={}\n",
    "    \n",
    "    # creating method which add student details as many we want    \n",
    "    def add_student_record(self):\n",
    "        \n",
    "        while True:                \n",
    "            self.name=input(\"Enter student name: \")\n",
    "            self.age=int(input(\"Enter student age (integer): \"))\n",
    "            self.grade=input(\"Enter student grade: \")\n",
    "            self.id=int(input(\"Enter student id (integer): \"))\n",
    "\n",
    "            self.info={'name':self.name,'age':self.age,'grade':self.grade,'id':self.id,'attendance':{}}\n",
    "        \n",
    "            self.student_record.update({self.id:self.info})\n",
    "            \n",
    "            print(\"-----------------------------------------------------\")\n",
    "            YN=input(\"Do you want to add more student records [Y/N]: \")\n",
    "            if YN=='N':\n",
    "                break\n",
    "        print(\"-----------------------------------------------------\")            \n",
    "        print(\"Student added successfully.\")\n",
    "    \n",
    "    # creating method for updating attendance of the student\n",
    "    def update_attendance(self,id,date,status):  \n",
    "        #id=int(input(\"For which student you want to update attendance, please enter student-id: \"))\n",
    "        self.student_record.get(id).get('attendance').update({date:status})\n",
    "        print(\"Attendance updated successfully\",date,status)\n",
    "        \n",
    "    # creating method for getting attendance of the student and student details\n",
    "    def get_attendance(self): \n",
    "        id=int(input(\"For which student you want to see attendance, please enter student-id: \"))\n",
    "        for i in self.student_record.get(id).get('attendance').items():\n",
    "            print(i)\n",
    "            \n",
    "    def get_average_attendance(self):\n",
    "        for i in self.student_record.keys():  \n",
    "            p=0\n",
    "            a=0\n",
    "            for j in self.student_record.get(i).get('attendance').values():\n",
    "                if j=='Present':\n",
    "                    p+=1\n",
    "                if j=='Absent':\n",
    "                    a+=1 \n",
    "            \n",
    "            id=self.student_record.get(i).get('id')\n",
    "            name=self.student_record.get(i).get('name')\n",
    "            age=self.student_record.get(i).get('age')\n",
    "            grade=self.student_record.get(i).get('grade')\n",
    "            p_day=p\n",
    "            a_day=a\n",
    "            avg_attendance=round((p_day/(p_day+a_day))*100,2)\n",
    "            print(f\"Std-ID:{id}\\tName:{name}\\tAge:{age}\\t\\tGrade:{grade}\\t\\tPresent:{p_day}\\tAbsent:{a_day}\\tAvg_Attendance%:{avg_attendance}\")     \n",
    "             "
   ]
  },
  {
   "cell_type": "code",
   "execution_count": 106,
   "id": "9ac8af40",
   "metadata": {},
   "outputs": [],
   "source": [
    "st=Student() # creating student class object"
   ]
  },
  {
   "cell_type": "code",
   "execution_count": 107,
   "id": "21440885",
   "metadata": {},
   "outputs": [
    {
     "name": "stdout",
     "output_type": "stream",
     "text": [
      "Enter student name: Ashish\n",
      "Enter student age (integer): 23\n",
      "Enter student grade: B\n",
      "Enter student id (integer): 101\n",
      "-----------------------------------------------------\n",
      "Do you want to add more student records [Y/N]: Y\n",
      "Enter student name: Sonu\n",
      "Enter student age (integer): 21\n",
      "Enter student grade: C\n",
      "Enter student id (integer): 102\n",
      "-----------------------------------------------------\n",
      "Do you want to add more student records [Y/N]: Y\n",
      "Enter student name: Rajesh\n",
      "Enter student age (integer): 20\n",
      "Enter student grade: A\n",
      "Enter student id (integer): 103\n",
      "-----------------------------------------------------\n",
      "Do you want to add more student records [Y/N]: Y\n",
      "Enter student name: Tanu\n",
      "Enter student age (integer): 19\n",
      "Enter student grade: A+\n",
      "Enter student id (integer): 104\n",
      "-----------------------------------------------------\n",
      "Do you want to add more student records [Y/N]: N\n",
      "-----------------------------------------------------\n",
      "Student added successfully.\n"
     ]
    }
   ],
   "source": [
    "st.add_student_record() # adding record of student as many you want"
   ]
  },
  {
   "cell_type": "code",
   "execution_count": 108,
   "id": "c260b057",
   "metadata": {},
   "outputs": [
    {
     "data": {
      "text/plain": [
       "{101: {'name': 'Ashish', 'age': 23, 'grade': 'B', 'id': 101, 'attendance': {}},\n",
       " 102: {'name': 'Sonu', 'age': 21, 'grade': 'C', 'id': 102, 'attendance': {}},\n",
       " 103: {'name': 'Rajesh', 'age': 20, 'grade': 'A', 'id': 103, 'attendance': {}},\n",
       " 104: {'name': 'Tanu', 'age': 19, 'grade': 'A+', 'id': 104, 'attendance': {}}}"
      ]
     },
     "execution_count": 108,
     "metadata": {},
     "output_type": "execute_result"
    }
   ],
   "source": [
    "# displaying all student records\n",
    "st.student_record"
   ]
  },
  {
   "cell_type": "code",
   "execution_count": 109,
   "id": "47b27ac4",
   "metadata": {},
   "outputs": [
    {
     "name": "stdout",
     "output_type": "stream",
     "text": [
      "Attendance updated successfully 1/1/24 Holiday\n",
      "Attendance updated successfully 2/1/24 Present\n",
      "Attendance updated successfully 3/1/24 Present\n",
      "Attendance updated successfully 4/1/24 Absent\n",
      "Attendance updated successfully 5/1/24 Present\n",
      "Attendance updated successfully 6/1/24 Present\n",
      "Attendance updated successfully 7/1/24 Holiday\n",
      "Attendance updated successfully 8/1/24 Present\n",
      "Attendance updated successfully 9/1/24 Absent\n",
      "Attendance updated successfully 10/1/24 Present\n",
      "Attendance updated successfully 11/1/24 Present\n",
      "Attendance updated successfully 12/1/24 Present\n",
      "Attendance updated successfully 13/1/24 Present\n",
      "Attendance updated successfully 14/1/24 Holiday\n",
      "Attendance updated successfully 15/1/24 Present\n",
      "Attendance updated successfully 16/1/24 Present\n",
      "Attendance updated successfully 17/1/24 Present\n",
      "Attendance updated successfully 18/1/24 Present\n",
      "Attendance updated successfully 19/1/24 Absent\n",
      "Attendance updated successfully 20/1/24 Present\n",
      "Attendance updated successfully 21/1/24 Holiday\n",
      "Attendance updated successfully 22/1/24 Present\n",
      "Attendance updated successfully 23/1/24 Present\n",
      "Attendance updated successfully 24/1/24 Absent\n",
      "Attendance updated successfully 25/1/24 Absent\n",
      "Attendance updated successfully 26/1/24 Present\n",
      "Attendance updated successfully 27/1/24 Present\n",
      "Attendance updated successfully 28/1/24 Holiday\n",
      "Attendance updated successfully 29/1/24 Absent\n",
      "Attendance updated successfully 30/1/24 Present\n",
      "Attendance updated successfully 31/1/24 Present\n"
     ]
    }
   ],
   "source": [
    "## updating student attendance\n",
    "st.update_attendance(103,'1/1/24','Holiday')\n",
    "st.update_attendance(103,'2/1/24','Present')\n",
    "st.update_attendance(103,'3/1/24','Present')\n",
    "st.update_attendance(103,'4/1/24','Absent')\n",
    "st.update_attendance(103,'5/1/24','Present')\n",
    "st.update_attendance(103,'6/1/24','Present')\n",
    "st.update_attendance(103,'7/1/24','Holiday')\n",
    "st.update_attendance(103,'8/1/24','Present')\n",
    "st.update_attendance(103,'9/1/24','Absent')\n",
    "st.update_attendance(103,'10/1/24','Present')\n",
    "st.update_attendance(103,'11/1/24','Present')\n",
    "st.update_attendance(103,'12/1/24','Present')\n",
    "st.update_attendance(103,'13/1/24','Present')\n",
    "st.update_attendance(103,'14/1/24','Holiday')\n",
    "st.update_attendance(103,'15/1/24','Present')\n",
    "st.update_attendance(103,'16/1/24','Present')\n",
    "st.update_attendance(103,'17/1/24','Present')\n",
    "st.update_attendance(103,'18/1/24','Present')\n",
    "st.update_attendance(103,'19/1/24','Absent')\n",
    "st.update_attendance(103,'20/1/24','Present')\n",
    "st.update_attendance(103,'21/1/24','Holiday')\n",
    "st.update_attendance(103,'22/1/24','Present')\n",
    "st.update_attendance(103,'23/1/24','Present')\n",
    "st.update_attendance(103,'24/1/24','Absent')\n",
    "st.update_attendance(103,'25/1/24','Absent')\n",
    "st.update_attendance(103,'26/1/24','Present')\n",
    "st.update_attendance(103,'27/1/24','Present')\n",
    "st.update_attendance(103,'28/1/24','Holiday')\n",
    "st.update_attendance(103,'29/1/24','Absent')\n",
    "st.update_attendance(103,'30/1/24','Present')\n",
    "st.update_attendance(103,'31/1/24','Present')"
   ]
  },
  {
   "cell_type": "code",
   "execution_count": 110,
   "id": "75d85fb8",
   "metadata": {},
   "outputs": [
    {
     "name": "stdout",
     "output_type": "stream",
     "text": [
      "Attendance updated successfully 1/1/24 Holiday\n",
      "Attendance updated successfully 2/1/24 Present\n",
      "Attendance updated successfully 3/1/24 Present\n",
      "Attendance updated successfully 4/1/24 Absent\n",
      "Attendance updated successfully 5/1/24 Present\n",
      "Attendance updated successfully 6/1/24 Present\n",
      "Attendance updated successfully 7/1/24 Holiday\n",
      "Attendance updated successfully 8/1/24 Present\n",
      "Attendance updated successfully 9/1/24 Absent\n",
      "Attendance updated successfully 10/1/24 Present\n",
      "Attendance updated successfully 11/1/24 Present\n",
      "Attendance updated successfully 12/1/24 Present\n",
      "Attendance updated successfully 13/1/24 Present\n",
      "Attendance updated successfully 14/1/24 Holiday\n",
      "Attendance updated successfully 15/1/24 Present\n",
      "Attendance updated successfully 16/1/24 Present\n",
      "Attendance updated successfully 17/1/24 Present\n",
      "Attendance updated successfully 18/1/24 Present\n",
      "Attendance updated successfully 19/1/24 Absent\n",
      "Attendance updated successfully 20/1/24 Present\n",
      "Attendance updated successfully 21/1/24 Holiday\n",
      "Attendance updated successfully 22/1/24 Present\n",
      "Attendance updated successfully 23/1/24 Present\n",
      "Attendance updated successfully 24/1/24 Present\n",
      "Attendance updated successfully 25/1/24 Present\n",
      "Attendance updated successfully 26/1/24 Present\n",
      "Attendance updated successfully 27/1/24 Present\n",
      "Attendance updated successfully 28/1/24 Holiday\n",
      "Attendance updated successfully 29/1/24 Present\n",
      "Attendance updated successfully 30/1/24 Present\n",
      "Attendance updated successfully 31/1/24 Present\n"
     ]
    }
   ],
   "source": [
    "## updating student attendance\n",
    "st.update_attendance(102,'1/1/24','Holiday')\n",
    "st.update_attendance(102,'2/1/24','Present')\n",
    "st.update_attendance(102,'3/1/24','Present')\n",
    "st.update_attendance(102,'4/1/24','Absent')\n",
    "st.update_attendance(102,'5/1/24','Present')\n",
    "st.update_attendance(102,'6/1/24','Present')\n",
    "st.update_attendance(102,'7/1/24','Holiday')\n",
    "st.update_attendance(102,'8/1/24','Present')\n",
    "st.update_attendance(102,'9/1/24','Absent')\n",
    "st.update_attendance(102,'10/1/24','Present')\n",
    "st.update_attendance(102,'11/1/24','Present')\n",
    "st.update_attendance(102,'12/1/24','Present')\n",
    "st.update_attendance(102,'13/1/24','Present')\n",
    "st.update_attendance(102,'14/1/24','Holiday')\n",
    "st.update_attendance(102,'15/1/24','Present')\n",
    "st.update_attendance(102,'16/1/24','Present')\n",
    "st.update_attendance(102,'17/1/24','Present')\n",
    "st.update_attendance(102,'18/1/24','Present')\n",
    "st.update_attendance(102,'19/1/24','Absent')\n",
    "st.update_attendance(102,'20/1/24','Present')\n",
    "st.update_attendance(102,'21/1/24','Holiday')\n",
    "st.update_attendance(102,'22/1/24','Present')\n",
    "st.update_attendance(102,'23/1/24','Present')\n",
    "st.update_attendance(102,'24/1/24','Present')\n",
    "st.update_attendance(102,'25/1/24','Present')\n",
    "st.update_attendance(102,'26/1/24','Present')\n",
    "st.update_attendance(102,'27/1/24','Present')\n",
    "st.update_attendance(102,'28/1/24','Holiday')\n",
    "st.update_attendance(102,'29/1/24','Present')\n",
    "st.update_attendance(102,'30/1/24','Present')\n",
    "st.update_attendance(102,'31/1/24','Present')"
   ]
  },
  {
   "cell_type": "code",
   "execution_count": 111,
   "id": "de285d69",
   "metadata": {},
   "outputs": [
    {
     "name": "stdout",
     "output_type": "stream",
     "text": [
      "Attendance updated successfully 1/1/24 Holiday\n",
      "Attendance updated successfully 2/1/24 Present\n",
      "Attendance updated successfully 3/1/24 Present\n",
      "Attendance updated successfully 4/1/24 Present\n",
      "Attendance updated successfully 5/1/24 Present\n",
      "Attendance updated successfully 6/1/24 Present\n",
      "Attendance updated successfully 7/1/24 Holiday\n",
      "Attendance updated successfully 8/1/24 Present\n",
      "Attendance updated successfully 9/1/24 Present\n",
      "Attendance updated successfully 10/1/24 Present\n",
      "Attendance updated successfully 11/1/24 Present\n",
      "Attendance updated successfully 12/1/24 Present\n",
      "Attendance updated successfully 13/1/24 Present\n",
      "Attendance updated successfully 14/1/24 Holiday\n",
      "Attendance updated successfully 15/1/24 Present\n",
      "Attendance updated successfully 16/1/24 Present\n",
      "Attendance updated successfully 17/1/24 Present\n",
      "Attendance updated successfully 18/1/24 Present\n",
      "Attendance updated successfully 19/1/24 Present\n",
      "Attendance updated successfully 20/1/24 Present\n",
      "Attendance updated successfully 21/1/24 Holiday\n",
      "Attendance updated successfully 22/1/24 Present\n",
      "Attendance updated successfully 23/1/24 Present\n",
      "Attendance updated successfully 24/1/24 Present\n",
      "Attendance updated successfully 25/1/24 Present\n",
      "Attendance updated successfully 26/1/24 Present\n",
      "Attendance updated successfully 27/1/24 Present\n",
      "Attendance updated successfully 28/1/24 Holiday\n",
      "Attendance updated successfully 29/1/24 Present\n",
      "Attendance updated successfully 30/1/24 Present\n",
      "Attendance updated successfully 31/1/24 Present\n"
     ]
    }
   ],
   "source": [
    "## updating student attendance\n",
    "st.update_attendance(101,'1/1/24','Holiday')\n",
    "st.update_attendance(101,'2/1/24','Present')\n",
    "st.update_attendance(101,'3/1/24','Present')\n",
    "st.update_attendance(101,'4/1/24','Present')\n",
    "st.update_attendance(101,'5/1/24','Present')\n",
    "st.update_attendance(101,'6/1/24','Present')\n",
    "st.update_attendance(101,'7/1/24','Holiday')\n",
    "st.update_attendance(101,'8/1/24','Present')\n",
    "st.update_attendance(101,'9/1/24','Present')\n",
    "st.update_attendance(101,'10/1/24','Present')\n",
    "st.update_attendance(101,'11/1/24','Present')\n",
    "st.update_attendance(101,'12/1/24','Present')\n",
    "st.update_attendance(101,'13/1/24','Present')\n",
    "st.update_attendance(101,'14/1/24','Holiday')\n",
    "st.update_attendance(101,'15/1/24','Present')\n",
    "st.update_attendance(101,'16/1/24','Present')\n",
    "st.update_attendance(101,'17/1/24','Present')\n",
    "st.update_attendance(101,'18/1/24','Present')\n",
    "st.update_attendance(101,'19/1/24','Present')\n",
    "st.update_attendance(101,'20/1/24','Present')\n",
    "st.update_attendance(101,'21/1/24','Holiday')\n",
    "st.update_attendance(101,'22/1/24','Present')\n",
    "st.update_attendance(101,'23/1/24','Present')\n",
    "st.update_attendance(101,'24/1/24','Present')\n",
    "st.update_attendance(101,'25/1/24','Present')\n",
    "st.update_attendance(101,'26/1/24','Present')\n",
    "st.update_attendance(101,'27/1/24','Present')\n",
    "st.update_attendance(101,'28/1/24','Holiday')\n",
    "st.update_attendance(101,'29/1/24','Present')\n",
    "st.update_attendance(101,'30/1/24','Present')\n",
    "st.update_attendance(101,'31/1/24','Present')"
   ]
  },
  {
   "cell_type": "code",
   "execution_count": 112,
   "id": "c4b11605",
   "metadata": {},
   "outputs": [
    {
     "name": "stdout",
     "output_type": "stream",
     "text": [
      "Attendance updated successfully 1/1/24 Holiday\n",
      "Attendance updated successfully 2/1/24 Present\n",
      "Attendance updated successfully 3/1/24 Present\n",
      "Attendance updated successfully 4/1/24 Present\n",
      "Attendance updated successfully 5/1/24 Present\n",
      "Attendance updated successfully 6/1/24 Present\n",
      "Attendance updated successfully 7/1/24 Holiday\n",
      "Attendance updated successfully 8/1/24 Present\n",
      "Attendance updated successfully 9/1/24 Absent\n",
      "Attendance updated successfully 10/1/24 Present\n",
      "Attendance updated successfully 11/1/24 Present\n",
      "Attendance updated successfully 12/1/24 Present\n",
      "Attendance updated successfully 13/1/24 Present\n",
      "Attendance updated successfully 14/1/24 Holiday\n",
      "Attendance updated successfully 15/1/24 Present\n",
      "Attendance updated successfully 16/1/24 Present\n",
      "Attendance updated successfully 17/1/24 Present\n",
      "Attendance updated successfully 18/1/24 Present\n",
      "Attendance updated successfully 19/1/24 Absent\n",
      "Attendance updated successfully 20/1/24 Present\n",
      "Attendance updated successfully 21/1/24 Holiday\n",
      "Attendance updated successfully 22/1/24 Present\n",
      "Attendance updated successfully 23/1/24 Present\n",
      "Attendance updated successfully 24/1/24 Present\n",
      "Attendance updated successfully 25/1/24 Present\n",
      "Attendance updated successfully 26/1/24 Present\n",
      "Attendance updated successfully 27/1/24 Present\n",
      "Attendance updated successfully 28/1/24 Holiday\n",
      "Attendance updated successfully 29/1/24 Present\n",
      "Attendance updated successfully 30/1/24 Present\n",
      "Attendance updated successfully 31/1/24 Present\n"
     ]
    }
   ],
   "source": [
    "## updating student attendance\n",
    "st.update_attendance(104,'1/1/24','Holiday')\n",
    "st.update_attendance(104,'2/1/24','Present')\n",
    "st.update_attendance(104,'3/1/24','Present')\n",
    "st.update_attendance(104,'4/1/24','Present')\n",
    "st.update_attendance(104,'5/1/24','Present')\n",
    "st.update_attendance(104,'6/1/24','Present')\n",
    "st.update_attendance(104,'7/1/24','Holiday')\n",
    "st.update_attendance(104,'8/1/24','Present')\n",
    "st.update_attendance(104,'9/1/24','Absent')\n",
    "st.update_attendance(104,'10/1/24','Present')\n",
    "st.update_attendance(104,'11/1/24','Present')\n",
    "st.update_attendance(104,'12/1/24','Present')\n",
    "st.update_attendance(104,'13/1/24','Present')\n",
    "st.update_attendance(104,'14/1/24','Holiday')\n",
    "st.update_attendance(104,'15/1/24','Present')\n",
    "st.update_attendance(104,'16/1/24','Present')\n",
    "st.update_attendance(104,'17/1/24','Present')\n",
    "st.update_attendance(104,'18/1/24','Present')\n",
    "st.update_attendance(104,'19/1/24','Absent')\n",
    "st.update_attendance(104,'20/1/24','Present')\n",
    "st.update_attendance(104,'21/1/24','Holiday')\n",
    "st.update_attendance(104,'22/1/24','Present')\n",
    "st.update_attendance(104,'23/1/24','Present')\n",
    "st.update_attendance(104,'24/1/24','Present')\n",
    "st.update_attendance(104,'25/1/24','Present')\n",
    "st.update_attendance(104,'26/1/24','Present')\n",
    "st.update_attendance(104,'27/1/24','Present')\n",
    "st.update_attendance(104,'28/1/24','Holiday')\n",
    "st.update_attendance(104,'29/1/24','Present')\n",
    "st.update_attendance(104,'30/1/24','Present')\n",
    "st.update_attendance(104,'31/1/24','Present')"
   ]
  },
  {
   "cell_type": "code",
   "execution_count": 113,
   "id": "f0c0a6f8",
   "metadata": {
    "scrolled": false
   },
   "outputs": [
    {
     "data": {
      "text/plain": [
       "{101: {'name': 'Ashish',\n",
       "  'age': 23,\n",
       "  'grade': 'B',\n",
       "  'id': 101,\n",
       "  'attendance': {'1/1/24': 'Holiday',\n",
       "   '2/1/24': 'Present',\n",
       "   '3/1/24': 'Present',\n",
       "   '4/1/24': 'Present',\n",
       "   '5/1/24': 'Present',\n",
       "   '6/1/24': 'Present',\n",
       "   '7/1/24': 'Holiday',\n",
       "   '8/1/24': 'Present',\n",
       "   '9/1/24': 'Present',\n",
       "   '10/1/24': 'Present',\n",
       "   '11/1/24': 'Present',\n",
       "   '12/1/24': 'Present',\n",
       "   '13/1/24': 'Present',\n",
       "   '14/1/24': 'Holiday',\n",
       "   '15/1/24': 'Present',\n",
       "   '16/1/24': 'Present',\n",
       "   '17/1/24': 'Present',\n",
       "   '18/1/24': 'Present',\n",
       "   '19/1/24': 'Present',\n",
       "   '20/1/24': 'Present',\n",
       "   '21/1/24': 'Holiday',\n",
       "   '22/1/24': 'Present',\n",
       "   '23/1/24': 'Present',\n",
       "   '24/1/24': 'Present',\n",
       "   '25/1/24': 'Present',\n",
       "   '26/1/24': 'Present',\n",
       "   '27/1/24': 'Present',\n",
       "   '28/1/24': 'Holiday',\n",
       "   '29/1/24': 'Present',\n",
       "   '30/1/24': 'Present',\n",
       "   '31/1/24': 'Present'}},\n",
       " 102: {'name': 'Sonu',\n",
       "  'age': 21,\n",
       "  'grade': 'C',\n",
       "  'id': 102,\n",
       "  'attendance': {'1/1/24': 'Holiday',\n",
       "   '2/1/24': 'Present',\n",
       "   '3/1/24': 'Present',\n",
       "   '4/1/24': 'Absent',\n",
       "   '5/1/24': 'Present',\n",
       "   '6/1/24': 'Present',\n",
       "   '7/1/24': 'Holiday',\n",
       "   '8/1/24': 'Present',\n",
       "   '9/1/24': 'Absent',\n",
       "   '10/1/24': 'Present',\n",
       "   '11/1/24': 'Present',\n",
       "   '12/1/24': 'Present',\n",
       "   '13/1/24': 'Present',\n",
       "   '14/1/24': 'Holiday',\n",
       "   '15/1/24': 'Present',\n",
       "   '16/1/24': 'Present',\n",
       "   '17/1/24': 'Present',\n",
       "   '18/1/24': 'Present',\n",
       "   '19/1/24': 'Absent',\n",
       "   '20/1/24': 'Present',\n",
       "   '21/1/24': 'Holiday',\n",
       "   '22/1/24': 'Present',\n",
       "   '23/1/24': 'Present',\n",
       "   '24/1/24': 'Present',\n",
       "   '25/1/24': 'Present',\n",
       "   '26/1/24': 'Present',\n",
       "   '27/1/24': 'Present',\n",
       "   '28/1/24': 'Holiday',\n",
       "   '29/1/24': 'Present',\n",
       "   '30/1/24': 'Present',\n",
       "   '31/1/24': 'Present'}},\n",
       " 103: {'name': 'Rajesh',\n",
       "  'age': 20,\n",
       "  'grade': 'A',\n",
       "  'id': 103,\n",
       "  'attendance': {'1/1/24': 'Holiday',\n",
       "   '2/1/24': 'Present',\n",
       "   '3/1/24': 'Present',\n",
       "   '4/1/24': 'Absent',\n",
       "   '5/1/24': 'Present',\n",
       "   '6/1/24': 'Present',\n",
       "   '7/1/24': 'Holiday',\n",
       "   '8/1/24': 'Present',\n",
       "   '9/1/24': 'Absent',\n",
       "   '10/1/24': 'Present',\n",
       "   '11/1/24': 'Present',\n",
       "   '12/1/24': 'Present',\n",
       "   '13/1/24': 'Present',\n",
       "   '14/1/24': 'Holiday',\n",
       "   '15/1/24': 'Present',\n",
       "   '16/1/24': 'Present',\n",
       "   '17/1/24': 'Present',\n",
       "   '18/1/24': 'Present',\n",
       "   '19/1/24': 'Absent',\n",
       "   '20/1/24': 'Present',\n",
       "   '21/1/24': 'Holiday',\n",
       "   '22/1/24': 'Present',\n",
       "   '23/1/24': 'Present',\n",
       "   '24/1/24': 'Absent',\n",
       "   '25/1/24': 'Absent',\n",
       "   '26/1/24': 'Present',\n",
       "   '27/1/24': 'Present',\n",
       "   '28/1/24': 'Holiday',\n",
       "   '29/1/24': 'Absent',\n",
       "   '30/1/24': 'Present',\n",
       "   '31/1/24': 'Present'}},\n",
       " 104: {'name': 'Tanu',\n",
       "  'age': 19,\n",
       "  'grade': 'A+',\n",
       "  'id': 104,\n",
       "  'attendance': {'1/1/24': 'Holiday',\n",
       "   '2/1/24': 'Present',\n",
       "   '3/1/24': 'Present',\n",
       "   '4/1/24': 'Present',\n",
       "   '5/1/24': 'Present',\n",
       "   '6/1/24': 'Present',\n",
       "   '7/1/24': 'Holiday',\n",
       "   '8/1/24': 'Present',\n",
       "   '9/1/24': 'Absent',\n",
       "   '10/1/24': 'Present',\n",
       "   '11/1/24': 'Present',\n",
       "   '12/1/24': 'Present',\n",
       "   '13/1/24': 'Present',\n",
       "   '14/1/24': 'Holiday',\n",
       "   '15/1/24': 'Present',\n",
       "   '16/1/24': 'Present',\n",
       "   '17/1/24': 'Present',\n",
       "   '18/1/24': 'Present',\n",
       "   '19/1/24': 'Absent',\n",
       "   '20/1/24': 'Present',\n",
       "   '21/1/24': 'Holiday',\n",
       "   '22/1/24': 'Present',\n",
       "   '23/1/24': 'Present',\n",
       "   '24/1/24': 'Present',\n",
       "   '25/1/24': 'Present',\n",
       "   '26/1/24': 'Present',\n",
       "   '27/1/24': 'Present',\n",
       "   '28/1/24': 'Holiday',\n",
       "   '29/1/24': 'Present',\n",
       "   '30/1/24': 'Present',\n",
       "   '31/1/24': 'Present'}}}"
      ]
     },
     "execution_count": 113,
     "metadata": {},
     "output_type": "execute_result"
    }
   ],
   "source": [
    "st.student_record  # getting all records from student class"
   ]
  },
  {
   "cell_type": "code",
   "execution_count": 114,
   "id": "5fb96254",
   "metadata": {},
   "outputs": [
    {
     "name": "stdout",
     "output_type": "stream",
     "text": [
      "For which student you want to see attendance, please enter student-id: 103\n",
      "('1/1/24', 'Holiday')\n",
      "('2/1/24', 'Present')\n",
      "('3/1/24', 'Present')\n",
      "('4/1/24', 'Absent')\n",
      "('5/1/24', 'Present')\n",
      "('6/1/24', 'Present')\n",
      "('7/1/24', 'Holiday')\n",
      "('8/1/24', 'Present')\n",
      "('9/1/24', 'Absent')\n",
      "('10/1/24', 'Present')\n",
      "('11/1/24', 'Present')\n",
      "('12/1/24', 'Present')\n",
      "('13/1/24', 'Present')\n",
      "('14/1/24', 'Holiday')\n",
      "('15/1/24', 'Present')\n",
      "('16/1/24', 'Present')\n",
      "('17/1/24', 'Present')\n",
      "('18/1/24', 'Present')\n",
      "('19/1/24', 'Absent')\n",
      "('20/1/24', 'Present')\n",
      "('21/1/24', 'Holiday')\n",
      "('22/1/24', 'Present')\n",
      "('23/1/24', 'Present')\n",
      "('24/1/24', 'Absent')\n",
      "('25/1/24', 'Absent')\n",
      "('26/1/24', 'Present')\n",
      "('27/1/24', 'Present')\n",
      "('28/1/24', 'Holiday')\n",
      "('29/1/24', 'Absent')\n",
      "('30/1/24', 'Present')\n",
      "('31/1/24', 'Present')\n"
     ]
    }
   ],
   "source": [
    "st.get_attendance() # attendance record for student-id 103"
   ]
  },
  {
   "cell_type": "code",
   "execution_count": 115,
   "id": "7bb83941",
   "metadata": {},
   "outputs": [
    {
     "name": "stdout",
     "output_type": "stream",
     "text": [
      "For which student you want to see attendance, please enter student-id: 101\n",
      "('1/1/24', 'Holiday')\n",
      "('2/1/24', 'Present')\n",
      "('3/1/24', 'Present')\n",
      "('4/1/24', 'Present')\n",
      "('5/1/24', 'Present')\n",
      "('6/1/24', 'Present')\n",
      "('7/1/24', 'Holiday')\n",
      "('8/1/24', 'Present')\n",
      "('9/1/24', 'Present')\n",
      "('10/1/24', 'Present')\n",
      "('11/1/24', 'Present')\n",
      "('12/1/24', 'Present')\n",
      "('13/1/24', 'Present')\n",
      "('14/1/24', 'Holiday')\n",
      "('15/1/24', 'Present')\n",
      "('16/1/24', 'Present')\n",
      "('17/1/24', 'Present')\n",
      "('18/1/24', 'Present')\n",
      "('19/1/24', 'Present')\n",
      "('20/1/24', 'Present')\n",
      "('21/1/24', 'Holiday')\n",
      "('22/1/24', 'Present')\n",
      "('23/1/24', 'Present')\n",
      "('24/1/24', 'Present')\n",
      "('25/1/24', 'Present')\n",
      "('26/1/24', 'Present')\n",
      "('27/1/24', 'Present')\n",
      "('28/1/24', 'Holiday')\n",
      "('29/1/24', 'Present')\n",
      "('30/1/24', 'Present')\n",
      "('31/1/24', 'Present')\n"
     ]
    }
   ],
   "source": [
    "st.get_attendance() # attendance record for student-id 101"
   ]
  },
  {
   "cell_type": "code",
   "execution_count": 116,
   "id": "a600d4af",
   "metadata": {},
   "outputs": [
    {
     "name": "stdout",
     "output_type": "stream",
     "text": [
      "Std-ID:101\tName:Ashish\tAge:23\t\tGrade:B\t\tPresent:26\tAbsent:0\tAvg_Attendance%:100.0\n",
      "Std-ID:102\tName:Sonu\tAge:21\t\tGrade:C\t\tPresent:23\tAbsent:3\tAvg_Attendance%:88.46\n",
      "Std-ID:103\tName:Rajesh\tAge:20\t\tGrade:A\t\tPresent:20\tAbsent:6\tAvg_Attendance%:76.92\n",
      "Std-ID:104\tName:Tanu\tAge:19\t\tGrade:A+\t\tPresent:24\tAbsent:2\tAvg_Attendance%:92.31\n"
     ]
    }
   ],
   "source": [
    "st.get_average_attendance() # getting average attendance of the student"
   ]
  },
  {
   "cell_type": "code",
   "execution_count": null,
   "id": "85ba33d9",
   "metadata": {},
   "outputs": [],
   "source": []
  }
 ],
 "metadata": {
  "kernelspec": {
   "display_name": "Python 3 (ipykernel)",
   "language": "python",
   "name": "python3"
  },
  "language_info": {
   "codemirror_mode": {
    "name": "ipython",
    "version": 3
   },
   "file_extension": ".py",
   "mimetype": "text/x-python",
   "name": "python",
   "nbconvert_exporter": "python",
   "pygments_lexer": "ipython3",
   "version": "3.10.9"
  }
 },
 "nbformat": 4,
 "nbformat_minor": 5
}
