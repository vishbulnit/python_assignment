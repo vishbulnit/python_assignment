{
 "cells": [
  {
   "cell_type": "markdown",
   "id": "808450f7",
   "metadata": {},
   "source": [
    "## Q.1. What are keywords in python? Using the keyword library, print all the python keywords.\n",
    "\n",
    "\n",
    "## Answer: \n",
    "\n",
    "####  Python Keywords are some predefined and reserved words in Python that have special meanings. Keywords are used to define the syntax of the coding. The keyword cannot be used as an identifier, function, or variable name. All the keywords in Python are written in lowercase except True and False. There are 35 keywords in Python.\n",
    "#### Using the inbuilt keyword module, print all the keywords and check if a given word is a keyword or not in Python.\n",
    "#### Example - "
   ]
  },
  {
   "cell_type": "code",
   "execution_count": 243,
   "id": "853f00d7",
   "metadata": {},
   "outputs": [
    {
     "name": "stdout",
     "output_type": "stream",
     "text": [
      "['False', 'None', 'True', 'and', 'as', 'assert', 'async', 'await', 'break', 'class', 'continue', 'def', 'del', 'elif', 'else', 'except', 'finally', 'for', 'from', 'global', 'if', 'import', 'in', 'is', 'lambda', 'nonlocal', 'not', 'or', 'pass', 'raise', 'return', 'try', 'while', 'with', 'yield']\n",
      "--------------------------------------\n",
      "True\n",
      "--------------------------------------\n",
      "False\n"
     ]
    }
   ],
   "source": [
    "# code\n",
    "import keyword\n",
    "print(keyword.kwlist) ## printing all keyword in python\n",
    "print(\"--------------------------------------\")\n",
    "\n",
    "print(keyword.iskeyword('try')) # result is True because it's keyword in python\n",
    "print(\"--------------------------------------\")\n",
    "\n",
    "print(keyword.iskeyword('var_1')) # result is False because it's not keyword in python"
   ]
  },
  {
   "cell_type": "markdown",
   "id": "0658fddc",
   "metadata": {},
   "source": [
    "## Q.2. What are the rules to create variables in python?\n",
    "\n",
    "## Answer: \n",
    "\n",
    "####  A variable name can be a short name (like x or y) or a more descriptive name (like name, age, or total_sale). Rules for variables are below. \n",
    "1. A variable name must start with a letter or underscore character\n",
    "2. A variable name can only contain alpha-numeric character and underscore (a-z, A-Z, 0-9, _) \n",
    "3. A variable name can not start with a number\n",
    "4. A variable name can not be any of the Python keywords.\n",
    "5. Variable names are case-sensitive (age, Age, AGE: these three are different variable)"
   ]
  },
  {
   "cell_type": "markdown",
   "id": "3826c482",
   "metadata": {},
   "source": [
    "## Q.3. What are the standards and conventions followed for the nomenclature of variables in python to improve code readability and maintainability?\n",
    "\n",
    "\n",
    "## Answer: \n",
    "\n",
    "####  In Python, following consistent naming conventions is crucial for code readability and maintainability. The naming conventions are outlined below and here are some key points related to variable naming:\n",
    "\n",
    "####  Descriptive names:\n",
    "Choose variable names that convey the purpose or meaning of the variable. Avoid single-letter variable names unless they represent loop counters.\n",
    "####  Lowercase with underscores:\n",
    "Variable names should be lowercase, and words in a variable name should be separated by underscores. This is known as \"snake_case.\" For example: user_name, total_count.\n",
    "####  Avoid using single leading underscores:\n",
    "While a single leading underscore is a convention indicating a weak \"internal use\" variable, it's not enforced by the Python interpreter. Use it only when you want to indicate that a variable is for internal use within the module.\n",
    "####  Meaningful names:\n",
    "Choose names that clearly represent the data or functionality associated with the variable. For example, use file_contents instead of just data.\n",
    "####  Be consistent:\n",
    "Maintain consistency in your naming conventions throughout your codebase. If you use a certain style for variable names, stick to it.\n",
    "####  Avoid using reserved words:\n",
    "Do not use Python reserved words as variable names. This can lead to confusion and unexpected behavior.\n",
    "####  Follow conventions for specific types of variables:\n",
    "For constants, use all uppercase letters with underscores separating words (e.g., MAX_SIZE).\n",
    "For class names, use CamelCase (e.g., MyClass).\n",
    "For module-level constants, use all uppercase with underscores (e.g., PI).\n",
    "####  Self-explanatory names:\n",
    "Choose names that are self-explanatory and reduce the need for comments to explain the purpose of the variable.\n",
    "\n",
    "#### Example - "
   ]
  },
  {
   "cell_type": "code",
   "execution_count": 244,
   "id": "2318fbf5",
   "metadata": {},
   "outputs": [],
   "source": [
    "# Good\n",
    "user_name = \"JohnDoe\"\n",
    "total_count = 100\n",
    "max_retry_attempts = 3\n",
    "is_valid = True\n",
    "\n",
    "# Bad\n",
    "u = \"JohnDoe\"\n",
    "tc = 100\n",
    "mra = 3\n",
    "iv = True"
   ]
  },
  {
   "cell_type": "markdown",
   "id": "ee0a6b43",
   "metadata": {},
   "source": [
    "## Q.4. What will happen if a keyword is used as a variable name?\n",
    "\n",
    "\n",
    "## Answer: \n",
    "\n",
    "####  If a keyword is used as a variable name, then it will give a syntax error \"SyntaxError: invalid syntax\"."
   ]
  },
  {
   "cell_type": "code",
   "execution_count": 245,
   "id": "99ef68ca",
   "metadata": {},
   "outputs": [
    {
     "ename": "SyntaxError",
     "evalue": "invalid syntax (3740225093.py, line 2)",
     "output_type": "error",
     "traceback": [
      "\u001b[1;36m  Cell \u001b[1;32mIn[245], line 2\u001b[1;36m\u001b[0m\n\u001b[1;33m    for = 1001\u001b[0m\n\u001b[1;37m        ^\u001b[0m\n\u001b[1;31mSyntaxError\u001b[0m\u001b[1;31m:\u001b[0m invalid syntax\n"
     ]
    }
   ],
   "source": [
    "# keyword as variable name\n",
    "for = 1001\n",
    "print(for)"
   ]
  },
  {
   "cell_type": "code",
   "execution_count": 246,
   "id": "d8c209b9",
   "metadata": {},
   "outputs": [
    {
     "name": "stdout",
     "output_type": "stream",
     "text": [
      "1001\n"
     ]
    }
   ],
   "source": [
    "# keyword not as variable name\n",
    "for_1 = 1001\n",
    "print(for_1)"
   ]
  },
  {
   "cell_type": "markdown",
   "id": "66185299",
   "metadata": {},
   "source": [
    "## Q.5.  For what purpose def keyword is used?\n",
    "## Answer: \n",
    "####  def keyword is used to create or define a function.\n",
    "####  Example - "
   ]
  },
  {
   "cell_type": "code",
   "execution_count": 247,
   "id": "8d92e37f",
   "metadata": {},
   "outputs": [],
   "source": [
    "def print_msg(user_name):\n",
    "    return (f\"Hey {user_name}, Welcome to my Python tutorial.\")"
   ]
  },
  {
   "cell_type": "code",
   "execution_count": 248,
   "id": "0269e2fa",
   "metadata": {},
   "outputs": [
    {
     "data": {
      "text/plain": [
       "'Hey Sunny, Welcome to my Python tutorial.'"
      ]
     },
     "execution_count": 248,
     "metadata": {},
     "output_type": "execute_result"
    }
   ],
   "source": [
    "print_msg(\"Sunny\")"
   ]
  },
  {
   "cell_type": "code",
   "execution_count": 249,
   "id": "2bb9289a",
   "metadata": {},
   "outputs": [],
   "source": [
    "# creating a function using the def keyword, assuming a and b are integers and the value for them is greater than 0.\n",
    "def number_calculation(a,b):\n",
    "    add = round(a+b,2)\n",
    "    sub=round(a-b,2)\n",
    "    mul=round(a*b,2)\n",
    "    div=round(a/b,2)\n",
    "    return add, sub, mul, div"
   ]
  },
  {
   "cell_type": "code",
   "execution_count": 250,
   "id": "14a0b0d0",
   "metadata": {},
   "outputs": [
    {
     "data": {
      "text/plain": [
       "(72, 56, 512, 8.0)"
      ]
     },
     "execution_count": 250,
     "metadata": {},
     "output_type": "execute_result"
    }
   ],
   "source": [
    "number_calculation(64,8)"
   ]
  },
  {
   "cell_type": "code",
   "execution_count": 251,
   "id": "747dd3ea",
   "metadata": {},
   "outputs": [
    {
     "name": "stdout",
     "output_type": "stream",
     "text": [
      "addition:  72\n",
      "substraction:  56\n",
      "multiplication:  512\n",
      "division:  8.0\n"
     ]
    }
   ],
   "source": [
    "add,sub,mul,div = number_calculation(64,8)\n",
    "print(\"addition: \",add)\n",
    "print(\"substraction: \",sub)\n",
    "print(\"multiplication: \",mul)\n",
    "print(\"division: \",div)"
   ]
  },
  {
   "cell_type": "markdown",
   "id": "1b3e615a",
   "metadata": {},
   "source": [
    "## Q.6. What is the operation of this special character ‘\\’?\n",
    "\n",
    "## Answer: \n",
    "####  In Python, backslash ('\\') is a special character, also called the \"escape\" character. Generally, the backslash has two main purposes. First, the backslash character is a part of special character sequences such as the tab character \\t or the new line character \\n.\n",
    "####  It has several other importance as well, one of them is shown in the example below.\n",
    "####  Example "
   ]
  },
  {
   "cell_type": "code",
   "execution_count": 252,
   "id": "943d1287",
   "metadata": {},
   "outputs": [
    {
     "name": "stdout",
     "output_type": "stream",
     "text": [
      "Good Morning\tAakash\n"
     ]
    }
   ],
   "source": [
    "# tab character\n",
    "x = \"Good Morning\\tAakash\"\n",
    "print(x)"
   ]
  },
  {
   "cell_type": "code",
   "execution_count": 253,
   "id": "024376de",
   "metadata": {},
   "outputs": [
    {
     "name": "stdout",
     "output_type": "stream",
     "text": [
      "Good Morning\n",
      "Aakash\n"
     ]
    }
   ],
   "source": [
    "# new line character\n",
    "x = \"Good Morning\\nAakash\"\n",
    "print(x)"
   ]
  },
  {
   "cell_type": "code",
   "execution_count": 254,
   "id": "33dd32f7",
   "metadata": {},
   "outputs": [
    {
     "ename": "SyntaxError",
     "evalue": "unterminated string literal (detected at line 2) (2983008165.py, line 2)",
     "output_type": "error",
     "traceback": [
      "\u001b[1;36m  Cell \u001b[1;32mIn[254], line 2\u001b[1;36m\u001b[0m\n\u001b[1;33m    x = 'Good Morning'Aakash'\u001b[0m\n\u001b[1;37m                            ^\u001b[0m\n\u001b[1;31mSyntaxError\u001b[0m\u001b[1;31m:\u001b[0m unterminated string literal (detected at line 2)\n"
     ]
    }
   ],
   "source": [
    "# throwing error as invalid value assigned\n",
    "x = 'Good Morning'Aakash'\n",
    "print(x)"
   ]
  },
  {
   "cell_type": "code",
   "execution_count": 255,
   "id": "2dac5388",
   "metadata": {},
   "outputs": [
    {
     "name": "stdout",
     "output_type": "stream",
     "text": [
      "Good Morning'Aakash\n"
     ]
    }
   ],
   "source": [
    "# no error dut adding backslash\n",
    "x = 'Good Morning\\'Aakash'\n",
    "print(x)"
   ]
  },
  {
   "cell_type": "code",
   "execution_count": 256,
   "id": "0a248340",
   "metadata": {},
   "outputs": [
    {
     "name": "stdout",
     "output_type": "stream",
     "text": [
      "\"\\\" is the backslash\n"
     ]
    }
   ],
   "source": [
    "y='\"\\\\\" is the backslash'\n",
    "print(y)"
   ]
  },
  {
   "cell_type": "code",
   "execution_count": 257,
   "id": "f3b21343",
   "metadata": {},
   "outputs": [
    {
     "ename": "SyntaxError",
     "evalue": "unexpected character after line continuation character (4048564478.py, line 1)",
     "output_type": "error",
     "traceback": [
      "\u001b[1;36m  Cell \u001b[1;32mIn[257], line 1\u001b[1;36m\u001b[0m\n\u001b[1;33m    y=''\\\\' is the backslash'\u001b[0m\n\u001b[1;37m         ^\u001b[0m\n\u001b[1;31mSyntaxError\u001b[0m\u001b[1;31m:\u001b[0m unexpected character after line continuation character\n"
     ]
    }
   ],
   "source": [
    "y=''\\\\' is the backslash'\n",
    "print(y)"
   ]
  },
  {
   "cell_type": "markdown",
   "id": "879b0b34",
   "metadata": {},
   "source": [
    "## Q.7. Give an example of the following conditions:\n",
    "### (i) Homogeneous list (ii) Heterogeneous set (iii) Homogeneous tuple\n",
    "\n",
    "## Answer:"
   ]
  },
  {
   "cell_type": "markdown",
   "id": "393ce57b",
   "metadata": {},
   "source": [
    "#### In Python, a homogeneous list is a list that contains elements of the same data type"
   ]
  },
  {
   "cell_type": "code",
   "execution_count": 258,
   "id": "4b603dd5",
   "metadata": {},
   "outputs": [
    {
     "name": "stdout",
     "output_type": "stream",
     "text": [
      "[1, 2, 3, 4, 5]\n",
      "['apple', 'banana', 'orange']\n",
      "[0.5, 1.0, 1.5, 2.0]\n"
     ]
    }
   ],
   "source": [
    "# Homogeneous list of integers\n",
    "int_list = [1, 2, 3, 4, 5]\n",
    "\n",
    "# Homogeneous list of strings\n",
    "str_list = [\"apple\", \"banana\", \"orange\"]\n",
    "\n",
    "# Homogeneous list of floats\n",
    "float_list = [0.5, 1.0, 1.5, 2.0]\n",
    "\n",
    "# Homogeneous list of booleans\n",
    "bool_list = [True, False, True, False]\n",
    "print(int_list)\n",
    "print(str_list)\n",
    "print(float_list)"
   ]
  },
  {
   "cell_type": "markdown",
   "id": "87021be9",
   "metadata": {},
   "source": [
    "#### In Python, sets are typically designed to contain elements of the same data type.The uniqueness property of sets relies on hashing, which is dependent on the data type of the elements. However, Python allows flexibility, it's essential to choose the appropriate data structure based on the specific requirements of your program or application."
   ]
  },
  {
   "cell_type": "code",
   "execution_count": 270,
   "id": "7fe8b5e9",
   "metadata": {},
   "outputs": [
    {
     "ename": "TypeError",
     "evalue": "unhashable type: 'list'",
     "output_type": "error",
     "traceback": [
      "\u001b[1;31m---------------------------------------------------------------------------\u001b[0m",
      "\u001b[1;31mTypeError\u001b[0m                                 Traceback (most recent call last)",
      "Cell \u001b[1;32mIn[270], line 5\u001b[0m\n\u001b[0;32m      2\u001b[0m hetero_set_tuple \u001b[38;5;241m=\u001b[39m {(\u001b[38;5;124m\"\u001b[39m\u001b[38;5;124mapple\u001b[39m\u001b[38;5;124m\"\u001b[39m, \u001b[38;5;241m1\u001b[39m), (\u001b[38;5;241m2.5\u001b[39m, \u001b[38;5;28;01mTrue\u001b[39;00m), (\u001b[38;5;124m\"\u001b[39m\u001b[38;5;124morange\u001b[39m\u001b[38;5;124m\"\u001b[39m, \u001b[38;5;241m3\u001b[39m)}\n\u001b[0;32m      4\u001b[0m \u001b[38;5;66;03m# Heterogeneous set using a list\u001b[39;00m\n\u001b[1;32m----> 5\u001b[0m hetero_set_list \u001b[38;5;241m=\u001b[39m {[\u001b[38;5;241m1\u001b[39m, \u001b[38;5;241m2\u001b[39m, \u001b[38;5;241m3\u001b[39m], \u001b[38;5;124m\"\u001b[39m\u001b[38;5;124mhello\u001b[39m\u001b[38;5;124m\"\u001b[39m, (\u001b[38;5;28;01mTrue\u001b[39;00m, \u001b[38;5;28;01mFalse\u001b[39;00m)}\n\u001b[0;32m      7\u001b[0m \u001b[38;5;66;03m# Heterogeneous set using a mix of types\u001b[39;00m\n\u001b[0;32m      8\u001b[0m hetero_set_mixed \u001b[38;5;241m=\u001b[39m {\u001b[38;5;241m1\u001b[39m, \u001b[38;5;124m\"\u001b[39m\u001b[38;5;124mapple\u001b[39m\u001b[38;5;124m\"\u001b[39m, \u001b[38;5;241m3.14\u001b[39m, \u001b[38;5;28;01mTrue\u001b[39;00m, (\u001b[38;5;241m1\u001b[39m, \u001b[38;5;241m2\u001b[39m, \u001b[38;5;241m3\u001b[39m)}\n",
      "\u001b[1;31mTypeError\u001b[0m: unhashable type: 'list'"
     ]
    }
   ],
   "source": [
    "# Heterogeneous set using a tuple\n",
    "hetero_set_tuple = {(\"apple\", 1), (2.5, True), (\"orange\", 3)}\n",
    "\n",
    "# Heterogeneous set using a list\n",
    "hetero_set_list = {[1, 2, 3], \"hello\", (True, False)}\n",
    "\n",
    "# Heterogeneous set using a mix of types\n",
    "hetero_set_mixed = {1, \"apple\", 3.14, True, (1, 2, 3)}\n",
    "\n",
    "# Print the sets\n",
    "print(hetero_set_tuple)\n",
    "print(hetero_set_list)\n",
    "print(hetero_set_mixed)"
   ]
  },
  {
   "cell_type": "markdown",
   "id": "abe8b19c",
   "metadata": {},
   "source": [
    "#### In Python, a homogeneous tuple is a tuple that contains elements of the same data type"
   ]
  },
  {
   "cell_type": "code",
   "execution_count": 260,
   "id": "77c24f1b",
   "metadata": {},
   "outputs": [
    {
     "name": "stdout",
     "output_type": "stream",
     "text": [
      "(1, 2, 3, 4, 5)\n",
      "('apple', 'banana', 'orange')\n",
      "(0.5, 1.0, 1.5, 2.0)\n",
      "(True, False, True, False)\n"
     ]
    }
   ],
   "source": [
    "# Homogeneous tuple of integers\n",
    "int_tuple = (1, 2, 3, 4, 5)\n",
    "\n",
    "# Homogeneous tuple of strings\n",
    "str_tuple = (\"apple\", \"banana\", \"orange\")\n",
    "\n",
    "# Homogeneous tuple of floats\n",
    "float_tuple = (0.5, 1.0, 1.5, 2.0)\n",
    "\n",
    "# Homogeneous tuple of booleans\n",
    "bool_tuple = (True, False, True, False)\n",
    "\n",
    "print(int_tuple)\n",
    "print(str_tuple)\n",
    "print(float_tuple)\n",
    "print(bool_tuple)"
   ]
  },
  {
   "cell_type": "markdown",
   "id": "5be7b8a7",
   "metadata": {},
   "source": [
    "## Q.8. Explain the mutable and immutable data types with proper explanation & examples.\n",
    "\n",
    "## Answer: \n",
    "\n",
    "#### In Python, a mutable datatype can be changed after it is created, Exp- List, Set, Dictionary.\n",
    "#### In Python, an immutable datatype cannot be changed after it is created. Exp: tuples, strings, numbers."
   ]
  },
  {
   "cell_type": "markdown",
   "id": "737daac9",
   "metadata": {},
   "source": [
    "### String is immutable:"
   ]
  },
  {
   "cell_type": "code",
   "execution_count": 261,
   "id": "ece91af5",
   "metadata": {},
   "outputs": [
    {
     "ename": "SyntaxError",
     "evalue": "expression cannot contain assignment, perhaps you meant \"==\"? (2031640215.py, line 9)",
     "output_type": "error",
     "traceback": [
      "\u001b[1;36m  Cell \u001b[1;32mIn[261], line 9\u001b[1;36m\u001b[0m\n\u001b[1;33m    print(store_name[3]=\"_\") # trying to modify string but it's not working\u001b[0m\n\u001b[1;37m          ^\u001b[0m\n\u001b[1;31mSyntaxError\u001b[0m\u001b[1;31m:\u001b[0m expression cannot contain assignment, perhaps you meant \"==\"?\n"
     ]
    }
   ],
   "source": [
    "# string is immutable, not able to modify string once specified\n",
    "\n",
    "store_name= \"Big Bajar\"\n",
    "\n",
    "print(store_name[4:9]) # slicing using index, its working\n",
    " \n",
    "print(store_name[2])  # slicing using index,its working\n",
    "\n",
    "print(store_name[3]=\"_\") # trying to modify string but it's not working"
   ]
  },
  {
   "cell_type": "markdown",
   "id": "1fc914ff",
   "metadata": {},
   "source": [
    "### List:\n",
    "\n",
    "#### Here, we are able to modify, add, remove, and clear elements from the list.and hence the list is mutable."
   ]
  },
  {
   "cell_type": "code",
   "execution_count": 262,
   "id": "131c2a63",
   "metadata": {},
   "outputs": [
    {
     "name": "stdout",
     "output_type": "stream",
     "text": [
      "[1, 2, 3, 4, 'A', 'B', 'C']\n",
      "[1, 2, 3, 4, 'A', 'Apple', 'C']\n",
      "[1, 2, 3, 4, 'A', 'Apple']\n",
      "[1, 2, 4, 'A', 'Apple']\n",
      "[]\n"
     ]
    }
   ],
   "source": [
    "# list \n",
    "# here, we are able to modify, add, remove, clear element from the list,\n",
    "# and hence list is mutable \n",
    "\n",
    "L=[1,2,3]\n",
    "L.append(4) # adding element\n",
    "L.extend('ABC') # adding element\n",
    "print(L)\n",
    "L[5]='Apple' # modifying existing element\n",
    "print(L)\n",
    "L.pop()  # removing element\n",
    "print(L)\n",
    "L.remove(3) # removing element\n",
    "print(L)\n",
    "L.clear() # clearing all element\n",
    "print(L)"
   ]
  },
  {
   "cell_type": "markdown",
   "id": "45f2294d",
   "metadata": {},
   "source": [
    "### Tuple\n",
    "#### Here, we can't add, modify, or clear the element of a tuple once specified, and hence the tuple is immutable."
   ]
  },
  {
   "cell_type": "code",
   "execution_count": 263,
   "id": "5ce3fd17",
   "metadata": {},
   "outputs": [
    {
     "name": "stdout",
     "output_type": "stream",
     "text": [
      "(1, 2, 3)\n"
     ]
    }
   ],
   "source": [
    "# tuple-  here, we can't add, modify, clear eliment of tuple once specified\n",
    "# and hence tuple is immutable\n",
    "T=(1,2,3)\n",
    "print(T)"
   ]
  },
  {
   "cell_type": "markdown",
   "id": "c71fb89e",
   "metadata": {},
   "source": [
    "### set\n",
    "#### Here, we are able to add and remove elements from the set, and hence the set is mutable.\n",
    "#### An element of a set is immutable, which means it can't be changed."
   ]
  },
  {
   "cell_type": "code",
   "execution_count": 264,
   "id": "cee1d765",
   "metadata": {},
   "outputs": [
    {
     "name": "stdout",
     "output_type": "stream",
     "text": [
      "{1, 2, 3, 4, 5, 6, 66, 77}\n",
      "{2, 3, 4, 5, 6, 66, 77}\n",
      "{3, 4, 5, 6, 66, 77}\n",
      "{3, 4, 6, 66, 77}\n",
      "set()\n",
      "{1001}\n",
      "{33, 22, 1001, 11, 44}\n"
     ]
    }
   ],
   "source": [
    "\n",
    "S={1,2,3,4,5}\n",
    "S.add(6) # adding element\n",
    "S.add(66) # adding element\n",
    "S.add(77) # adding element\n",
    "print(S)\n",
    "\n",
    "S.pop() # removing element \n",
    "print(S)\n",
    "\n",
    "S.pop()  # removing element\n",
    "print(S)\n",
    "\n",
    "S.remove(5) # removing element\n",
    "print(S)\n",
    "\n",
    "S.clear() # clearing all element\n",
    "print(S)\n",
    " \n",
    "S.add(1001) # adding element\n",
    "print(S)\n",
    "\n",
    "S2={11,22,33,44} \n",
    "\n",
    "S2.update(S) # adding element\n",
    "print(S2)\n"
   ]
  },
  {
   "cell_type": "markdown",
   "id": "cc8250d5",
   "metadata": {},
   "source": [
    "### Dictionary\n",
    "#### Here, we are able to modify, add, remove, and clear elements from the dictionary, and hence the dictionary is mutable."
   ]
  },
  {
   "cell_type": "code",
   "execution_count": 265,
   "id": "f9d59a1e",
   "metadata": {},
   "outputs": [
    {
     "name": "stdout",
     "output_type": "stream",
     "text": [
      "{'one': 1, 'two': 2, 'three': 3, 'four': 4, 'five': 5}\n",
      "{'one': 1, 'two': 2, 'three': 3, 'four': 4, 'five': 5, 'six': 6}\n",
      "{'one': 1, 'two': 2, 'three': 3, 'four': 4, 'six': 6}\n",
      "{'one': 1, 'two': 2, 'three': 3, 'four': 4}\n",
      "{'one': 1, 'two': 2, 'three': 3}\n",
      "{'one': 1, 'two': 2, 'three': 3, 'eight': 8}\n",
      "{'one': 11, 'two': 2, 'three': 3, 'eight': 8}\n",
      "{}\n"
     ]
    }
   ],
   "source": [
    "\n",
    "D={'one':1,'two':2,'three':3,'four':4,'five':5}\n",
    "print(D)\n",
    "\n",
    "D.setdefault('six',6) # adding element\n",
    "print(D)\n",
    "\n",
    "D.pop('five') # removing element\n",
    "print(D)\n",
    "\n",
    "D.popitem() # removing element\n",
    "print(D)\n",
    "\n",
    "D.popitem() # adding element\n",
    "print(D)\n",
    "\n",
    "D.update({\"eight\": 8}) # adding element\n",
    "print(D)\n",
    "\n",
    "D.update({\"one\": 11}) # adding element\n",
    "print(D)\n",
    "\n",
    "D.clear() # removing all element\n",
    "print(D)"
   ]
  },
  {
   "cell_type": "markdown",
   "id": "19629bc3",
   "metadata": {},
   "source": [
    "## Q.9. Write a code to create the given structure using only for loop."
   ]
  },
  {
   "cell_type": "code",
   "execution_count": 266,
   "id": "5137c1dc",
   "metadata": {},
   "outputs": [
    {
     "data": {
      "text/plain": [
       "'\\n    *\\n   ***\\n  *****\\n *******\\n*********\\n'"
      ]
     },
     "execution_count": 266,
     "metadata": {},
     "output_type": "execute_result"
    }
   ],
   "source": [
    "'''\n",
    "    *\n",
    "   ***\n",
    "  *****\n",
    " *******\n",
    "*********\n",
    "'''    "
   ]
  },
  {
   "cell_type": "markdown",
   "id": "af49eb2b",
   "metadata": {},
   "source": [
    "## Answer: "
   ]
  },
  {
   "cell_type": "code",
   "execution_count": 267,
   "id": "73f4fca5",
   "metadata": {},
   "outputs": [
    {
     "name": "stdout",
     "output_type": "stream",
     "text": [
      "        * \n",
      "      * * * \n",
      "    * * * * * \n",
      "  * * * * * * * \n",
      "* * * * * * * * * \n"
     ]
    }
   ],
   "source": [
    "row=5\n",
    "col=9\n",
    "\n",
    "for i in range(0,row,1):\n",
    "    k=0\n",
    "    for j in range(0,col-row-i):\n",
    "        print(\" \",end=\" \")\n",
    "        k+=1\n",
    "\n",
    "    for l in range(k,row+i):\n",
    "        print(\"*\",end=\" \")\n",
    "    \n",
    "    print()\n"
   ]
  },
  {
   "cell_type": "markdown",
   "id": "7b5d4879",
   "metadata": {},
   "source": [
    "## Q.10. Write a code to create the given structure using while loop."
   ]
  },
  {
   "cell_type": "code",
   "execution_count": 268,
   "id": "5403f711",
   "metadata": {},
   "outputs": [
    {
     "data": {
      "text/plain": [
       "'\\n|||||||||\\n |||||||\\n  |||||\\n   |||\\n    | \\n'"
      ]
     },
     "execution_count": 268,
     "metadata": {},
     "output_type": "execute_result"
    }
   ],
   "source": [
    "'''\n",
    "|||||||||\n",
    " |||||||\n",
    "  |||||\n",
    "   |||\n",
    "    | \n",
    "'''    "
   ]
  },
  {
   "cell_type": "markdown",
   "id": "dd6a3ca3",
   "metadata": {},
   "source": [
    "## Answer:"
   ]
  },
  {
   "cell_type": "code",
   "execution_count": 269,
   "id": "25a33c6d",
   "metadata": {},
   "outputs": [
    {
     "name": "stdout",
     "output_type": "stream",
     "text": [
      "| | | | | | | | | \n",
      "  | | | | | | | \n",
      "    | | | | | \n",
      "      | | | \n",
      "        | \n"
     ]
    }
   ],
   "source": [
    "row=5\n",
    "col=9\n",
    "x=0\n",
    "while x < row:\n",
    "    y=0\n",
    "    i=0\n",
    "    # print space\n",
    "    while i < x:\n",
    "        print(\" \",end=\" \")\n",
    "        i+=1   \n",
    "     # print pipe    \n",
    "    while y+x < col-x:\n",
    "        print(\"|\",end=\" \")      \n",
    "        y+=1       \n",
    "    print()    \n",
    "    x+=1"
   ]
  },
  {
   "cell_type": "code",
   "execution_count": null,
   "id": "829f1db3",
   "metadata": {},
   "outputs": [],
   "source": []
  }
 ],
 "metadata": {
  "kernelspec": {
   "display_name": "Python 3 (ipykernel)",
   "language": "python",
   "name": "python3"
  },
  "language_info": {
   "codemirror_mode": {
    "name": "ipython",
    "version": 3
   },
   "file_extension": ".py",
   "mimetype": "text/x-python",
   "name": "python",
   "nbconvert_exporter": "python",
   "pygments_lexer": "ipython3",
   "version": "3.10.9"
  }
 },
 "nbformat": 4,
 "nbformat_minor": 5
}
