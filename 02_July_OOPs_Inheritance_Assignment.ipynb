{
 "cells": [
  {
   "cell_type": "markdown",
   "id": "63b9f4b2",
   "metadata": {},
   "source": [
    "### Q1.Explain what inheritance is in object-oriented programming and why it is used\n",
    "### Answer: \n",
    "\n",
    "One of the core concepts in object-oriented programming (OOP) languages is inheritance. It is a mechanism that allows you to create a hierarchy of classes that share a set of properties and methods by deriving a class from another class. Inheritance is the capability of one class to derive or inherit the properties from another class. \n",
    "\n",
    "Inheritance allows you to access properties of another class. A parent class is a class whose properties are inherited by the child class. A child class is a class that drives the properties from its parent class\n",
    "\n",
    "It is used because it provides the reusability of a code. We don’t have to write the same code again and again. Also, it allows us to add more features to a class without modifying it.\n",
    "\n",
    "#### ---------------------------------------------------------------------------------------------------------------------------------------------------------------------------"
   ]
  },
  {
   "cell_type": "markdown",
   "id": "abdcf98a",
   "metadata": {},
   "source": [
    "### Q2. Discuss the concept of single inheritance and multiple inheritance, highlighting their differences and advantages.\n",
    "\n",
    "### Answer:\n",
    "\n",
    "#### Single Inheritance: \n",
    "When a child class inherits from only one parent class, it is called single inheritance. The advantage is that you will always be able to access properties only for one inherited parent class in derived class.\n",
    "\n",
    "#### Multiple Inheritance: \n",
    "When a child class inherits from multiple parent class, it is called multiple inheritance. The advantage is that you will always be able to access the properties of all parent classes in the derived class.\n",
    "#### ---------------------------------------------------------------------------------------------------------------------------------------------------------------------------"
   ]
  },
  {
   "cell_type": "markdown",
   "id": "25c6b0b9",
   "metadata": {},
   "source": [
    "### Q3. Explain the terms \"base class\" and \"derived class\" in the context of inheritance.\n",
    "\n",
    "### Answer:\n",
    "\n",
    "#### Base Class:\n",
    "A base class is a class whose properties are inherited and is also known as a parent class.\n",
    "\n",
    "#### Derived Class:\n",
    "A derived class is a class that inherits the properties of a parent class and is also known as a child class.\n",
    "\n",
    "#### ---------------------------------------------------------------------------------------------------------------------------------------------------------------------------"
   ]
  },
  {
   "cell_type": "code",
   "execution_count": 1,
   "id": "ef2f5853",
   "metadata": {},
   "outputs": [],
   "source": [
    "# base class\n",
    "class Level1: \n",
    "    def level1_info(self):\n",
    "        print(\"level 1 of the game is cleared.\")\n",
    "\n",
    "# derived class        \n",
    "class Level2(Level1):        \n",
    "    def level2_info(self):\n",
    "        print(\"level 2 of the game is cleared.\")"
   ]
  },
  {
   "cell_type": "code",
   "execution_count": 2,
   "id": "4bdc10d8",
   "metadata": {},
   "outputs": [
    {
     "name": "stdout",
     "output_type": "stream",
     "text": [
      "level 1 of the game is cleared.\n"
     ]
    }
   ],
   "source": [
    "l1=Level1()\n",
    "l1.level1_info()"
   ]
  },
  {
   "cell_type": "code",
   "execution_count": 3,
   "id": "ee4e1b33",
   "metadata": {},
   "outputs": [
    {
     "name": "stdout",
     "output_type": "stream",
     "text": [
      "level 1 of the game is cleared.\n",
      "level 2 of the game is cleared.\n"
     ]
    }
   ],
   "source": [
    "l2=Level2()\n",
    "l2.level1_info()\n",
    "l2.level2_info()"
   ]
  },
  {
   "cell_type": "markdown",
   "id": "4950a179",
   "metadata": {},
   "source": [
    "### Q4. What is the significance of the \"protected\" access modifier in inheritance? How does it differ from \"private\" and \"public\" modifiers?\n",
    "### Answer: \n",
    "#### Protectec:\n",
    "\n",
    "Protected identifiers name starts with one underscore. Protected identifiers can not be directly used from class object with dot (.) expression, rather it cab be accessed with expression \"object_name._\" \n",
    "\n",
    "Idendifiers with one underscore are specially treated by developer and generally don't modifiy unless required.\n",
    "This can be access in derived class or outside of the class using expression \"object_name._\" as per requirement.\n",
    "\n",
    "Exampe: _a, _b, _method_name\n",
    "\n",
    "\n",
    "#### Public:\n",
    "Public identifiers can be accessed and modified in the derived class, outside of class. It basically share data outside of the class.\n",
    "\n",
    "#### Private:\n",
    "Private identifiers start with doube underscore and can't be used outside of the class. It does not share data outside of the class. Identifiers with double underscore are private indentifier.\n",
    " \n",
    "#### --------------------------------------------------------------------------------------------------------------------------------------------------------------------------"
   ]
  },
  {
   "cell_type": "markdown",
   "id": "d6b0de66",
   "metadata": {},
   "source": [
    "### Example    "
   ]
  },
  {
   "cell_type": "markdown",
   "id": "1283f387",
   "metadata": {},
   "source": [
    "#### public/protected/private properties are used in below example for demonstration "
   ]
  },
  {
   "cell_type": "code",
   "execution_count": 17,
   "id": "0d096117",
   "metadata": {},
   "outputs": [],
   "source": [
    "# parent class\n",
    "class calculation():\n",
    "    def __init__(self, a, b, c, d):        \n",
    "        self.var1 = a  # public variable\n",
    "        self.var2 = b  # public variable\n",
    "        self._c = c    # protected variable can be accessed by derived class using under score \n",
    "        self.__d = d   # private variable and can't be accessed outside of class\n",
    " \n",
    "    def addition(self):\n",
    "        add= self.var1+self.var2\n",
    "        return add\n",
    "    \n",
    "    def substraction(self):\n",
    "        sub=self.var1-self.var2\n",
    "        return sub\n",
    "    \n",
    "    def _multiplication(self): # protected method can be accessed by derived class using under score \n",
    "        add= self.var1*self.var2\n",
    "        return add\n",
    "    \n",
    "    def __division(self): # private method and can't be accessed outside of class\n",
    "        sub=self.var1/self.var2\n",
    "        return sub\n",
    "\n",
    "# child class\n",
    "class calculation_info(calculation):    \n",
    "    def __init__(self, a, b, c, d):\n",
    "        super().__init__(a, b, c, d)    \n",
    "         \n",
    "    def _multiplication(self): # protected method can be accessed by derived class using under score \n",
    "        add= self.var1*self.var2*self.var1*self.var2\n",
    "        return add\n",
    "    \n",
    "    def status(self):\n",
    "        return f'Result printed successfully: {super().addition()}'\n",
    "      \n",
    "\n",
    "# child class\n",
    "class calculation_info_123(calculation_info):    \n",
    "    def __init__(self, a, b, c, d):\n",
    "        super().__init__(a, b, c, d)      "
   ]
  },
  {
   "cell_type": "code",
   "execution_count": 18,
   "id": "33fe6ce4",
   "metadata": {},
   "outputs": [],
   "source": [
    "ci=calculation_info(50,10,5,8)"
   ]
  },
  {
   "cell_type": "code",
   "execution_count": 20,
   "id": "56d8ac8e",
   "metadata": {},
   "outputs": [
    {
     "name": "stdout",
     "output_type": "stream",
     "text": [
      "50\n",
      "10\n",
      "addition 60\n",
      "substractionc 40\n",
      "Result printed successfully: 60\n"
     ]
    }
   ],
   "source": [
    "# public properties and can be access easly by the derived class\n",
    "print(ci.var1)\n",
    "print(ci.var2)\n",
    "print('addition',ci.addition())\n",
    "print('substractionc',ci.substraction())\n",
    "print(ci.status())"
   ]
  },
  {
   "cell_type": "code",
   "execution_count": 21,
   "id": "55c5ba91",
   "metadata": {},
   "outputs": [
    {
     "name": "stdout",
     "output_type": "stream",
     "text": [
      "5\n",
      "100\n",
      "multiplication 250000\n"
     ]
    }
   ],
   "source": [
    "# protected properties that can be accessed by derived class using under score \n",
    "print(ci._c)\n",
    "ci._c=100\n",
    "print(ci._c)\n",
    "print('multiplication',ci._multiplication())"
   ]
  },
  {
   "cell_type": "code",
   "execution_count": 22,
   "id": "e5531437",
   "metadata": {},
   "outputs": [
    {
     "ename": "AttributeError",
     "evalue": "'calculation_info' object has no attribute '__d'",
     "output_type": "error",
     "traceback": [
      "\u001b[1;31m---------------------------------------------------------------------------\u001b[0m",
      "\u001b[1;31mAttributeError\u001b[0m                            Traceback (most recent call last)",
      "Cell \u001b[1;32mIn[22], line 2\u001b[0m\n\u001b[0;32m      1\u001b[0m \u001b[38;5;66;03m# private properties that can't be accessed outside of class. It does not share data outside of the class\u001b[39;00m\n\u001b[1;32m----> 2\u001b[0m \u001b[38;5;28mprint\u001b[39m(\u001b[43mci\u001b[49m\u001b[38;5;241;43m.\u001b[39;49m\u001b[43m__d\u001b[49m)\n",
      "\u001b[1;31mAttributeError\u001b[0m: 'calculation_info' object has no attribute '__d'"
     ]
    }
   ],
   "source": [
    "# private properties that can't be accessed outside of class. It does not share data outside of the class\n",
    "print(ci.__d)"
   ]
  },
  {
   "cell_type": "code",
   "execution_count": 23,
   "id": "3f1a36c1",
   "metadata": {},
   "outputs": [
    {
     "ename": "AttributeError",
     "evalue": "'calculation_info' object has no attribute '__division'",
     "output_type": "error",
     "traceback": [
      "\u001b[1;31m---------------------------------------------------------------------------\u001b[0m",
      "\u001b[1;31mAttributeError\u001b[0m                            Traceback (most recent call last)",
      "Cell \u001b[1;32mIn[23], line 2\u001b[0m\n\u001b[0;32m      1\u001b[0m \u001b[38;5;66;03m# private properties that can't be accessed outside of class. It does not share data outside of the class\u001b[39;00m\n\u001b[1;32m----> 2\u001b[0m \u001b[38;5;28mprint\u001b[39m(\u001b[38;5;124m'\u001b[39m\u001b[38;5;124mdivision\u001b[39m\u001b[38;5;124m'\u001b[39m,\u001b[43mci\u001b[49m\u001b[38;5;241;43m.\u001b[39;49m\u001b[43m__division\u001b[49m())\n",
      "\u001b[1;31mAttributeError\u001b[0m: 'calculation_info' object has no attribute '__division'"
     ]
    }
   ],
   "source": [
    "# private properties that can't be accessed outside of class. It does not share data outside of the class\n",
    "print('division',ci.__division())"
   ]
  },
  {
   "cell_type": "code",
   "execution_count": 24,
   "id": "ffdbc916",
   "metadata": {},
   "outputs": [
    {
     "data": {
      "text/plain": [
       "30"
      ]
     },
     "execution_count": 24,
     "metadata": {},
     "output_type": "execute_result"
    }
   ],
   "source": [
    "ci_123=calculation_info_123(10,20,30,40)\n",
    "ci_123._c"
   ]
  },
  {
   "cell_type": "markdown",
   "id": "2138a749",
   "metadata": {},
   "source": [
    "### Q5. What is the purpose of the \"super\" keyword in inheritance? Provide an example.\n",
    "### Answer: \n",
    "\n",
    "The super keyword is a built-in function that returns the objects that represent the parent class. It allows to access the parent class’s methods and attributes in the child class.\n"
   ]
  },
  {
   "cell_type": "code",
   "execution_count": 500,
   "id": "f5fbc7a6",
   "metadata": {},
   "outputs": [],
   "source": [
    "# parent class\n",
    "class calculation():\n",
    "    def __init__(self, a, b):        \n",
    "        self.var1 = a\n",
    "        self.var2 = b\n",
    " \n",
    "    def addition(self):\n",
    "        add= self.var1+self.var2\n",
    "        return add\n",
    "    \n",
    "    def substraction(self):\n",
    "        sub=self.var1-self.var2\n",
    "        return sub\n",
    "\n",
    "# child class\n",
    "class calculation_info(calculation):\n",
    "    def __init__(self, a, b):\n",
    "        self.aa = a\n",
    "        self.bb = b\n",
    "        # inheriting the properties of parent class\n",
    "        super().__init__(a,b)\n",
    "        \n",
    "    def multiplication(self):\n",
    "        mul= self.aa * self.bb\n",
    "        return mul\n",
    "    \n",
    "    def division(self):\n",
    "        div= self.aa / self.bb\n",
    "        return div\n",
    "    \n",
    "    def status(self):\n",
    "        print(\"calculation done successfully\")                      "
   ]
  },
  {
   "cell_type": "code",
   "execution_count": 501,
   "id": "83fde619",
   "metadata": {},
   "outputs": [],
   "source": [
    "## below created objects and accessed class properties\n",
    "ci = calculation_info(50,80)"
   ]
  },
  {
   "cell_type": "code",
   "execution_count": 502,
   "id": "b1af140f",
   "metadata": {},
   "outputs": [
    {
     "name": "stdout",
     "output_type": "stream",
     "text": [
      "50\n",
      "80\n",
      "50\n",
      "80\n"
     ]
    }
   ],
   "source": [
    "print(ci.var1)\n",
    "print(ci.var2)\n",
    "print(ci.aa)\n",
    "print(ci.bb)"
   ]
  },
  {
   "cell_type": "code",
   "execution_count": 503,
   "id": "904d70b1",
   "metadata": {},
   "outputs": [
    {
     "data": {
      "text/plain": [
       "130"
      ]
     },
     "execution_count": 503,
     "metadata": {},
     "output_type": "execute_result"
    }
   ],
   "source": [
    "ci.addition()"
   ]
  },
  {
   "cell_type": "code",
   "execution_count": 504,
   "id": "ec288e33",
   "metadata": {},
   "outputs": [
    {
     "data": {
      "text/plain": [
       "-30"
      ]
     },
     "execution_count": 504,
     "metadata": {},
     "output_type": "execute_result"
    }
   ],
   "source": [
    "ci.substraction()"
   ]
  },
  {
   "cell_type": "code",
   "execution_count": 505,
   "id": "baed6208",
   "metadata": {},
   "outputs": [
    {
     "data": {
      "text/plain": [
       "4000"
      ]
     },
     "execution_count": 505,
     "metadata": {},
     "output_type": "execute_result"
    }
   ],
   "source": [
    "ci.multiplication()"
   ]
  },
  {
   "cell_type": "code",
   "execution_count": 506,
   "id": "1d167069",
   "metadata": {},
   "outputs": [
    {
     "data": {
      "text/plain": [
       "0.625"
      ]
     },
     "execution_count": 506,
     "metadata": {},
     "output_type": "execute_result"
    }
   ],
   "source": [
    "ci.division()"
   ]
  },
  {
   "cell_type": "code",
   "execution_count": 507,
   "id": "041ca80b",
   "metadata": {},
   "outputs": [],
   "source": [
    "class calculation_info_new(calculation):\n",
    "    def __init__(self, a, b):\n",
    "        self.aa = a\n",
    "        self.bb = b\n",
    "        # inheriting the properties of parent class\n",
    "        super().__init__(a,b) ## accessing the properties of parent class\n",
    "        \n",
    "    def add(self):\n",
    "        return super().addition()   ## accessing the properties of parent class"
   ]
  },
  {
   "cell_type": "code",
   "execution_count": 508,
   "id": "5dd8fe7e",
   "metadata": {},
   "outputs": [],
   "source": [
    "cin=calculation_info_new(60,20)"
   ]
  },
  {
   "cell_type": "code",
   "execution_count": 509,
   "id": "063136fa",
   "metadata": {},
   "outputs": [
    {
     "data": {
      "text/plain": [
       "80"
      ]
     },
     "execution_count": 509,
     "metadata": {},
     "output_type": "execute_result"
    }
   ],
   "source": [
    "cin.addition()"
   ]
  },
  {
   "cell_type": "code",
   "execution_count": 510,
   "id": "0553bbbe",
   "metadata": {},
   "outputs": [
    {
     "data": {
      "text/plain": [
       "80"
      ]
     },
     "execution_count": 510,
     "metadata": {},
     "output_type": "execute_result"
    }
   ],
   "source": [
    "cin.add()"
   ]
  },
  {
   "cell_type": "markdown",
   "id": "335b3bd7",
   "metadata": {},
   "source": [
    "### Q6. Create a base class called \"Vehicle\" with attributes like \"make\", \"model\", and \"year\".Then, create a derived class called \"Car\" that inherits from \"Vehicle\" and adds an attribute called \"fuel_type\". Implement appropriate methods in both classes.\n",
    "\n",
    "### Answer: "
   ]
  },
  {
   "cell_type": "code",
   "execution_count": 511,
   "id": "66d531a0",
   "metadata": {},
   "outputs": [],
   "source": [
    "# created base class with required properties and method\n",
    "class Vehicle:\n",
    "    def __init__(self, make, model, year):\n",
    "        self.make=make\n",
    "        self.model=model\n",
    "        self.year=year\n",
    "        \n",
    "    def _display_car_info(self):\n",
    "         print(f\"'Make: '{self.make}, 'Model: '{self.model},'Year: '{self.year}\")    \n",
    "\n",
    "# created derived class with required properties and method\n",
    "class Car(Vehicle):\n",
    "    def __init__(self, fuel_type):\n",
    "        self.fuel_type=fuel_type\n",
    "        super().__init__('Hyundai','I20','2014')\n",
    "        \n",
    "    def car_info_new(self):\n",
    "        print(f\"'Make: '{self.make}, 'Model: '{self.model},'Year: '{self.year}, 'Fuel Type: '{self.fuel_type}\")\n",
    "        \n",
    "    def car_info_old(self):\n",
    "        super()._display_car_info()\n"
   ]
  },
  {
   "cell_type": "code",
   "execution_count": 512,
   "id": "e5ecf965",
   "metadata": {},
   "outputs": [],
   "source": [
    "# created object and accessed respective available properties\n",
    "c=Car('petrol')"
   ]
  },
  {
   "cell_type": "code",
   "execution_count": 513,
   "id": "fd228645",
   "metadata": {},
   "outputs": [
    {
     "data": {
      "text/plain": [
       "'Hyundai'"
      ]
     },
     "execution_count": 513,
     "metadata": {},
     "output_type": "execute_result"
    }
   ],
   "source": [
    "c.make"
   ]
  },
  {
   "cell_type": "code",
   "execution_count": 514,
   "id": "809d6112",
   "metadata": {},
   "outputs": [
    {
     "data": {
      "text/plain": [
       "'I20'"
      ]
     },
     "execution_count": 514,
     "metadata": {},
     "output_type": "execute_result"
    }
   ],
   "source": [
    "c.model"
   ]
  },
  {
   "cell_type": "code",
   "execution_count": 515,
   "id": "007e18ca",
   "metadata": {},
   "outputs": [
    {
     "data": {
      "text/plain": [
       "'2014'"
      ]
     },
     "execution_count": 515,
     "metadata": {},
     "output_type": "execute_result"
    }
   ],
   "source": [
    "c.year"
   ]
  },
  {
   "cell_type": "code",
   "execution_count": 516,
   "id": "c84fdb69",
   "metadata": {},
   "outputs": [
    {
     "data": {
      "text/plain": [
       "'petrol'"
      ]
     },
     "execution_count": 516,
     "metadata": {},
     "output_type": "execute_result"
    }
   ],
   "source": [
    "c.fuel_type"
   ]
  },
  {
   "cell_type": "code",
   "execution_count": 517,
   "id": "5a1d3c3f",
   "metadata": {},
   "outputs": [
    {
     "name": "stdout",
     "output_type": "stream",
     "text": [
      "'Make: 'Hyundai, 'Model: 'I20,'Year: '2014, 'Fuel Type: 'petrol\n"
     ]
    }
   ],
   "source": [
    "c.car_info_new()"
   ]
  },
  {
   "cell_type": "code",
   "execution_count": 518,
   "id": "208ed711",
   "metadata": {},
   "outputs": [
    {
     "name": "stdout",
     "output_type": "stream",
     "text": [
      "'Make: 'Hyundai, 'Model: 'I20,'Year: '2014\n"
     ]
    }
   ],
   "source": [
    "c.car_info_old()"
   ]
  },
  {
   "cell_type": "markdown",
   "id": "f582aa8a",
   "metadata": {},
   "source": [
    "### Q7.  Create a base class called \"Employee\" with attributes like \"name\" and \"salary.\" Derive two classes, \"Manager\" and \"Developer,\" from \"Employee.\" Add an additional attribute called \"department\" for the \"Manager\" class and \"programming_language\" for the \"Developer\" class.\n",
    "### Answer:"
   ]
  },
  {
   "cell_type": "code",
   "execution_count": 519,
   "id": "7edd3b28",
   "metadata": {},
   "outputs": [],
   "source": [
    "# created base class\n",
    "class Employee:\n",
    "    def __init__(self,name,salary):\n",
    "        self.name=name\n",
    "        self.salary=salary\n",
    "\n",
    "# created derived class\n",
    "class Manager(Employee):\n",
    "    def __init__(self, department):\n",
    "        self.department=department\n",
    "        super().__init__(\"Rakesh Singh\",50000)\n",
    "        \n",
    "    def manager_info(self):\n",
    "        print(\"Name: \",self.name)\n",
    "        print(\"Salary: \",self.salary)\n",
    "        print(\"Department: \",self.department)\n",
    "\n",
    "# created derived class\n",
    "class Developer(Employee):\n",
    "    def __init__(self, programming_language):\n",
    "        self.programming_language=programming_language\n",
    "        super().__init__(\"Sunny Kumar\",90000)\n",
    "        \n",
    "    def developer_info(self):\n",
    "        print(\"Name: \",self.name)\n",
    "        print(\"Salary: \",self.salary)\n",
    "        print(\"Programming Language: \",self.programming_language)    \n"
   ]
  },
  {
   "cell_type": "code",
   "execution_count": 520,
   "id": "fc1984dc",
   "metadata": {},
   "outputs": [
    {
     "name": "stdout",
     "output_type": "stream",
     "text": [
      "Name:  Rakesh Singh\n",
      "Salary:  50000\n",
      "Department:  IT\n"
     ]
    }
   ],
   "source": [
    "# created object and accessed respective available properties\n",
    "m=Manager(\"IT\")\n",
    "m.manager_info()"
   ]
  },
  {
   "cell_type": "code",
   "execution_count": 521,
   "id": "cd734b9e",
   "metadata": {},
   "outputs": [
    {
     "name": "stdout",
     "output_type": "stream",
     "text": [
      "Name:  Sunny Kumar\n",
      "Salary:  90000\n",
      "Programming Language:  Python\n"
     ]
    }
   ],
   "source": [
    "# created object and accessed respective available properties\n",
    "d=Developer(\"Python\")\n",
    "d.developer_info()"
   ]
  },
  {
   "cell_type": "code",
   "execution_count": null,
   "id": "9fc7f688",
   "metadata": {},
   "outputs": [],
   "source": []
  },
  {
   "cell_type": "markdown",
   "id": "28607644",
   "metadata": {},
   "source": [
    "#### --------------------------------------------------------------------------------------------------------------------------------------------------------------------------------\n",
    "### Q8.  Design a base class called \"Shape\" with attributes like \"colour\" and \"border_width.\" Create derived classes, \"Rectangle\" and \"Circle,\" that inherit from \"Shape\" and add specific attributes like \"length\" and \"width\" for the \"Rectangle\" class and \"radius\" for the \"Circle\" class.\n",
    "\n",
    "### Answer:"
   ]
  },
  {
   "cell_type": "code",
   "execution_count": 522,
   "id": "34ab2589",
   "metadata": {},
   "outputs": [],
   "source": [
    "# created base class\n",
    "class Shape:\n",
    "    def __init__(self,colour,border_width):\n",
    "        self.colour=colour\n",
    "        self.border_width=border_width\n",
    "\n",
    "# created derived class        \n",
    "class Rectangle(Shape):\n",
    "    def __init__(self, length, width):\n",
    "        self.length=length\n",
    "        self.width=width\n",
    "        super().__init__('red','thick')\n",
    "\n",
    "# created derived class\n",
    "class Circle(Shape):\n",
    "    def __init__(self,radius):\n",
    "        self.radius=radius\n",
    "        super().__init__('blue','thin')\n",
    "        "
   ]
  },
  {
   "cell_type": "code",
   "execution_count": 523,
   "id": "f0cdd601",
   "metadata": {},
   "outputs": [],
   "source": [
    "# created object and accessed respective available properties\n",
    "r=Rectangle(7,8)"
   ]
  },
  {
   "cell_type": "code",
   "execution_count": 524,
   "id": "0a605c2d",
   "metadata": {},
   "outputs": [
    {
     "name": "stdout",
     "output_type": "stream",
     "text": [
      "thick\n",
      "red\n",
      "7\n",
      "8\n"
     ]
    }
   ],
   "source": [
    "print(r.border_width)\n",
    "print(r.colour)\n",
    "print(r.length)\n",
    "print(r.width)"
   ]
  },
  {
   "cell_type": "code",
   "execution_count": 525,
   "id": "e4e1fcf6",
   "metadata": {},
   "outputs": [],
   "source": [
    "# created object and accessed respective available properties\n",
    "c=Circle('5 cm')"
   ]
  },
  {
   "cell_type": "code",
   "execution_count": 526,
   "id": "d2d68929",
   "metadata": {},
   "outputs": [
    {
     "name": "stdout",
     "output_type": "stream",
     "text": [
      "thin\n",
      "blue\n",
      "5 cm\n"
     ]
    }
   ],
   "source": [
    "print(c.border_width)\n",
    "print(c.colour)\n",
    "print(c.radius)"
   ]
  },
  {
   "cell_type": "markdown",
   "id": "9d7120ee",
   "metadata": {},
   "source": [
    "#### --------------------------------------------------------------------------------------------------------------------------------------------------------------------------------\n",
    "### Q9. Create a base class called \"Device\" with attributes like \"brand\" and \"model.\" Derive two classes, \"Phone\" and \"Tablet,\" from \"Device.\" Add specific attributes like \"screen_size\" for the \"Phone\" class and \"battery_capacity\" for the \"Tablet\" class.\n",
    "\n",
    "### Answer:"
   ]
  },
  {
   "cell_type": "code",
   "execution_count": 527,
   "id": "95aa552a",
   "metadata": {},
   "outputs": [],
   "source": [
    "# Created base class\n",
    "class Device:\n",
    "    def __init__(self,brand,model):\n",
    "        self.brand=brand\n",
    "        self.model=model\n",
    "\n",
    "# Created derived class       \n",
    "class Phone(Device):\n",
    "    def __init__(self,screen_size):\n",
    "        self.screen_size=screen_size\n",
    "        self.a=Device('Nokia','N351')\n",
    "\n",
    "# Created derived class\n",
    "class Tablet(Device):\n",
    "    def __init__(self,battery_capacity):\n",
    "        self.battery_capacity=battery_capacity\n",
    "        super().__init__('acer','f312')\n",
    "                "
   ]
  },
  {
   "cell_type": "code",
   "execution_count": 528,
   "id": "e94453ad",
   "metadata": {},
   "outputs": [],
   "source": [
    "# created object and accessed respective available properties\n",
    "d=Device('Vivo','Y51')"
   ]
  },
  {
   "cell_type": "code",
   "execution_count": 529,
   "id": "7722e61f",
   "metadata": {},
   "outputs": [
    {
     "name": "stdout",
     "output_type": "stream",
     "text": [
      "Vivo\n",
      "Y51\n"
     ]
    }
   ],
   "source": [
    "print(d.brand)\n",
    "print(d.model)"
   ]
  },
  {
   "cell_type": "code",
   "execution_count": 530,
   "id": "33eab1b7",
   "metadata": {},
   "outputs": [],
   "source": [
    "# created object and accessed respective available properties\n",
    "p=Phone(\"4X6 Inch\")"
   ]
  },
  {
   "cell_type": "code",
   "execution_count": 531,
   "id": "4c93da3e",
   "metadata": {},
   "outputs": [
    {
     "name": "stdout",
     "output_type": "stream",
     "text": [
      "Nokia\n",
      "N351\n",
      "4X6 Inch\n"
     ]
    }
   ],
   "source": [
    "print(p.a.brand)\n",
    "print(p.a.model)\n",
    "print(p.screen_size)"
   ]
  },
  {
   "cell_type": "code",
   "execution_count": 532,
   "id": "ac2702ce",
   "metadata": {},
   "outputs": [],
   "source": [
    "# created object and accessed respective available properties\n",
    "t=Tablet('5 hrs')"
   ]
  },
  {
   "cell_type": "code",
   "execution_count": 533,
   "id": "c9556832",
   "metadata": {},
   "outputs": [
    {
     "name": "stdout",
     "output_type": "stream",
     "text": [
      "5 hrs\n",
      "acer\n",
      "f312\n"
     ]
    }
   ],
   "source": [
    "print(t.battery_capacity)\n",
    "print(t.brand)\n",
    "print(t.model)"
   ]
  },
  {
   "cell_type": "markdown",
   "id": "3073701e",
   "metadata": {},
   "source": [
    "#### ------------------------------------------------------------------------------------------------------------------------------------------------------------------------\n",
    "### Q10. Create a base class called \"BankAccount\" with attributes like \"account_number\" and \"balance.\" Derive two classes, \"SavingsAccount\" and \"CheckingAccount,\" from \"BankAccount.\" Add specific methods like \"calculate_interest\" for the \"SavingsAccount\" class and \"deduct_fees\" for the \"CheckingAccount\" class.\n",
    "### Answer:"
   ]
  },
  {
   "cell_type": "code",
   "execution_count": 534,
   "id": "35ca9fd8",
   "metadata": {},
   "outputs": [],
   "source": [
    "# creating base class\n",
    "class BankAccount:  \n",
    "    def __init__(self, account_number, balance):\n",
    "        self.account_number=account_number\n",
    "        self.balance=balance         \n",
    "\n",
    "# creating derived class with deduction \n",
    "class CheckingAccount(BankAccount):   \n",
    "    def __init__(self,ac_num, blnc):\n",
    "        super().__init__(ac_num,blnc)\n",
    "\n",
    "    def deduct_fees(self):\n",
    "        self.fees_rate = 0.01\n",
    "        self.fees_charged=self.balance*self.fees_rate\n",
    "        self.balance-=self.balance*self.fees_rate       \n",
    "        return f\"AccountNumber: {self.account_number}, Balance: {self.balance}, DeductFees: {self.fees_charged}\"\n",
    "\n",
    "# creating derived class with interest\n",
    "class SavingsAccount(BankAccount):\n",
    "    def __init__(self,ac_num, blnc):\n",
    "        super().__init__(ac_num, blnc)\n",
    "        \n",
    "    def calculate_interest(self):\n",
    "        self.int_rate = 0.035\n",
    "        self.int_earned=self.balance*self.int_rate\n",
    "        self.balance+=self.int_earned       \n",
    "        return f\"AccountNumber: {self.account_number}, Balance: {self.balance}, DeductFees: {self.int_earned}\"                              \n",
    "    "
   ]
  },
  {
   "cell_type": "code",
   "execution_count": 535,
   "id": "9ac8af40",
   "metadata": {},
   "outputs": [],
   "source": [
    "## below created objects for CheckingAccount\n",
    "c=CheckingAccount(\"FDQ000012345\",1000)"
   ]
  },
  {
   "cell_type": "code",
   "execution_count": 536,
   "id": "d9807667",
   "metadata": {},
   "outputs": [
    {
     "name": "stdout",
     "output_type": "stream",
     "text": [
      "1000\n"
     ]
    },
    {
     "data": {
      "text/plain": [
       "'AccountNumber: FDQ000012345, Balance: 990.0, DeductFees: 10.0'"
      ]
     },
     "execution_count": 536,
     "metadata": {},
     "output_type": "execute_result"
    }
   ],
   "source": [
    "print(c.balance)\n",
    "c.deduct_fees()"
   ]
  },
  {
   "cell_type": "code",
   "execution_count": 537,
   "id": "85ba33d9",
   "metadata": {},
   "outputs": [
    {
     "data": {
      "text/plain": [
       "10000"
      ]
     },
     "execution_count": 537,
     "metadata": {},
     "output_type": "execute_result"
    }
   ],
   "source": [
    "## below created objects for BankAccount class and it has no impact on balanc of CheckingAccount class\n",
    "b=BankAccount(\"UPI000003562\",10000)\n",
    "b.balance"
   ]
  },
  {
   "cell_type": "code",
   "execution_count": 538,
   "id": "2fabc395",
   "metadata": {},
   "outputs": [
    {
     "name": "stdout",
     "output_type": "stream",
     "text": [
      "AccountNumber: FDQ000012345, Balance: 980.1, DeductFees: 9.9\n",
      "500000\n"
     ]
    },
    {
     "data": {
      "text/plain": [
       "'AccountNumber: FDQ000012345, Balance: 495000.0, DeductFees: 5000.0'"
      ]
     },
     "execution_count": 538,
     "metadata": {},
     "output_type": "execute_result"
    }
   ],
   "source": [
    "# adding fund and accessing balance with deducted charge\n",
    "print(c.deduct_fees())\n",
    "c.balance=500000\n",
    "print(c.balance)\n",
    "c.deduct_fees()"
   ]
  },
  {
   "cell_type": "code",
   "execution_count": 539,
   "id": "f8e71e43",
   "metadata": {},
   "outputs": [
    {
     "data": {
      "text/plain": [
       "'AccountNumber: FDQ000012345, Balance: 490050.0, DeductFees: 4950.0'"
      ]
     },
     "execution_count": 539,
     "metadata": {},
     "output_type": "execute_result"
    }
   ],
   "source": [
    "c.deduct_fees() # as many time we call it deduct charge ad give updated balance"
   ]
  },
  {
   "cell_type": "code",
   "execution_count": 540,
   "id": "c9e6e691",
   "metadata": {},
   "outputs": [
    {
     "data": {
      "text/plain": [
       "'AccountNumber: FDQ000012345, Balance: 485149.5, DeductFees: 4900.5'"
      ]
     },
     "execution_count": 540,
     "metadata": {},
     "output_type": "execute_result"
    }
   ],
   "source": [
    "c.deduct_fees()  # as many time we call it deduct charge ad give updated balance"
   ]
  },
  {
   "cell_type": "code",
   "execution_count": 541,
   "id": "d7a5a4b9",
   "metadata": {},
   "outputs": [],
   "source": [
    "# creating object for SavingsAccount class and accessing interest\n",
    "s= SavingsAccount(\"FDQ000012345\",1000)"
   ]
  },
  {
   "cell_type": "code",
   "execution_count": 542,
   "id": "840b728d",
   "metadata": {},
   "outputs": [
    {
     "data": {
      "text/plain": [
       "'AccountNumber: FDQ000012345, Balance: 1035.0, DeductFees: 35.0'"
      ]
     },
     "execution_count": 542,
     "metadata": {},
     "output_type": "execute_result"
    }
   ],
   "source": [
    "s.calculate_interest()  # as many time we call it will add interest to balance and provide updated balance"
   ]
  },
  {
   "cell_type": "code",
   "execution_count": 543,
   "id": "cabbecaa",
   "metadata": {},
   "outputs": [
    {
     "data": {
      "text/plain": [
       "'AccountNumber: FDQ000012345, Balance: 1071.225, DeductFees: 36.225'"
      ]
     },
     "execution_count": 543,
     "metadata": {},
     "output_type": "execute_result"
    }
   ],
   "source": [
    "s.calculate_interest() # as many time we call it will add interest to balance and provide updated balance"
   ]
  },
  {
   "cell_type": "code",
   "execution_count": 544,
   "id": "c0a32cf0",
   "metadata": {},
   "outputs": [
    {
     "data": {
      "text/plain": [
       "'AccountNumber: FDQ000012345, Balance: 1108.7178749999998, DeductFees: 37.492875'"
      ]
     },
     "execution_count": 544,
     "metadata": {},
     "output_type": "execute_result"
    }
   ],
   "source": [
    "s.calculate_interest() # as many time we call it will add interest to balance and provide updated balance"
   ]
  },
  {
   "cell_type": "code",
   "execution_count": null,
   "id": "54b6120b",
   "metadata": {},
   "outputs": [],
   "source": []
  }
 ],
 "metadata": {
  "kernelspec": {
   "display_name": "Python 3 (ipykernel)",
   "language": "python",
   "name": "python3"
  },
  "language_info": {
   "codemirror_mode": {
    "name": "ipython",
    "version": 3
   },
   "file_extension": ".py",
   "mimetype": "text/x-python",
   "name": "python",
   "nbconvert_exporter": "python",
   "pygments_lexer": "ipython3",
   "version": "3.10.9"
  }
 },
 "nbformat": 4,
 "nbformat_minor": 5
}
