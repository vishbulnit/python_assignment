{
 "cells": [
  {
   "cell_type": "markdown",
   "id": "5b846258",
   "metadata": {},
   "source": [
    "## Q.1. Create two int type variables, apply addition, subtraction, division and multiplications and store the results in variables. Then print the data in the following format by calling the variables:\n",
    "\n",
    "#### First variable is __ & second variable is __.\n",
    "#### Addition: __ + __ = __\n",
    "#### Subtraction: __ - __ = __\n",
    "#### Multiplication: __ * __ = __\n",
    "#### Division: __ / __ = __\n",
    "\n",
    "## Answer:"
   ]
  },
  {
   "cell_type": "code",
   "execution_count": 126,
   "id": "80862259",
   "metadata": {},
   "outputs": [
    {
     "name": "stdout",
     "output_type": "stream",
     "text": [
      "Enter First Number: 75\n",
      "Enter Second Number: 15\n",
      "-----------------------------------\n",
      "First variable is 75 & Second variable is 15.\n",
      "Addition: 75 + 15 = 90\n",
      "Subtraction: 75 - 15 = 60\n",
      "Multiplication: 75 * 15 = 1125\n",
      "Division: 75 / 15 = 5.0\n"
     ]
    }
   ],
   "source": [
    "## created a function and solved this problem statement\n",
    "def calculations(first_number,second_number):\n",
    "    add = round(first_number+second_number,2)\n",
    "    sub = round(first_number-second_number,2)\n",
    "    mul = round(first_number*second_number,2)\n",
    "    div = round(first_number/second_number,2)\n",
    "    \n",
    "    print(f\"First variable is {first_number} & Second variable is {second_number}.\")\n",
    "    print(f\"Addition: {first_number} + {second_number} = {add}\")\n",
    "    print(f\"Subtraction: {first_number} - {second_number} = {sub}\")\n",
    "    print(f\"Multiplication: {first_number} * {second_number} = {mul}\")\n",
    "    print(f\"Division: {first_number} / {second_number} = {div}\")\n",
    "\n",
    "    \n",
    "first_number = int(input(\"Enter First Number: \"))\n",
    "second_number = int(input(\"Enter Second Number: \"))\n",
    "print(\"-----------------------------------\")\n",
    "calculations(first_number,second_number)"
   ]
  },
  {
   "cell_type": "markdown",
   "id": "cae13da4",
   "metadata": {},
   "source": [
    "## Q.2. What is the difference between the following operators?\n",
    "#### (i) ‘/’ & ‘//’\n",
    "#### (ii) ‘**’ & ‘^’\n",
    "\n",
    "## Answer:"
   ]
  },
  {
   "cell_type": "markdown",
   "id": "3ba04a2e",
   "metadata": {},
   "source": [
    "### (i) ‘/’ & ‘//’\n",
    "#### Operator: Float Division (/)\n",
    "Floor division is a mathematical operation that is used to divide two numbers and get the result in which the quotient is always a float number, no matter if two or one numbers are integers. It always gives the actual output. The float division operator is denoted by \"/\"."
   ]
  },
  {
   "cell_type": "code",
   "execution_count": 127,
   "id": "d2db55fb",
   "metadata": {},
   "outputs": [
    {
     "name": "stdout",
     "output_type": "stream",
     "text": [
      "4.0\n",
      "4.233333333333333\n",
      "5.5\n",
      "3.5\n",
      "5.6\n",
      "4.333333333333333\n"
     ]
    }
   ],
   "source": [
    "print(12/3)\n",
    "print(12.7/3)\n",
    "print(11/2)\n",
    "print(21/6)\n",
    "print(28/5)\n",
    "print(13/3)"
   ]
  },
  {
   "cell_type": "markdown",
   "id": "2ae51011",
   "metadata": {},
   "source": [
    "#### Operator: Floor Division (//)\n",
    "Floor division is a mathematical operation that is used to divide two numbers and get the result in which the quotient is rounded down to the nearest integer value. The floor division operator is denoted by \"//\"."
   ]
  },
  {
   "cell_type": "code",
   "execution_count": 128,
   "id": "f049ac72",
   "metadata": {},
   "outputs": [
    {
     "name": "stdout",
     "output_type": "stream",
     "text": [
      "4\n",
      "4.0\n",
      "5\n",
      "3.0\n",
      "5.0\n",
      "4\n"
     ]
    }
   ],
   "source": [
    "print(12//3) \n",
    "print(12.7//3)\n",
    "print(11//2)\n",
    "print(21.8//6)\n",
    "print(28.0//5)\n",
    "print(13//3)"
   ]
  },
  {
   "cell_type": "code",
   "execution_count": 129,
   "id": "11f4f6bc",
   "metadata": {},
   "outputs": [
    {
     "name": "stdout",
     "output_type": "stream",
     "text": [
      "-4\n",
      "-5.0\n",
      "-6\n",
      "-4.0\n",
      "-6.0\n",
      "-5\n"
     ]
    }
   ],
   "source": [
    "print(12//-3) \n",
    "print(12.7//-3)\n",
    "print(11//-2)\n",
    "print(21.8//-6)\n",
    "print(28.0//-5)\n",
    "print(13//-3)"
   ]
  },
  {
   "cell_type": "markdown",
   "id": "91c9da77",
   "metadata": {},
   "source": [
    "### (ii) ‘**’ & ‘^’\n",
    "\n",
    "#### This is Exponentiation ('**') operator ==> returns first raised to the power second."
   ]
  },
  {
   "cell_type": "code",
   "execution_count": 130,
   "id": "be238050",
   "metadata": {},
   "outputs": [
    {
     "data": {
      "text/plain": [
       "625"
      ]
     },
     "execution_count": 130,
     "metadata": {},
     "output_type": "execute_result"
    }
   ],
   "source": [
    "x=5\n",
    "y=4\n",
    "x**y # 5*5*5*5"
   ]
  },
  {
   "cell_type": "markdown",
   "id": "efb24e4e",
   "metadata": {},
   "source": [
    "#### This is XOR ('^') bitwise operator ==> The ^ operator compares each bit and set it to 1 if only one is 1, otherwise (if both are 1 or both are 0) it is set to 0:"
   ]
  },
  {
   "cell_type": "code",
   "execution_count": 132,
   "id": "a1ec8567",
   "metadata": {},
   "outputs": [
    {
     "name": "stdout",
     "output_type": "stream",
     "text": [
      "5\n"
     ]
    },
    {
     "data": {
      "text/plain": [
       "'\\nThe ^ operator compares each bit and set it to 1 if only one is 1, otherwise (if both are 1 or both are 0) it is set to 0:\\n\\n6 = 0000000000000110\\n3 = 0000000000000011\\n--------------------\\n5 = 0000000000000101\\n====================\\n\\nDecimal numbers and their binary values:\\n0 = 0000000000000000\\n1 = 0000000000000001\\n2 = 0000000000000010\\n3 = 0000000000000011\\n4 = 0000000000000100\\n5 = 0000000000000101\\n6 = 0000000000000110\\n7 = 0000000000000111\\n'"
      ]
     },
     "execution_count": 132,
     "metadata": {},
     "output_type": "execute_result"
    }
   ],
   "source": [
    "print(6 ^ 3)\n",
    "\n",
    "\"\"\"\n",
    "The ^ operator compares each bit and set it to 1 if only one is 1, otherwise (if both are 1 or both are 0) it is set to 0:\n",
    "\n",
    "6 = 0000000000000110\n",
    "3 = 0000000000000011\n",
    "--------------------\n",
    "5 = 0000000000000101\n",
    "====================\n",
    "\n",
    "Decimal numbers and their binary values:\n",
    "0 = 0000000000000000\n",
    "1 = 0000000000000001\n",
    "2 = 0000000000000010\n",
    "3 = 0000000000000011\n",
    "4 = 0000000000000100\n",
    "5 = 0000000000000101\n",
    "6 = 0000000000000110\n",
    "7 = 0000000000000111\n",
    "\"\"\""
   ]
  },
  {
   "cell_type": "markdown",
   "id": "d5362914",
   "metadata": {},
   "source": [
    "## Q.3. List the logical operators.\n",
    "\n",
    "## Answer:\n",
    "\n",
    "#### In Python, logical operators are - \n",
    "#### and \n",
    "#### or\n",
    "#### not"
   ]
  },
  {
   "cell_type": "markdown",
   "id": "ff5ff352",
   "metadata": {},
   "source": [
    "## Q.4. Explain right shift operator and left shift operator with examples.\n",
    "## Answer:\n",
    "#### Right Shift: \n",
    "\n",
    "The right shift operator works by shifting the binary representation of the first operand to the right by the number of positions specified by the second operand. Each position that the bits are shifted right is equivalent to dividing the number by 2.\n",
    "\n",
    "For example, if we have the binary number 101010 and we shift it two positions to the right, we get the binary number 001010, which is equivalent to the decimal number 42 >> 2 = 10. "
   ]
  },
  {
   "cell_type": "code",
   "execution_count": 137,
   "id": "dccff01e",
   "metadata": {},
   "outputs": [
    {
     "name": "stdout",
     "output_type": "stream",
     "text": [
      "binary of 42 : 101010\n",
      "binary of 10 : 1010\n",
      "--------------------------\n",
      "42 >> 2:  10\n"
     ]
    }
   ],
   "source": [
    "print(\"binary of 42 :\",bin(42).replace(\"0b\", \"\") )\n",
    "print(\"binary of 10 :\",bin(10).replace(\"0b\", \"\") )\n",
    "\n",
    "print(\"--------------------------\")\n",
    "num = 42\n",
    "right_shift = num >> 2\n",
    "print(\"42 >> 2: \",right_shift)"
   ]
  },
  {
   "cell_type": "markdown",
   "id": "31c49cea",
   "metadata": {},
   "source": [
    "#### Left Shift: \n",
    "\n",
    "The left shift operator works by shifting the binary representation of the first operand to the left by the number of positions specified by the second operand. Each position that the bits are shifted left is equivalent to multiplying the number by 2.\n",
    "\n",
    "For example, if we have the binary number 1111 and we shift it two positions to the left, we get the binary number 111100, which is equivalent to the decimal number 15 << 2 = 60. "
   ]
  },
  {
   "cell_type": "code",
   "execution_count": 138,
   "id": "91658230",
   "metadata": {},
   "outputs": [
    {
     "name": "stdout",
     "output_type": "stream",
     "text": [
      "binary of 15 : 1111\n",
      "binary of 60 : 111100\n",
      "--------------------------\n",
      "15 << 2:  60\n"
     ]
    }
   ],
   "source": [
    "print(\"binary of 15 :\",bin(15).replace(\"0b\", \"\") )\n",
    "print(\"binary of 60 :\",bin(60).replace(\"0b\", \"\") )\n",
    "\n",
    "print(\"--------------------------\")\n",
    "num = 15\n",
    "left_shift = num << 2\n",
    "print(\"15 << 2: \",left_shift)"
   ]
  },
  {
   "cell_type": "markdown",
   "id": "47bd3598",
   "metadata": {},
   "source": [
    "## Q.5. Create a list containing int type data of length 15. Then write a code to check if 10 is present in the list or not.\n",
    "\n",
    "## Answer:"
   ]
  },
  {
   "cell_type": "code",
   "execution_count": 139,
   "id": "ea1dc563",
   "metadata": {},
   "outputs": [
    {
     "name": "stdout",
     "output_type": "stream",
     "text": [
      "Length:  15\n",
      "List:  [1, 2, 3, 4, 5, 6, 7, 8, 9, 10, 11, 12, 13, 14, 15]\n"
     ]
    }
   ],
   "source": [
    "# created list using list comprehension\n",
    "L = [x for x in range(1,16)]\n",
    "print(\"Length: \",len(L))\n",
    "print(\"List: \",L)"
   ]
  },
  {
   "cell_type": "code",
   "execution_count": 140,
   "id": "4cb3f09a",
   "metadata": {},
   "outputs": [
    {
     "name": "stdout",
     "output_type": "stream",
     "text": [
      "True\n"
     ]
    }
   ],
   "source": [
    "# checking if 10 is present in the list or not\n",
    "\n",
    "# return True if present\n",
    "print(10 in L) "
   ]
  },
  {
   "cell_type": "code",
   "execution_count": 141,
   "id": "e720c50c",
   "metadata": {},
   "outputs": [
    {
     "name": "stdout",
     "output_type": "stream",
     "text": [
      "Length:  15\n",
      "List:  [3, 48, 27, 12, 4, 22, 47, 59, 87, 52, 93, 36, 39, 62, 67]\n"
     ]
    }
   ],
   "source": [
    "import numpy as np\n",
    "L1=list(np.random.randint(100, size=15, dtype=int))\n",
    "print(\"Length: \",len(L1))\n",
    "print(\"List: \",L1)"
   ]
  },
  {
   "cell_type": "code",
   "execution_count": 142,
   "id": "7f237c5e",
   "metadata": {},
   "outputs": [
    {
     "name": "stdout",
     "output_type": "stream",
     "text": [
      "False\n"
     ]
    }
   ],
   "source": [
    "# checking if 10 is present in the list or not\n",
    "\n",
    "# return True if present\n",
    "print(10 in L1) "
   ]
  },
  {
   "cell_type": "code",
   "execution_count": null,
   "id": "de375713",
   "metadata": {},
   "outputs": [],
   "source": []
  }
 ],
 "metadata": {
  "kernelspec": {
   "display_name": "Python 3 (ipykernel)",
   "language": "python",
   "name": "python3"
  },
  "language_info": {
   "codemirror_mode": {
    "name": "ipython",
    "version": 3
   },
   "file_extension": ".py",
   "mimetype": "text/x-python",
   "name": "python",
   "nbconvert_exporter": "python",
   "pygments_lexer": "ipython3",
   "version": "3.10.9"
  }
 },
 "nbformat": 4,
 "nbformat_minor": 5
}
