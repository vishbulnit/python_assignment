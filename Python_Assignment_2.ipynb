{
 "cells": [
  {
   "cell_type": "markdown",
   "id": "2473d9ec-8a7f-4562-a79e-5abe4bba11d0",
   "metadata": {},
   "source": [
    "# Python Assignment"
   ]
  },
  {
   "cell_type": "markdown",
   "id": "b4f1cf61-ee7a-43d8-b722-313b978cf970",
   "metadata": {
    "tags": []
   },
   "source": [
    "#### Q1. What are the two values of the Boolean data type? How do you write them?\n",
    "#### Ans- \n",
    "The two value of boolean data type are True (1) and False (0)."
   ]
  },
  {
   "cell_type": "code",
   "execution_count": 4,
   "id": "12e88bf5-158e-4ebb-88b4-0fbac9c3f127",
   "metadata": {},
   "outputs": [
    {
     "name": "stdout",
     "output_type": "stream",
     "text": [
      "True -- <class 'bool'>\n",
      "False -- <class 'bool'>\n"
     ]
    }
   ],
   "source": [
    "x = True\n",
    "print(x,\"--\",type(x))\n",
    "y = False\n",
    "print(y,\"--\",type(y))"
   ]
  },
  {
   "cell_type": "code",
   "execution_count": null,
   "id": "02733f6b-6346-4f0b-830b-4eacc61887fc",
   "metadata": {},
   "outputs": [],
   "source": []
  },
  {
   "cell_type": "markdown",
   "id": "3b556639-b539-45ab-9bd9-f092b62eb04b",
   "metadata": {},
   "source": [
    "#### Q2. What are the three different types of Boolean operators?\n",
    "#### Ans -\n",
    "Three type of boolean operator are as follow - \n"
   ]
  },
  {
   "cell_type": "code",
   "execution_count": 2,
   "id": "faab357d-ab27-4e76-8ace-2aa2850b91a6",
   "metadata": {},
   "outputs": [
    {
     "data": {
      "text/html": [
       "<div>\n",
       "<style scoped>\n",
       "    .dataframe tbody tr th:only-of-type {\n",
       "        vertical-align: middle;\n",
       "    }\n",
       "\n",
       "    .dataframe tbody tr th {\n",
       "        vertical-align: top;\n",
       "    }\n",
       "\n",
       "    .dataframe thead th {\n",
       "        text-align: right;\n",
       "    }\n",
       "</style>\n",
       "<table border=\"1\" class=\"dataframe\">\n",
       "  <thead>\n",
       "    <tr style=\"text-align: right;\">\n",
       "      <th></th>\n",
       "      <th>Operator</th>\n",
       "      <th>Meaning</th>\n",
       "      <th>Example</th>\n",
       "    </tr>\n",
       "  </thead>\n",
       "  <tbody>\n",
       "    <tr>\n",
       "      <th>1</th>\n",
       "      <td>and</td>\n",
       "      <td>True if both the operands are true</td>\n",
       "      <td>a and b</td>\n",
       "    </tr>\n",
       "    <tr>\n",
       "      <th>2</th>\n",
       "      <td>or</td>\n",
       "      <td>True if either of the operand is true</td>\n",
       "      <td>a or b</td>\n",
       "    </tr>\n",
       "    <tr>\n",
       "      <th>3</th>\n",
       "      <td>not</td>\n",
       "      <td>True if operand is false</td>\n",
       "      <td>not a</td>\n",
       "    </tr>\n",
       "  </tbody>\n",
       "</table>\n",
       "</div>"
      ],
      "text/plain": [
       "  Operator                                Meaning  Example\n",
       "1      and     True if both the operands are true  a and b\n",
       "2       or  True if either of the operand is true   a or b\n",
       "3      not               True if operand is false    not a"
      ]
     },
     "execution_count": 2,
     "metadata": {},
     "output_type": "execute_result"
    }
   ],
   "source": [
    "## Below is code for generating table \n",
    "import pandas as pd\n",
    "Dict1 = {\"Operator\":[\"and\",\"or\",\"not\"]\n",
    "         ,\"Meaning\":[\"True if both the operands are true\",\"True if either of the operand is true\",\"True if operand is false\"]\n",
    "         ,\"Example\":[\"a and b\",\"a or b\",\"not a\"]}\n",
    "df = pd.DataFrame(Dict1, index=[\"1\",\"2\",\"3\"])\n",
    "df"
   ]
  },
  {
   "cell_type": "code",
   "execution_count": null,
   "id": "82c61d20-6efe-4215-9ba5-b208439cf820",
   "metadata": {},
   "outputs": [],
   "source": []
  },
  {
   "cell_type": "markdown",
   "id": "4b9df01b-53a7-423e-ba22-a06eda50b098",
   "metadata": {},
   "source": [
    "#### Q3. Make a list of each Boolean operator's truth tables (i.e. every possible combination of Boolean values for the operator and what it evaluate ).\n",
    "#### Ans - \n",
    "Truth table with 'and', 'or', and 'not' condition are below - "
   ]
  },
  {
   "cell_type": "code",
   "execution_count": 41,
   "id": "b6e838e4-8ff0-4946-a574-a339636a02b1",
   "metadata": {},
   "outputs": [
    {
     "name": "stdout",
     "output_type": "stream",
     "text": [
      "\n",
      "----------------------------\n",
      "Truth table with 'and' condition\n",
      "\n",
      "       a      b a and b\n",
      "1   True   True    True\n",
      "2   True  False   False\n",
      "3  False   True   False\n",
      "4  False  False   False\n",
      "\n",
      "----------------------------\n",
      "Truth table with 'or' condition\n",
      "\n",
      "       a      b a or b\n",
      "1   True   True   True\n",
      "2   True  False   True\n",
      "3  False   True   True\n",
      "4  False  False  False\n",
      "\n",
      "----------------------------\n",
      "Truth table with 'not' condition\n",
      "\n",
      "       a  not a\n",
      "1   True  False\n",
      "2  False   True\n",
      "\n",
      "----------------------------\n"
     ]
    }
   ],
   "source": [
    "### Below is code for generating table\n",
    "import pandas as pd\n",
    "print(\"\")\n",
    "print(\"----------------------------\")\n",
    "print(\"Truth table with 'and' condition\")\n",
    "print(\"\")\n",
    "Dict1 = {\"a\":[\"True\",\"True\"  ,\"False\" ,\"False\"],\n",
    "         \"b\":[\"True\",\"False\" ,\"True\"  ,\"False\"],\n",
    "   \"a and b\":[\"True\",\"False\" ,\"False\" ,\"False\"]}\n",
    "df1 = pd.DataFrame(Dict1, index=[\"1\",\"2\",\"3\",\"4\"])\n",
    "print(df1)\n",
    "print(\"\")\n",
    "print(\"----------------------------\")\n",
    "print(\"Truth table with 'or' condition\")\n",
    "print(\"\")\n",
    "Dict2 = {\"a\":[\"True\",\"True\" ,\"False\",\"False\"],\n",
    "         \"b\":[\"True\",\"False\",\"True\" ,\"False\"],\n",
    "    \"a or b\":[\"True\",\"True\" ,\"True\" ,\"False\"]}\n",
    "df2 = pd.DataFrame(Dict2, index=[\"1\",\"2\",\"3\",\"4\"])\n",
    "print(df2)\n",
    "print(\"\")\n",
    "print(\"----------------------------\")\n",
    "print(\"Truth table with 'not' condition\")\n",
    "print(\"\")\n",
    "Dict3 = {\"a\":[\"True\"  ,\"False\"],         \n",
    "     \"not a\":[\"False\" ,\"True\" ]}\n",
    "df3 = pd.DataFrame(Dict3, index=[\"1\",\"2\"])\n",
    "print(df3)\n",
    "print(\"\")\n",
    "print(\"----------------------------\")"
   ]
  },
  {
   "cell_type": "code",
   "execution_count": null,
   "id": "02214e75-876b-4423-b11d-c152342fc6ce",
   "metadata": {},
   "outputs": [],
   "source": []
  },
  {
   "cell_type": "markdown",
   "id": "bdbd08a3-1357-420e-8de7-daff9e61f4c0",
   "metadata": {},
   "source": [
    "#### Q4. What are the values of the following expressions?\n",
    "(5 > 4) and (3 == 5) \\\n",
    "not (5 > 4) \\\n",
    "(5 > 4) or (3 == 5) \\ \n",
    "not ((5 > 4) or (3 == 5)) \\\n",
    "(True and True) and (True == False) \\\n",
    "(not False) or (not True) \n",
    "\n",
    "\n",
    "#### Ans- \n",
    "The result of above expressions are below - \\\n",
    "\\\n",
    "(5 > 4) and (3 == 5)  =>>> False  \\\n",
    "not (5 > 4)  =>>> False \\\n",
    "(5 > 4) or (3 == 5)  =>>> True \\\n",
    "not ((5 > 4) or (3 == 5))  =>>> False \\\n",
    "(True and True) and (True == False)  =>>> False \\\n",
    "(not False) or (not True)  =>>> True"
   ]
  },
  {
   "cell_type": "code",
   "execution_count": null,
   "id": "66806569-cea4-4df3-974c-027d8a7da271",
   "metadata": {},
   "outputs": [],
   "source": []
  },
  {
   "cell_type": "markdown",
   "id": "55b56cd6-1d1e-4b90-99d2-d55d7f5b6541",
   "metadata": {},
   "source": [
    "#### Q5. What are the six comparison operators?\n",
    "#### Ans - The six comparison operators are as below - \n",
    "  '<'   ----  less than                 ---- a < b \\\n",
    "  '<='  ----  less than or equal to     ---- a <= b \\\n",
    "  '>'   ----  greater than              ---- a > b \\\n",
    "  '>='  ----  greater than or equal to  ---- a >= b \\\n",
    "  '=='  ----  equal ---- a == b \\\n",
    "  '!='  ----  not equal ---- a != b \\"
   ]
  },
  {
   "cell_type": "code",
   "execution_count": null,
   "id": "b068a746-d7b3-4404-aee7-1d3504909d61",
   "metadata": {},
   "outputs": [],
   "source": []
  },
  {
   "cell_type": "markdown",
   "id": "eef0f498-3c4e-4a0a-bcc1-32945efe4dad",
   "metadata": {},
   "source": [
    "#### Q6. How do you tell the difference between the equal to and assignment operators? Describe a condition and when you would use one.\n",
    "#### Ans - \n",
    "Equal to Operator(==): This is used for comparing tow values. If we want to check a condition whether value for two variables are same or not and hence we use equal operator. Lets understand with an example-  \\\n",
    "10 == 20 \\\n",
    "Output is False because we compared 10 with 20 and found that both the value is different. If both the value is same the output will be True. Example is given below.\n",
    "\n",
    "Assignment Operator: This is used for assigning value to a variable. Example is given below. \\\n",
    "a=10\\\n",
    "b=a+20\\\n",
    "Here, value or evaluation of right side expression is assigned to left side operand\n"
   ]
  },
  {
   "cell_type": "code",
   "execution_count": 13,
   "id": "1038ce37-3b70-494e-8048-e1af7d66f456",
   "metadata": {},
   "outputs": [
    {
     "data": {
      "text/plain": [
       "10"
      ]
     },
     "execution_count": 13,
     "metadata": {},
     "output_type": "execute_result"
    }
   ],
   "source": [
    "a=10 ## assigning values to variable a\n",
    "a"
   ]
  },
  {
   "cell_type": "code",
   "execution_count": 14,
   "id": "4be778c4-91e7-485a-90a5-2be5cedb3e50",
   "metadata": {},
   "outputs": [
    {
     "data": {
      "text/plain": [
       "30"
      ]
     },
     "execution_count": 14,
     "metadata": {},
     "output_type": "execute_result"
    }
   ],
   "source": [
    "b=a+20 ## assigning values to variable b\n",
    "b"
   ]
  },
  {
   "cell_type": "code",
   "execution_count": 6,
   "id": "58e04c2f-a623-47ff-bcf1-340864d53403",
   "metadata": {},
   "outputs": [
    {
     "data": {
      "text/plain": [
       "False"
      ]
     },
     "execution_count": 6,
     "metadata": {},
     "output_type": "execute_result"
    }
   ],
   "source": [
    "10==20 ## comparing two values"
   ]
  },
  {
   "cell_type": "code",
   "execution_count": 11,
   "id": "c10eceef-a36b-4f9c-89ce-a8d8ae80bca3",
   "metadata": {},
   "outputs": [
    {
     "data": {
      "text/plain": [
       "True"
      ]
     },
     "execution_count": 11,
     "metadata": {},
     "output_type": "execute_result"
    }
   ],
   "source": [
    "50==50 ## comparing two values"
   ]
  },
  {
   "cell_type": "code",
   "execution_count": 7,
   "id": "fc200b06-e5cb-40d3-93ac-00a715f1d0c6",
   "metadata": {},
   "outputs": [
    {
     "data": {
      "text/plain": [
       "True"
      ]
     },
     "execution_count": 7,
     "metadata": {},
     "output_type": "execute_result"
    }
   ],
   "source": [
    "a=8 ## assigning values to variable a\n",
    "b=8 ## assigning values to variable b \n",
    "a==b ## comparing values"
   ]
  },
  {
   "cell_type": "code",
   "execution_count": 9,
   "id": "8ff1fb3f-27a8-400e-9005-b3e40bb2f524",
   "metadata": {},
   "outputs": [
    {
     "data": {
      "text/plain": [
       "True"
      ]
     },
     "execution_count": 9,
     "metadata": {},
     "output_type": "execute_result"
    }
   ],
   "source": [
    "'xyz' == 'xyz' ## comparing two values"
   ]
  },
  {
   "cell_type": "code",
   "execution_count": 10,
   "id": "69d7f48f-eaf1-4beb-a36e-63cc586e4bf8",
   "metadata": {},
   "outputs": [
    {
     "data": {
      "text/plain": [
       "False"
      ]
     },
     "execution_count": 10,
     "metadata": {},
     "output_type": "execute_result"
    }
   ],
   "source": [
    "'xyz' == 'XYZ' ## comparing two values"
   ]
  },
  {
   "cell_type": "code",
   "execution_count": null,
   "id": "e9a22b0f-5cd9-432c-9d2b-3af6ae4c0eb6",
   "metadata": {},
   "outputs": [],
   "source": []
  },
  {
   "cell_type": "markdown",
   "id": "99221ecf-be40-44e8-8b70-a141d9f2a670",
   "metadata": {},
   "source": [
    "#### Q7. Identify the three blocks in this code:\n",
    "spam = 0\\\n",
    "if spam == 10:\\\n",
    "print('eggs')\\\n",
    "if spam > 5:\\\n",
    "print('bacon')\\\n",
    "else:\\\n",
    "print('ham')\\\n",
    "print('spam')\\\n",
    "print('spam')\\\n",
    "\n",
    "#### Ans - \n"
   ]
  },
  {
   "cell_type": "code",
   "execution_count": 15,
   "id": "e7d84b2d-957b-4634-9afd-0b43993f50bd",
   "metadata": {},
   "outputs": [
    {
     "name": "stdout",
     "output_type": "stream",
     "text": [
      "ham\n",
      "spam\n",
      "spam\n"
     ]
    }
   ],
   "source": [
    "# Three blocks are identified --\n",
    "spam = 0\n",
    "if spam == 10:\n",
    "    print('eggs')\n",
    "if spam > 5:\n",
    "    print('bacon')\n",
    "else:\n",
    "    print('ham')\n",
    "    print('spam')\n",
    "    print('spam')"
   ]
  },
  {
   "cell_type": "code",
   "execution_count": null,
   "id": "0f390d4d-71f2-474a-8e15-47589e001a5f",
   "metadata": {},
   "outputs": [],
   "source": []
  },
  {
   "cell_type": "markdown",
   "id": "2c8da0db-fb9f-4acf-9bc4-ece66202be26",
   "metadata": {},
   "source": [
    "#### Q8. Write code that prints Hello if 1 is stored in spam, prints Howdy if 2 is stored in spam, and prints Greetings! if anything else is stored in spam.\n",
    "#### Ans - "
   ]
  },
  {
   "cell_type": "code",
   "execution_count": 22,
   "id": "0a3140b9-c423-426a-b528-1808f96d561b",
   "metadata": {},
   "outputs": [
    {
     "name": "stdout",
     "output_type": "stream",
     "text": [
      "Greetings!\n"
     ]
    }
   ],
   "source": [
    "#spam = 1  # comment/uncomment for output\n",
    "#spam = 2    # comment/uncomment for output\n",
    "spam = 10    # comment/uncomment for output\n",
    "if spam == 1:\n",
    "    print('Hellow')\n",
    "elif spam == 2:\n",
    "    print('Howdy')\n",
    "else:\n",
    "    print('Greetings!')\n",
    "    "
   ]
  },
  {
   "cell_type": "code",
   "execution_count": null,
   "id": "de52769d-2f74-42cb-a68f-edaeb0622ba2",
   "metadata": {},
   "outputs": [],
   "source": []
  },
  {
   "cell_type": "markdown",
   "id": "0e892b0d-d426-42a2-988a-1766784a4b22",
   "metadata": {},
   "source": [
    "#### Q9. How can you tell the difference between break and continue?\n",
    "#### Ans -"
   ]
  },
  {
   "cell_type": "markdown",
   "id": "ce062973-f2ad-4512-afbd-0cc4d2abad30",
   "metadata": {},
   "source": [
    "#### break statement:-- break statement is used to terminate the loop whenever a particular condition is satisfied.\n",
    "* Here in the below for loop statement, when \"i\" is encountered value equal to 6 break statement has terminated the loop execution "
   ]
  },
  {
   "cell_type": "code",
   "execution_count": 2,
   "id": "8bf0dccc-b806-4d1d-b192-64b5bc230a9b",
   "metadata": {},
   "outputs": [
    {
     "name": "stdout",
     "output_type": "stream",
     "text": [
      "1\n",
      "2\n",
      "3\n",
      "4\n",
      "5\n"
     ]
    }
   ],
   "source": [
    "for i in [1,2,3,4,5,6,7,8,9,10]:\n",
    "    if i==6:\n",
    "        break \n",
    "    print(i)"
   ]
  },
  {
   "cell_type": "markdown",
   "id": "8c627a8a-e821-49b6-82bc-d08b27b1cc29",
   "metadata": {},
   "source": [
    "* Here in the below for loop statement, when \"j\" is encountered value equal to 6 break statement has terminated the inner loop \n",
    "* and when \"i\" becomes equal to 8 then break statement has terminated the outer loop\n",
    "* meaning when break statement is written in any of the loop statement it terminates the loop execution when a particular condition is met"
   ]
  },
  {
   "cell_type": "code",
   "execution_count": 6,
   "id": "57650a78-ed11-456a-aadc-3941db40f4ae",
   "metadata": {},
   "outputs": [
    {
     "name": "stdout",
     "output_type": "stream",
     "text": [
      "1 6\n",
      "2 6\n",
      "3 6\n",
      "4 6\n",
      "5 6\n",
      "6 6\n",
      "7 6\n"
     ]
    }
   ],
   "source": [
    "for i in [1,2,3,4,5,6,7,8,9,10]:\n",
    "    for j in [1,2,3,4,5,6,7,8,9,10]:\n",
    "        if j==6:\n",
    "            break\n",
    "    if i==8:\n",
    "        break\n",
    "    print(i,j)"
   ]
  },
  {
   "cell_type": "markdown",
   "id": "7aad7a23-3aba-41e7-8e1e-9731e09ab1a4",
   "metadata": {},
   "source": [
    "#### continue statement:-- continue statement skips the current iteration when condition is satisfied and continue to run next iteration.\n",
    "* here in the below example, when \"a\" encountered \"E\" skipped the current iteration that's why \"E\" is not printed and continue running next iteration"
   ]
  },
  {
   "cell_type": "code",
   "execution_count": 7,
   "id": "8f4ab298-0d51-4cce-9540-be895b7e7b69",
   "metadata": {},
   "outputs": [
    {
     "name": "stdout",
     "output_type": "stream",
     "text": [
      "A\n",
      "B\n",
      "C\n",
      "D\n",
      "F\n",
      "G\n",
      "H\n",
      "I\n",
      "J\n"
     ]
    }
   ],
   "source": [
    "for a in ['A','B','C','D','E','F','G','H','I','J']:\n",
    "    if a == 'E':\n",
    "        continue\n",
    "    print(a)"
   ]
  },
  {
   "cell_type": "code",
   "execution_count": null,
   "id": "b3e8190c-53c3-4500-b1fd-50cbc36cf61e",
   "metadata": {},
   "outputs": [],
   "source": []
  },
  {
   "cell_type": "markdown",
   "id": "c37c2f0f-e3e2-48cc-bd51-e325d864d9b0",
   "metadata": {},
   "source": [
    "#### Q10. In a for loop, what is the difference between range(10), range(0, 10), and range(0, 10, 1)?\n",
    "#### Ans - \n",
    "#### range() is built in function and create sequence of number by default from index 0.\n",
    "#### range(start, stop, step)\n",
    "\n",
    "In a for loop, if we use any of this statement range(10) or range(0, 10) or range(0, 10, 1), output will be the same. Example is given below - "
   ]
  },
  {
   "cell_type": "code",
   "execution_count": 28,
   "id": "1193c4b5-7beb-4e17-885c-ff75d0285d00",
   "metadata": {},
   "outputs": [
    {
     "name": "stdout",
     "output_type": "stream",
     "text": [
      "0\n",
      "1\n",
      "2\n",
      "3\n",
      "4\n",
      "5\n",
      "6\n",
      "7\n",
      "8\n",
      "9\n"
     ]
    }
   ],
   "source": [
    "for i in range(10):\n",
    "    print(i)"
   ]
  },
  {
   "cell_type": "code",
   "execution_count": 29,
   "id": "f2fa928a-0766-486e-957f-0f1bcfffd662",
   "metadata": {},
   "outputs": [
    {
     "name": "stdout",
     "output_type": "stream",
     "text": [
      "0\n",
      "1\n",
      "2\n",
      "3\n",
      "4\n",
      "5\n",
      "6\n",
      "7\n",
      "8\n",
      "9\n"
     ]
    }
   ],
   "source": [
    "for i in range(0,10):\n",
    "    print(i)"
   ]
  },
  {
   "cell_type": "code",
   "execution_count": 30,
   "id": "a6da1ad2-e3d4-461d-af89-bddc26371693",
   "metadata": {},
   "outputs": [
    {
     "name": "stdout",
     "output_type": "stream",
     "text": [
      "0\n",
      "1\n",
      "2\n",
      "3\n",
      "4\n",
      "5\n",
      "6\n",
      "7\n",
      "8\n",
      "9\n"
     ]
    }
   ],
   "source": [
    "for i in range(0,10,1):\n",
    "    print(i)"
   ]
  },
  {
   "cell_type": "markdown",
   "id": "9c214a98-b5dc-46e9-a45a-000f5b64afee",
   "metadata": {},
   "source": [
    "#### Q11. Write a short program that prints the numbers 1 to 10 using a for loop. Then write an equivalent program that prints the numbers 1 to 10 using a while loop.\n",
    "#### Ans - "
   ]
  },
  {
   "cell_type": "code",
   "execution_count": 24,
   "id": "e8940e49-0d47-4c5d-82b8-e37e2ee515e4",
   "metadata": {},
   "outputs": [
    {
     "name": "stdout",
     "output_type": "stream",
     "text": [
      "1\n",
      "2\n",
      "3\n",
      "4\n",
      "5\n",
      "6\n",
      "7\n",
      "8\n",
      "9\n",
      "10\n"
     ]
    }
   ],
   "source": [
    "## using for loop\n",
    "for i in range(1,11):\n",
    "    print(i)"
   ]
  },
  {
   "cell_type": "code",
   "execution_count": 25,
   "id": "a66bc9bf-62f9-4337-9562-1538eeab824d",
   "metadata": {},
   "outputs": [
    {
     "name": "stdout",
     "output_type": "stream",
     "text": [
      "1\n",
      "2\n",
      "3\n",
      "4\n",
      "5\n",
      "6\n",
      "7\n",
      "8\n",
      "9\n",
      "10\n"
     ]
    }
   ],
   "source": [
    "## using while loop\n",
    "a = 1\n",
    "while a <=10:\n",
    "    print(a)\n",
    "    a=a+1"
   ]
  },
  {
   "cell_type": "code",
   "execution_count": null,
   "id": "9755f839-9941-45ac-9dfa-306d1cc5e797",
   "metadata": {},
   "outputs": [],
   "source": []
  },
  {
   "cell_type": "markdown",
   "id": "ee6141ad-624b-49de-96e5-c70c25cdc01a",
   "metadata": {},
   "source": [
    "#### Q12. If you had a function named bacon() inside a module named spam, how would you call it after importing spam?\n",
    "#### Ans - "
   ]
  },
  {
   "cell_type": "code",
   "execution_count": null,
   "id": "43e2d0f1-9151-438b-8ee3-3596b87ef909",
   "metadata": {},
   "outputs": [],
   "source": [
    "# this is one way directly from using package name\n",
    "import spam\n",
    "spam.bacon()\n",
    "\n",
    "# this is second way by creating alias of package name\n",
    "import spam as sp\n",
    "sp.bacon()"
   ]
  }
 ],
 "metadata": {
  "kernelspec": {
   "display_name": "Python 3 (ipykernel)",
   "language": "python",
   "name": "python3"
  },
  "language_info": {
   "codemirror_mode": {
    "name": "ipython",
    "version": 3
   },
   "file_extension": ".py",
   "mimetype": "text/x-python",
   "name": "python",
   "nbconvert_exporter": "python",
   "pygments_lexer": "ipython3",
   "version": "3.10.6"
  }
 },
 "nbformat": 4,
 "nbformat_minor": 5
}
