{
 "cells": [
  {
   "cell_type": "markdown",
   "id": "64bb646f",
   "metadata": {},
   "source": [
    "### 1. Why are functions advantageous to have in your programs?"
   ]
  },
  {
   "cell_type": "markdown",
   "id": "94ff07c8",
   "metadata": {},
   "source": [
    "### Answer:  \n",
    "If we want to perform a particular task multiple times, then we define a function and call it as and when required in the program. It avoids writing the same logic again and again, removes duplicate work, reduces the length of the code, easy to read and understand, and further updated.\n",
    "\n",
    "======================================================================================"
   ]
  },
  {
   "cell_type": "markdown",
   "id": "0a4ce213",
   "metadata": {},
   "source": [
    "### 2. When does the code in a function run: when it's specified or when it's called?"
   ]
  },
  {
   "cell_type": "markdown",
   "id": "ce581ac5",
   "metadata": {},
   "source": [
    "### Answer:  \n",
    "Code in a function runs when the function is called, not when the function is specified.\n",
    "\n",
    "======================================================================================"
   ]
  },
  {
   "cell_type": "markdown",
   "id": "5bf3df91",
   "metadata": {},
   "source": [
    "### 3. What statement creates a function?"
   ]
  },
  {
   "cell_type": "markdown",
   "id": "1cb18754",
   "metadata": {},
   "source": [
    "### Answer:  \n",
    "Using the \"def\" keyword, a function is created."
   ]
  },
  {
   "cell_type": "code",
   "execution_count": 22,
   "id": "6ce542bd",
   "metadata": {},
   "outputs": [],
   "source": [
    "# Example--\n",
    "def add(a,b):\n",
    "    c=a+b\n",
    "    return c"
   ]
  },
  {
   "cell_type": "markdown",
   "id": "5ea60d13",
   "metadata": {},
   "source": [
    "======================================================================================\n",
    "\n",
    "### 4. What is the difference between a function and a function call?"
   ]
  },
  {
   "cell_type": "markdown",
   "id": "869e466e",
   "metadata": {},
   "source": [
    "### Answer:  \n",
    "A function is a block of code/statement that performs a specific task, while a function call is an expression that invokes a function and executes the code in the function.\n",
    "\n",
    "======================================================================================"
   ]
  },
  {
   "cell_type": "markdown",
   "id": "c7f2e71b",
   "metadata": {},
   "source": [
    "### 5. How many global scopes are there in a Python program? How many local scopes?"
   ]
  },
  {
   "cell_type": "markdown",
   "id": "0a703c0d",
   "metadata": {},
   "source": [
    "### Answer:\n",
    "In a Python program, there is generally one global scope. \n",
    "\n",
    "Each function call creates a new local scope. Therefore, the number of local scopes in a Python program depends on the number of function calls and the nesting of functions\n",
    "\n",
    "======================================================================================"
   ]
  },
  {
   "cell_type": "markdown",
   "id": "369a01e1",
   "metadata": {},
   "source": [
    "### 6. What happens to variables in a local scope when the function call returns?"
   ]
  },
  {
   "cell_type": "markdown",
   "id": "4e4eab8c",
   "metadata": {},
   "source": [
    "### Answer:\n",
    "When a function call in a programming language completes its execution and returns, the local variables that were created within the function's scope are typically destroyed.\n",
    "\n",
    "======================================================================================"
   ]
  },
  {
   "cell_type": "markdown",
   "id": "ce066c91",
   "metadata": {},
   "source": [
    "### 7. What is the concept of a return value? Is it possible to have a return value in an expression?"
   ]
  },
  {
   "cell_type": "markdown",
   "id": "6dcea786",
   "metadata": {},
   "source": [
    "### Answer:\n",
    "The concept of a return value is fundamental in programming and refers to the value that a function provides as output after it has been called and executed.\n",
    "\n",
    "Yes, it's possible to have a return value in an expression."
   ]
  },
  {
   "cell_type": "code",
   "execution_count": 23,
   "id": "37516acf",
   "metadata": {},
   "outputs": [
    {
     "name": "stdout",
     "output_type": "stream",
     "text": [
      "Sum: 7\n"
     ]
    }
   ],
   "source": [
    "def add_numbers(a, b):\n",
    "    c = a + b\n",
    "    return c\n",
    "\n",
    "# Calling the function and storing the return value in a variable\n",
    "x = add_numbers(3, 4)\n",
    "\n",
    "# Printing the result\n",
    "print(\"Sum:\", x)"
   ]
  },
  {
   "cell_type": "code",
   "execution_count": 24,
   "id": "92fef4cc",
   "metadata": {},
   "outputs": [
    {
     "name": "stdout",
     "output_type": "stream",
     "text": [
      "Product + 2: 32\n"
     ]
    }
   ],
   "source": [
    "def multiply_numbers(a, b):\n",
    "    return a * b\n",
    "\n",
    "# Using the return value in an expression\n",
    "x = multiply_numbers(5, 6) + 2\n",
    "\n",
    "# Printing the result\n",
    "print(\"Product + 2:\", x)"
   ]
  },
  {
   "cell_type": "markdown",
   "id": "31b5c43d",
   "metadata": {},
   "source": [
    "======================================================================================\n",
    "\n",
    "### 8. If a function does not have a return statement, what is the return value of a call to that function?\n",
    "\n",
    "### Answer:\n",
    "The return value of a call to that funcion will be None."
   ]
  },
  {
   "cell_type": "code",
   "execution_count": 25,
   "id": "a0413a93",
   "metadata": {},
   "outputs": [
    {
     "name": "stdout",
     "output_type": "stream",
     "text": [
      "3\n",
      "None\n",
      "<class 'NoneType'>\n"
     ]
    }
   ],
   "source": [
    "def add(a,b):\n",
    "    print(a+b)\n",
    "    \n",
    "x=add(1,2)\n",
    "print(x)\n",
    "print(type(x))"
   ]
  },
  {
   "cell_type": "markdown",
   "id": "06542d94",
   "metadata": {},
   "source": [
    "======================================================================================\n",
    "\n",
    "### 9. How do you make a function variable refer to the global variable?"
   ]
  },
  {
   "cell_type": "markdown",
   "id": "2ec3cbe5",
   "metadata": {},
   "source": [
    "### Answer:\n",
    "\n",
    "By useing \"global\" keyword, we can make a function variable referring to the global scope.\n",
    "\n",
    "======================================================================================"
   ]
  },
  {
   "cell_type": "markdown",
   "id": "605d3646",
   "metadata": {},
   "source": [
    "### 10. What is the data type of None?"
   ]
  },
  {
   "cell_type": "markdown",
   "id": "69d01f42",
   "metadata": {},
   "source": [
    "### Answer: \n",
    "Data type of None is NoneType.\n",
    "\n",
    "======================================================================================"
   ]
  },
  {
   "cell_type": "markdown",
   "id": "95fce441",
   "metadata": {},
   "source": [
    "### 11. What does the sentence import areallyourpetsnamederic do?"
   ]
  },
  {
   "cell_type": "markdown",
   "id": "ef747be5",
   "metadata": {},
   "source": [
    "### Answer:\n",
    "It will import the package areallyourpetsnamederic in the program, and we can use functions and properties defined within package areallyourpetsnamederic as per our requirements.\n",
    "\n",
    "======================================================================================"
   ]
  },
  {
   "cell_type": "markdown",
   "id": "39937e0f",
   "metadata": {},
   "source": [
    "### 12. If you had a bacon() feature in a spam module, what would you call it after importing spam?\n",
    "\n",
    "### Answer:\n",
    "\n",
    "import spam\n",
    "\n",
    "spam.bacon()\n",
    "\n",
    "or \n",
    "\n",
    "import spam as sp\n",
    "\n",
    "sp.bacon()\n",
    "\n",
    "======================================================================================"
   ]
  },
  {
   "cell_type": "markdown",
   "id": "d1225212",
   "metadata": {},
   "source": [
    "### 13. What can you do to save a programme from crashing if it encounters an error?"
   ]
  },
  {
   "cell_type": "markdown",
   "id": "cceca459",
   "metadata": {},
   "source": [
    "### Answer: \n",
    "\n",
    "Through exception handling, I'll solve this problem statement. I'll use the try and except block for normal termination of the program.\n",
    "\n",
    "I'll write a statement that may throw an error within the try block and corrosive handling code in the except block to handle the error.\n",
    "\n",
    "======================================================================================"
   ]
  },
  {
   "cell_type": "markdown",
   "id": "c601ddbf",
   "metadata": {},
   "source": [
    "### 14. What is the purpose of the try clause? What is the purpose of the except clause?"
   ]
  },
  {
   "cell_type": "markdown",
   "id": "de88f68e",
   "metadata": {},
   "source": [
    "### Answer: \n",
    "Errors in Python can be of two types, i.e., syntax errors and exceptions. Systanx errors are programmer mistakes that have to be rectified; otherwise, they cause problems in a program, due to which the program will stop execution.\n",
    "On the other hand, exceptions are raised when some internal events occur, which change the normal flow of the program. The Try and Except statement is used to handle exceptions and normally terminates the program.\n",
    "#### try block:\n",
    "Inside the try block, we write code that checks for exceptions or code that may be triggered by an exception. The code runs successfully until no exception occurs.\n",
    "#### except block:\n",
    "We write code inside the except block to handle exceptions raised in the preceding try block.\n",
    "\n",
    "======================================================================================"
   ]
  },
  {
   "cell_type": "code",
   "execution_count": null,
   "id": "dd12a95b",
   "metadata": {},
   "outputs": [],
   "source": []
  }
 ],
 "metadata": {
  "kernelspec": {
   "display_name": "Python 3 (ipykernel)",
   "language": "python",
   "name": "python3"
  },
  "language_info": {
   "codemirror_mode": {
    "name": "ipython",
    "version": 3
   },
   "file_extension": ".py",
   "mimetype": "text/x-python",
   "name": "python",
   "nbconvert_exporter": "python",
   "pygments_lexer": "ipython3",
   "version": "3.10.9"
  }
 },
 "nbformat": 4,
 "nbformat_minor": 5
}
